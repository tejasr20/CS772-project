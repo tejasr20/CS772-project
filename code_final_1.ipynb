{
 "cells": [
  {
   "cell_type": "code",
   "execution_count": 10,
   "metadata": {},
   "outputs": [
    {
     "name": "stdout",
     "output_type": "stream",
     "text": [
      "Requirement already satisfied: seaborn in /Users/tejasr/opt/anaconda3/envs/pytorch/lib/python3.9/site-packages (0.13.2)\n",
      "Requirement already satisfied: numpy!=1.24.0,>=1.20 in /Users/tejasr/opt/anaconda3/envs/pytorch/lib/python3.9/site-packages (from seaborn) (1.25.2)\n",
      "Requirement already satisfied: pandas>=1.2 in /Users/tejasr/opt/anaconda3/envs/pytorch/lib/python3.9/site-packages (from seaborn) (2.1.0)\n",
      "Requirement already satisfied: matplotlib!=3.6.1,>=3.4 in /Users/tejasr/opt/anaconda3/envs/pytorch/lib/python3.9/site-packages (from seaborn) (3.6.3)\n",
      "Requirement already satisfied: contourpy>=1.0.1 in /Users/tejasr/opt/anaconda3/envs/pytorch/lib/python3.9/site-packages (from matplotlib!=3.6.1,>=3.4->seaborn) (1.0.7)\n",
      "Requirement already satisfied: cycler>=0.10 in /Users/tejasr/opt/anaconda3/envs/pytorch/lib/python3.9/site-packages (from matplotlib!=3.6.1,>=3.4->seaborn) (0.11.0)\n",
      "Requirement already satisfied: fonttools>=4.22.0 in /Users/tejasr/opt/anaconda3/envs/pytorch/lib/python3.9/site-packages (from matplotlib!=3.6.1,>=3.4->seaborn) (4.38.0)\n",
      "Requirement already satisfied: kiwisolver>=1.0.1 in /Users/tejasr/opt/anaconda3/envs/pytorch/lib/python3.9/site-packages (from matplotlib!=3.6.1,>=3.4->seaborn) (1.4.4)\n",
      "Requirement already satisfied: packaging>=20.0 in /Users/tejasr/opt/anaconda3/envs/pytorch/lib/python3.9/site-packages (from matplotlib!=3.6.1,>=3.4->seaborn) (21.3)\n",
      "Requirement already satisfied: pillow>=6.2.0 in /Users/tejasr/opt/anaconda3/envs/pytorch/lib/python3.9/site-packages (from matplotlib!=3.6.1,>=3.4->seaborn) (8.4.0)\n",
      "Requirement already satisfied: pyparsing>=2.2.1 in /Users/tejasr/opt/anaconda3/envs/pytorch/lib/python3.9/site-packages (from matplotlib!=3.6.1,>=3.4->seaborn) (3.0.9)\n",
      "Requirement already satisfied: python-dateutil>=2.7 in /Users/tejasr/opt/anaconda3/envs/pytorch/lib/python3.9/site-packages (from matplotlib!=3.6.1,>=3.4->seaborn) (2.8.2)\n",
      "Requirement already satisfied: pytz>=2020.1 in /Users/tejasr/opt/anaconda3/envs/pytorch/lib/python3.9/site-packages (from pandas>=1.2->seaborn) (2023.3.post1)\n",
      "Requirement already satisfied: tzdata>=2022.1 in /Users/tejasr/opt/anaconda3/envs/pytorch/lib/python3.9/site-packages (from pandas>=1.2->seaborn) (2023.3)\n",
      "Requirement already satisfied: six>=1.5 in /Users/tejasr/opt/anaconda3/envs/pytorch/lib/python3.9/site-packages (from python-dateutil>=2.7->matplotlib!=3.6.1,>=3.4->seaborn) (1.16.0)\n",
      "\n",
      "\u001b[1m[\u001b[0m\u001b[34;49mnotice\u001b[0m\u001b[1;39;49m]\u001b[0m\u001b[39;49m A new release of pip is available: \u001b[0m\u001b[31;49m23.2.1\u001b[0m\u001b[39;49m -> \u001b[0m\u001b[32;49m24.0\u001b[0m\n",
      "\u001b[1m[\u001b[0m\u001b[34;49mnotice\u001b[0m\u001b[1;39;49m]\u001b[0m\u001b[39;49m To update, run: \u001b[0m\u001b[32;49mpip install --upgrade pip\u001b[0m\n",
      "Requirement already satisfied: torchviz in /Users/tejasr/opt/anaconda3/envs/pytorch/lib/python3.9/site-packages (0.0.2)\n",
      "Requirement already satisfied: torch in /Users/tejasr/opt/anaconda3/envs/pytorch/lib/python3.9/site-packages (from torchviz) (1.10.1)\n",
      "Requirement already satisfied: graphviz in /Users/tejasr/opt/anaconda3/envs/pytorch/lib/python3.9/site-packages (from torchviz) (0.20.3)\n",
      "Requirement already satisfied: typing_extensions in /Users/tejasr/opt/anaconda3/envs/pytorch/lib/python3.9/site-packages (from torch->torchviz) (3.10.0.2)\n",
      "\n",
      "\u001b[1m[\u001b[0m\u001b[34;49mnotice\u001b[0m\u001b[1;39;49m]\u001b[0m\u001b[39;49m A new release of pip is available: \u001b[0m\u001b[31;49m23.2.1\u001b[0m\u001b[39;49m -> \u001b[0m\u001b[32;49m24.0\u001b[0m\n",
      "\u001b[1m[\u001b[0m\u001b[34;49mnotice\u001b[0m\u001b[1;39;49m]\u001b[0m\u001b[39;49m To update, run: \u001b[0m\u001b[32;49mpip install --upgrade pip\u001b[0m\n"
     ]
    }
   ],
   "source": [
    "import torch\n",
    "import torchvision\n",
    "import torchvision.transforms as transforms\n",
    "import torch.nn as nn\n",
    "import torch.optim as optim\n",
    "import pandas as pd\n",
    "from torchvision.models import resnet50\n",
    "from torch.utils.data import DataLoader\n",
    "from sklearn.metrics import accuracy_score\n",
    "import random\n",
    "\n",
    "from tqdm import tqdm\n",
    "import numpy as np\n",
    "from sklearn.metrics import confusion_matrix,ConfusionMatrixDisplay\n",
    "import matplotlib.pyplot as plt\n",
    "import torch.nn.functional as F\n",
    "from torch.utils.data import TensorDataset, DataLoader\n",
    "!pip install seaborn\n",
    "import seaborn as sns\n",
    "# Define data loaders\n",
    "from torch.utils.data import DataLoader, random_split,  Subset\n",
    "import copy\n",
    "import pickle\n",
    "# torch.backends.nnpack.enabled = False\n",
    "\n",
    "# Define preprocessing transformations\n",
    "import os\n",
    "!pip install torchviz\n",
    "from torchviz import make_dot\n",
    "seed=18\n",
    "random.seed(seed)\n",
    "torch.manual_seed(seed)\n",
    "np.random.seed(seed)"
   ]
  },
  {
   "attachments": {},
   "cell_type": "markdown",
   "metadata": {},
   "source": [
    "### Model architecture for training MNIST"
   ]
  },
  {
   "cell_type": "code",
   "execution_count": 11,
   "metadata": {},
   "outputs": [],
   "source": [
    "class MNIST_CNN(nn.Module):\n",
    "    def __init__(self):\n",
    "        super(MNIST_CNN, self).__init__()\n",
    "        # Define convolutional layers\n",
    "        self.conv1 = nn.Conv2d(1, 32, kernel_size=3)  # 1 input channel, 32 output channels, 3x3 kernel\n",
    "        self.conv2 = nn.Conv2d(32, 32, kernel_size=3)  # 32 input channels, 32 output channels, 3x3 kernel\n",
    "        self.conv3 = nn.Conv2d(32, 64, kernel_size=3)  # 32 input channels, 64 output channels, 3x3 kernel\n",
    "        self.conv4 = nn.Conv2d(64, 64, kernel_size=3)  # 64 input channels, 64 output channels, 3x3 kernel\n",
    "        \n",
    "        # Define max pooling layer\n",
    "        self.pool = nn.MaxPool2d(kernel_size=2, stride=2)  # 2x2 max pooling with stride 2\n",
    "        \n",
    "        # Define global average pooling layer\n",
    "        self.global_pool = nn.AdaptiveAvgPool2d(1)  # Global Average Pooling\n",
    "        \n",
    "        # Define fully connected layer\n",
    "        self.fc = nn.Linear(64, 10)  # 64 input features, 10 output classes\n",
    "\n",
    "    def forward(self, x):\n",
    "        # Apply convolution and ReLU activation\n",
    "        x = nn.functional.relu(self.conv1(x))\n",
    "        x = nn.functional.relu(self.conv2(x))\n",
    "        # Apply max pooling\n",
    "        x = self.pool(x)\n",
    "        x = nn.functional.relu(self.conv3(x))\n",
    "        x = nn.functional.relu(self.conv4(x))\n",
    "        # Apply global average pooling\n",
    "        x = self.global_pool(x)\n",
    "        # Flatten for fully connected layer\n",
    "        x = x.view(-1, 64)\n",
    "        # Fully connected layer\n",
    "        x = self.fc(x)\n",
    "        return x\n",
    "\t    \n",
    "    def log_prob(self, x):\n",
    "        # Compute the logits using the forward pass\n",
    "        logits = self.forward(x)\n",
    "        # Compute the log probability using softmax and log\n",
    "        log_probabilities = F.log_softmax(logits, dim=1) # torch.nn.functional\n",
    "        return log_probabilities"
   ]
  },
  {
   "cell_type": "code",
   "execution_count": 12,
   "metadata": {},
   "outputs": [
    {
     "data": {
      "text/plain": [
       "'MNIST_CNN_model.png'"
      ]
     },
     "execution_count": 12,
     "metadata": {},
     "output_type": "execute_result"
    }
   ],
   "source": [
    "# Create an instance of the model\n",
    "model = MNIST_CNN()\n",
    "\n",
    "# Dummy input\n",
    "dummy_input = torch.rand(1, 1, 28, 28)\n",
    "\n",
    "# Create a graph of the model\n",
    "graph = make_dot(model(dummy_input), params=dict(model.named_parameters()))\n",
    "\n",
    "# Save the graph to a file\n",
    "graph.render(\"MNIST_CNN_model\", format=\"png\")"
   ]
  },
  {
   "attachments": {},
   "cell_type": "markdown",
   "metadata": {},
   "source": [
    "### Function used for training the model:"
   ]
  },
  {
   "cell_type": "code",
   "execution_count": 13,
   "metadata": {},
   "outputs": [],
   "source": [
    "def train_with_early_stopping(trainloader, valloader, testloader, model, optimizer, criterion, patience=5):\n",
    "    best_val_accuracy = 0\n",
    "    no_improvement_counter = 0\n",
    "\n",
    "    for epoch in range(100):  # Maximum of 100 epochs\n",
    "        # Train the model\n",
    "        model.train()\n",
    "        for inputs, labels in trainloader:\n",
    "            optimizer.zero_grad()\n",
    "            outputs = model(inputs)\n",
    "            loss = criterion(outputs, labels)\n",
    "            loss.backward()\n",
    "            optimizer.step()\n",
    "\n",
    "        # Validate the model\n",
    "        model.eval()\n",
    "        val_predictions = []\n",
    "        val_true_labels = []\n",
    "\n",
    "        with torch.no_grad():\n",
    "            for inputs, labels in valloader:\n",
    "                outputs = model(inputs)\n",
    "                _, predicted = torch.max(outputs, 1) # torch.max returns both the maximum values and their indices\n",
    "                val_predictions.extend(predicted.numpy())\n",
    "                val_true_labels.extend(labels.numpy())\n",
    "\n",
    "        # Calculate validation accuracy\n",
    "        val_accuracy = accuracy_score(val_true_labels, val_predictions)\n",
    "        print(f\"Epoch {epoch + 1}: Validation Accuracy: {val_accuracy}\")\n",
    "\n",
    "        # Check for improvement in validation accuracy\n",
    "        if val_accuracy > best_val_accuracy:\n",
    "            best_val_accuracy = val_accuracy\n",
    "            no_improvement_counter = 0\n",
    "        else:\n",
    "            no_improvement_counter += 1\n",
    "            if no_improvement_counter >= patience:\n",
    "                print(f\"No improvement for {patience} epochs. Early stopping...\")\n",
    "                break\n",
    "\n",
    "    # Evaluate on the test set after training\n",
    "    model.eval()\n",
    "    test_predictions = []\n",
    "    test_true_labels = []\n",
    "\n",
    "    with torch.no_grad():\n",
    "        for inputs, labels in testloader: # batch wise for loop. \n",
    "            outputs = model(inputs)\n",
    "            _, predicted = torch.max(outputs, 1)\n",
    "            test_predictions.extend(predicted.numpy())\n",
    "            test_true_labels.extend(labels.numpy())\n",
    "\n",
    "    # Calculate accuracy on the test set\n",
    "    test_accuracy = accuracy_score(test_true_labels, test_predictions)\n",
    "    print(f\"Test Accuracy: {test_accuracy}\")\n",
    "\n",
    "    return test_accuracy"
   ]
  },
  {
   "attachments": {},
   "cell_type": "markdown",
   "metadata": {},
   "source": [
    "### Loading MNIST data\n",
    "We use only a 3000 size trainset to make the problem more challenging"
   ]
  },
  {
   "cell_type": "code",
   "execution_count": 14,
   "metadata": {},
   "outputs": [
    {
     "name": "stdout",
     "output_type": "stream",
     "text": [
      "3000\n"
     ]
    }
   ],
   "source": [
    "# Define the root directory for data\n",
    "data_root = './data'\n",
    "\n",
    "# Define preprocessing transformations\n",
    "transform = transforms.Compose([\n",
    "    transforms.ToTensor(),  # Convert image to PyTorch tensor\n",
    "    transforms.Normalize((0.5,), (0.5,))  # Normalize pixel values to the range [-1, 1]\n",
    "])\n",
    "\n",
    "# Check if MNIST dataset is already downloaded, if not, download it\n",
    "if not os.path.exists(os.path.join(data_root, 'MNIST')):\n",
    "    mnist_trainset = torchvision.datasets.MNIST(root=data_root, train=True, download=True, transform=transform)\n",
    "    mnist_testset = torchvision.datasets.MNIST(root=data_root, train=False, download=True, transform=transform)\n",
    "else:\n",
    "    mnist_trainset = torchvision.datasets.MNIST(root=data_root, train=True, download=False, transform=transform)\n",
    "    mnist_testset = torchvision.datasets.MNIST(root=data_root, train=False, download=False, transform=transform)\n",
    "\n",
    "def stratified_sample(dataset, n_samples_per_class):\n",
    "    labels = dataset.targets.numpy()\n",
    "    classes = np.unique(labels)\n",
    "    \n",
    "    selected_indices = []\n",
    "    for cls in classes:\n",
    "        cls_indices = np.where(labels == cls)[0]\n",
    "        selected_cls_indices = np.random.choice(cls_indices, size=n_samples_per_class, replace=False)\n",
    "        selected_indices.extend(selected_cls_indices)\n",
    "    \n",
    "    return selected_indices\n",
    "n_samples_per_class = 300\n",
    "selected_indices = stratified_sample(mnist_trainset, n_samples_per_class)\n",
    "mnist_trainset = torch.utils.data.Subset(mnist_trainset, selected_indices)\n",
    "# Initialize models and optimizer\n",
    "mnist_model = MNIST_CNN()\n",
    "mnist_optimizer = optim.Adam(mnist_model.parameters(), lr=1e-3, betas=(0.9, 0.999))\n",
    "criterion = nn.CrossEntropyLoss() # multiclassification- also needed for FGSM attack \n",
    "train_size_mnist = int(0.9 * len(mnist_trainset))\n",
    "print(len(mnist_trainset))\n",
    "indices = torch.randperm(len(mnist_trainset)).tolist()\n",
    "train_indices, val_indices = indices[:train_size_mnist], indices[train_size_mnist:]\n",
    "# Create subsets of the list and the dataset\n",
    "mnist_valset = torch.utils.data.Subset(mnist_trainset, val_indices)\n",
    "mnist_trainset = torch.utils.data.Subset(mnist_trainset, train_indices)\n",
    "# Define data loaders for training, validation, and testing\n",
    "mnist_trainloader = DataLoader(mnist_trainset, batch_size=64, shuffle=True)\n",
    "mnist_valloader = DataLoader(mnist_valset, batch_size=64, shuffle=False)  # No need to shuffle the validation set\n",
    "mnist_testloader = DataLoader(mnist_testset, batch_size=64, shuffle=False)"
   ]
  },
  {
   "attachments": {},
   "cell_type": "markdown",
   "metadata": {},
   "source": [
    "### Visualization of poisoning methods:"
   ]
  },
  {
   "attachments": {},
   "cell_type": "markdown",
   "metadata": {},
   "source": [
    "1) Annotation noise<br>\n",
    "2) Random Input noise <br>\n",
    "3) Adversarial poisoning<br>"
   ]
  },
  {
   "attachments": {},
   "cell_type": "markdown",
   "metadata": {},
   "source": [
    "1) Adding label noise to the dataset: Using an example confusion matrix as defined in the paper "
   ]
  },
  {
   "cell_type": "code",
   "execution_count": 15,
   "metadata": {},
   "outputs": [
    {
     "name": "stdout",
     "output_type": "stream",
     "text": [
      "[[1.  0.  0.  0.  0.  0.  0.  0.  0.  0. ]\n",
      " [0.  0.6 0.  0.  0.  0.  0.  0.4 0.  0. ]\n",
      " [0.  0.  1.  0.  0.  0.  0.  0.  0.  0. ]\n",
      " [0.  0.  0.  1.  0.  0.  0.  0.  0.  0. ]\n",
      " [0.  0.  0.  0.  1.  0.  0.  0.  0.  0. ]\n",
      " [0.  0.  0.  0.  0.  1.  0.  0.  0.  0. ]\n",
      " [0.  0.  0.  0.  0.  0.  0.7 0.  0.  0.3]\n",
      " [0.  0.4 0.  0.  0.  0.  0.  0.6 0.  0. ]\n",
      " [0.  0.  0.  0.  0.  0.  0.  0.  1.  0. ]\n",
      " [0.  0.  0.  0.  0.  0.  0.3 0.  0.  0.7]]\n"
     ]
    }
   ],
   "source": [
    "# MNIST confusion matrix\n",
    "# Initialize a 10x10 confusion matrix with ones on the diagonal\n",
    "mnist_cm = np.eye(10)\n",
    "# Set misclassification probabilities\n",
    "mnist_cm[1, 1] = 0.6 \n",
    "mnist_cm[7, 7] = 0.6  \n",
    "mnist_cm[1, 7] = 0.4  # Probability of misclassifying label 1 as label 7\n",
    "mnist_cm[7, 1] = 0.4  # Probability of misclassifying label 7 as label 1\n",
    "mnist_cm[6, 6] = 0.7  \n",
    "mnist_cm[9, 9] = 0.7  \n",
    "mnist_cm[6, 9] = 0.3  # Probability of misclassifying label 6 as label 9\n",
    "mnist_cm[9, 6] = 0.3  # Probability of misclassifying label 9 as label 6\n",
    "print(mnist_cm)"
   ]
  },
  {
   "cell_type": "code",
   "execution_count": 16,
   "metadata": {},
   "outputs": [
    {
     "name": "stdout",
     "output_type": "stream",
     "text": [
      "10000\n",
      "{0: 0, 1: 435, 2: 0, 3: 0, 4: 0, 5: 0, 6: 292, 7: 418, 8: 0, 9: 300}\n"
     ]
    }
   ],
   "source": [
    "def flip_labels(dataloader, cm):\n",
    "    noisy_labels = []\n",
    "    misclassifcn_dict= {i: 0 for i in range(10)}\n",
    "    for _, labels in dataloader:\n",
    "        for label in labels:\n",
    "            # Randomly flip the label according to the confusion matrix\n",
    "            noisy_label = np.random.choice(np.arange(len(cm)), p=cm[label])\n",
    "            if(noisy_label!=label):\n",
    "                # print(label.shape, label)\n",
    "                misclassifcn_dict[int(label.numpy())]+=1 # label is a tensor so conversion is needed to access dict keys\n",
    "            noisy_labels.append(noisy_label)\n",
    "\t\t\t\t\t\t\n",
    "    return noisy_labels, misclassifcn_dict\n",
    "\n",
    "# Apply noise to the training labels\n",
    "noisy_mnist_labels, missclassfcn_dict = flip_labels(mnist_testloader, mnist_cm)\n",
    "# using these noisy labels will be equivalent to adding annotation noise\n",
    "print(len(noisy_mnist_labels))\n",
    "print(missclassfcn_dict)"
   ]
  },
  {
   "cell_type": "code",
   "execution_count": 17,
   "metadata": {},
   "outputs": [
    {
     "data": {
      "image/png": "[encoded data removed]",
      "text/plain": [
       "<Figure size 720x432 with 1 Axes>"
      ]
     },
     "metadata": {
      "needs_background": "light"
     },
     "output_type": "display_data"
    }
   ],
   "source": [
    "def plot_histogram(misclassfcn_dict, label_names=None):\n",
    "    if label_names is None:\n",
    "        label_names = [str(i) for i in range(10)]\n",
    "    plt.figure(figsize=(10, 6))\n",
    "    bins = np.arange(len(label_names) + 1)  # Define bin edges\n",
    "    width = 0.35  # Width of each bar\n",
    "    for idx, (label, freq) in enumerate(misclassfcn_dict.items()):\n",
    "        plt.bar(idx, freq, width, label=label_names[label], color='blue')\n",
    "    plt.xlabel('Classes')\n",
    "    plt.ylabel('Count')\n",
    "    plt.title('Misclassification Distribution')\n",
    "    plt.xticks(np.arange(len(label_names)), label_names, rotation=45, ha='right')\n",
    "    # plt.legend()\n",
    "    plt.grid(axis='y', linestyle='--', alpha=0.7)\n",
    "    plt.tight_layout()\n",
    "    plt.show()\n",
    "\n",
    "# Plot histogram\n",
    "plot_histogram(misclassfcn_dict=missclassfcn_dict)"
   ]
  },
  {
   "cell_type": "code",
   "execution_count": 18,
   "metadata": {},
   "outputs": [
    {
     "data": {
      "image/png": "[encoded data removed]",
      "text/plain": [
       "<Figure size 864x288 with 3 Axes>"
      ]
     },
     "metadata": {
      "needs_background": "light"
     },
     "output_type": "display_data"
    }
   ],
   "source": [
    "# Define a function to display images with labels\n",
    "def display_images_with_noisy_labels(test_loader, noisy_labels, num_images=3):\n",
    "    fig, axes = plt.subplots(1, num_images, figsize=(12, 4))\n",
    "    count = 0\n",
    "    for images, labels in test_loader:\n",
    "        for i in range(len(images)):\n",
    "            if labels[i] != noisy_labels[i] and count < num_images:\n",
    "                axes[count].imshow(images[i].squeeze(), cmap='gray')\n",
    "                axes[count].set_title(f'Noisy Label: {noisy_labels[i]}')\n",
    "                axes[count].axis('off')\n",
    "                count += 1\n",
    "    plt.show()\n",
    "\n",
    "# Display the images with their noisy labels\n",
    "display_images_with_noisy_labels(mnist_testloader, noisy_mnist_labels, num_images=3)"
   ]
  },
  {
   "cell_type": "code",
   "execution_count": 19,
   "metadata": {},
   "outputs": [],
   "source": [
    "# Define the root directory for data\n",
    "data_root = './data'\n",
    "# Define preprocessing transformations\n",
    "transform1 = transforms.Compose([\n",
    "    transforms.ToTensor(),  # Convert image to PyTorch tensor\n",
    "])\n",
    "\n",
    "mnist_trainset1 = torchvision.datasets.MNIST(root=data_root, train=True, download=False, transform=transform1)\n",
    "mnist_testset1 = torchvision.datasets.MNIST(root=data_root, train=False, download=False, transform=transform1)\n"
   ]
  },
  {
   "attachments": {},
   "cell_type": "markdown",
   "metadata": {},
   "source": [
    "2) Random input noise"
   ]
  },
  {
   "cell_type": "code",
   "execution_count": 20,
   "metadata": {},
   "outputs": [
    {
     "name": "stdout",
     "output_type": "stream",
     "text": [
      "Label: 7)\n"
     ]
    },
    {
     "data": {
      "image/png": "[encoded data removed]",
      "text/plain": [
       "<Figure size 576x216 with 2 Axes>"
      ]
     },
     "metadata": {
      "needs_background": "light"
     },
     "output_type": "display_data"
    },
    {
     "name": "stdout",
     "output_type": "stream",
     "text": [
      "Label: 1)\n"
     ]
    },
    {
     "data": {
      "image/png": "[encoded data removed]",
      "text/plain": [
       "<Figure size 576x216 with 2 Axes>"
      ]
     },
     "metadata": {
      "needs_background": "light"
     },
     "output_type": "display_data"
    }
   ],
   "source": [
    "# inages of both the datasets are constrained between 0 and 1, with 0 meaning black. \n",
    "def input_noise(dataset, classes, gamma=0.3, mode=\"Gaussian\", num_examples=2):\n",
    "    assert mode in [\"Salt and Pepper\", \"Gaussian\"], \"Mode must be either 'Salt and Pepper' or 'Gaussian'\"\n",
    "    assert 0 <= gamma <= 1, \"Gamma must be in the range [0, 1]\"\n",
    "    noisy_images = []\n",
    "    bar = 0\n",
    "    for idx in range(len(dataset)):\n",
    "        image, label = dataset[idx]\n",
    "        if label in classes:\n",
    "                temp = image.clone()  # Create a copy of the image tensor\n",
    "                noisy_image = None\n",
    "                if np.random.rand() < gamma:  # Apply noise with probability gamma\n",
    "                    if mode == \"Salt and Pepper\":\n",
    "                        noisy_image = add_salt_and_pepper_noise(temp)\n",
    "                    elif mode == \"Gaussian\":\n",
    "                        noisy_image = add_gaussian_noise(temp)\n",
    "                    if bar < num_examples:\n",
    "                        # Print the original and noisy images for a few examples\n",
    "                        print(\"Label: {})\".format(label))\n",
    "                        show_images_in_one_row(temp, noisy_image)\n",
    "                        bar += 1\n",
    "                else:\n",
    "                    noisy_image = temp\n",
    "        else:\n",
    "                temp = image\n",
    "                noisy_image = temp\n",
    "                \n",
    "        noisy_images.append(noisy_image)\n",
    "    return noisy_images\n",
    "\n",
    "def add_salt_and_pepper_noise(image):\n",
    "    noisy_image = image.clone()\n",
    "    mask = torch.rand_like(image) < 0.9 # Salt and pepper noise with equal probability\n",
    "    noisy_image[mask] = 0\n",
    "    return noisy_image\n",
    "\n",
    "def add_gaussian_noise(image):\n",
    "    noisy_image = image.clone()\n",
    "    noise = torch.randn_like(image) # Standard deviation of 25 for Gaussian noise\n",
    "    noisy_image += noise\n",
    "    noisy_image = torch.clamp(noisy_image, 0, 1)\n",
    "    return noisy_image\n",
    "\n",
    "def show_images_in_one_row(image1, image2):\n",
    "    plt.figure(figsize=(8, 3))\n",
    "    if image1.shape[0] == 3:  # RGB image\n",
    "        plt.subplot(1, 2, 1)\n",
    "        plt.imshow(image1.permute(1, 2, 0))  # Permute to move channel dimension to the last\n",
    "        plt.axis('off')\n",
    "        plt.subplot(1, 2, 2)\n",
    "        plt.imshow(image2.permute(1, 2, 0))\n",
    "        plt.axis('off')\n",
    "    else:  # Grayscale image\n",
    "        plt.subplot(1, 2, 1)\n",
    "        plt.imshow(image1.squeeze(), cmap='gray')\n",
    "        plt.axis('off')\n",
    "        plt.subplot(1, 2, 2)\n",
    "        plt.imshow(image2.squeeze(), cmap='gray')\n",
    "        plt.axis('off')\n",
    "    plt.show()\n",
    "\n",
    "noisy_images = input_noise(mnist_testset1, [1, 7, 6, 9], gamma=0.4, mode=\"Salt and Pepper\", num_examples=2)"
   ]
  },
  {
   "attachments": {},
   "cell_type": "markdown",
   "metadata": {},
   "source": [
    "3) Adversarial attack using FGSM"
   ]
  },
  {
   "attachments": {},
   "cell_type": "markdown",
   "metadata": {},
   "source": [
    "FGSM: fast gradient sign method attack, which is a white box attack whose goal is to ensure misclassification. A white box attack is where the attacker has complete access to the model being attacked. The fast gradient sign method works by using the gradients of the neural network to create an adversarial example. For an input image, the method uses the gradients of the loss with respect to the input image to create a new image that maximises the loss. This new image is called the adversarial image. Gradients are taken with respect to the input image. <br>\n",
    "$adv_x = x + \\epsilon * \\text{sign}(\\nabla_x J(\\theta, x, y))$\n",
    "where:<br>\n",
    "- $adv_x$: Adversarial image.\n",
    "- x: Original input image.\n",
    "- y: Original input label.\n",
    "- $\\epsilon$: Multiplier to ensure the perturbations are small.\n",
    "- $\\theta$: Model parameters.\n",
    "- J: Loss.\n",
    "\n",
    "A small perturbation is added to the original input image x in the direction that maximizes the loss function J, subject to a constraint controlled by the multiplier $\\epsilon$. (for more details see [here](https://www.tensorflow.org/tutorials/generative/adversarial_fgsm))\n"
   ]
  },
  {
   "cell_type": "code",
   "execution_count": 21,
   "metadata": {},
   "outputs": [
    {
     "name": "stdout",
     "output_type": "stream",
     "text": [
      "Original (Label: 1)\n"
     ]
    },
    {
     "data": {
      "image/png": "[encoded data removed]",
      "text/plain": [
       "<Figure size 576x216 with 2 Axes>"
      ]
     },
     "metadata": {
      "needs_background": "light"
     },
     "output_type": "display_data"
    },
    {
     "name": "stdout",
     "output_type": "stream",
     "text": [
      "Original (Label: 9)\n"
     ]
    },
    {
     "data": {
      "image/png": "[encoded data removed]",
      "text/plain": [
       "<Figure size 576x216 with 2 Axes>"
      ]
     },
     "metadata": {
      "needs_background": "light"
     },
     "output_type": "display_data"
    },
    {
     "name": "stdout",
     "output_type": "stream",
     "text": [
      "Original (Label: 9)\n"
     ]
    },
    {
     "data": {
      "image/png": "[encoded data removed]",
      "text/plain": [
       "<Figure size 576x216 with 2 Axes>"
      ]
     },
     "metadata": {
      "needs_background": "light"
     },
     "output_type": "display_data"
    }
   ],
   "source": [
    "# Function to craft adversarial examples using FGSM\n",
    "def fgsm_attack(model, image, label, epsilon=0.1):\n",
    "    image.requires_grad = True # need to store gradients of images \n",
    "    # print(image.shape) (1, 28, 28)\n",
    "    image1= image.unsqueeze(0)\n",
    "    # print(image1.shape) (1, 1, 28, 28)\n",
    "    label1= torch.tensor(label).unsqueeze(0) # label is initially an integer, need to convert to tensor before passing to loss. \n",
    "    # print(label1.shape)\n",
    "    outputs = model(image1) # This is a probability distribution over the ten classes, needed for loss\n",
    "    loss = criterion(outputs, label1)\n",
    "    model.zero_grad()\n",
    "    loss.backward()\n",
    "    data_grad = image.grad.data\n",
    "    noise=  epsilon * torch.sign(data_grad)\n",
    "    perturbed_image = image + noise\n",
    "    perturbed_image = torch.clamp(perturbed_image, 0, 1)  # Clip perturbed data to [0, 1] range\n",
    "    perturbed_label= int(model(perturbed_image.unsqueeze(0)).argmax(1)) # find the label predicted for the adversarial image. \n",
    "    image.requires_grad = False # detaching from gradient calculation\n",
    "    # perturbed_image.requires_grad = False : cannot be done, only leaf nodes can be attached/detached\n",
    "    return image, noise, perturbed_image, perturbed_label\n",
    "\n",
    "\n",
    "# Function to apply adversarial perturbations to create new poisoned data\n",
    "def adversarial_poisoning(dataset, classes, victim_model, epsilon=0.2, contamination_rate=0.3, num_examples= 3):\n",
    "    poisoned_data = []\n",
    "    bar= 0\n",
    "    dataset_new= copy.deepcopy(dataset) # operate on a clone of the images. \n",
    "    for idx in range(len(dataset_new)): #batchwise loop\n",
    "        image, label= dataset_new[idx]\n",
    "        if label in classes and np.random.rand()<contamination_rate:\t#contaminate from the given classes with a probability 0.3\n",
    "            image, noise, perturbed_image, perturbed_label = fgsm_attack(victim_model, image, label, epsilon)  # images are cloned. \n",
    "            if bar < num_examples:\n",
    "                        # Print the original and noisy images for a few examples\n",
    "                        print(\"Original (Label: {})\".format(label))\n",
    "                        show_images_in_one_row(image, perturbed_image)\n",
    "                        bar += 1\n",
    "            poisoned_data.append((perturbed_image, label))\n",
    "    return poisoned_data\n",
    "\n",
    "\n",
    "def show_images_in_one_row(image1, image2):\n",
    "    # print(image1.shape, image2.shape)\n",
    "    plt.figure(figsize=(8, 3))\n",
    "    if image1.shape[0] == 3:  # RGB image\n",
    "        plt.subplot(1, 2, 1)\n",
    "        plt.imshow(image1.permute(1, 2, 0))  # Permute to move channel dimension to the last\n",
    "        plt.axis('off')\n",
    "        plt.subplot(1, 2, 2)\n",
    "        plt.imshow(image2.permute(1, 2, 0))\n",
    "        plt.axis('off')\n",
    "    else:  # Grayscale image\n",
    "        plt.subplot(1, 2, 1)\n",
    "        plt.imshow(image1.detach().squeeze(), cmap='gray') # detach used because error in squeezing when we're still calculatiing grads? \n",
    "        plt.axis('off')\n",
    "        plt.subplot(1, 2, 2)\n",
    "        plt.imshow(image2.detach().squeeze(), cmap='gray')\n",
    "        plt.axis('off')\n",
    "    plt.show()\n",
    "\n",
    "poisoned_data = adversarial_poisoning(mnist_testset1, [1, 7, 6, 9], mnist_model, epsilon=0.3)"
   ]
  },
  {
   "attachments": {},
   "cell_type": "markdown",
   "metadata": {},
   "source": [
    "For cause identification, we need to find the failure set F on which the model is wrong in the test set. The function for that is given below"
   ]
  },
  {
   "cell_type": "code",
   "execution_count": 22,
   "metadata": {},
   "outputs": [],
   "source": [
    "def create_failure_set(testloader, model, batch_size=64):\n",
    "    # Evaluate on the test set after training\n",
    "    model.eval()\n",
    "    misclassified_inputs = []\n",
    "    misclassified_labels = []\n",
    "    correct_inputs=[]\n",
    "    correct_labels=[]\n",
    "    with torch.no_grad():\n",
    "        for inputs, labels in testloader:\n",
    "            outputs = model(inputs)\n",
    "            _, predicted = torch.max(outputs, 1)\n",
    "            misclassified_mask = predicted != labels\n",
    "            misclassified_inputs.append(inputs[misclassified_mask])\n",
    "            misclassified_labels.append(labels[misclassified_mask])\n",
    "            correct_mask = predicted == labels\n",
    "            correct_inputs.append(inputs[correct_mask])\n",
    "            correct_labels.append(labels[correct_mask])\n",
    "\n",
    "    misclassified_inputs = torch.cat(misclassified_inputs, dim=0)\n",
    "    misclassified_labels = torch.cat(misclassified_labels, dim=0)\n",
    "    correct_inputs = torch.cat(correct_inputs, dim=0)\n",
    "    correct_labels = torch.cat(correct_labels, dim=0)\n",
    "    failure_dataset = TensorDataset(misclassified_inputs, misclassified_labels)\n",
    "    correct_dataset = TensorDataset(correct_inputs, correct_labels)\n",
    "    failure_loader = DataLoader(failure_dataset, batch_size=batch_size, shuffle=True)\n",
    "    print(\"The size of the failure set is \", len(failure_dataset))\n",
    "    return failure_loader,failure_dataset,correct_dataset\n"
   ]
  },
  {
   "attachments": {},
   "cell_type": "markdown",
   "metadata": {},
   "source": [
    "The above code finds the failure set $\\mathcal{F} ={(x^{(n)},y^{(n)})}^{N_f}_{n=1} $"
   ]
  },
  {
   "attachments": {},
   "cell_type": "markdown",
   "metadata": {},
   "source": [
    "### Cause identification \n",
    "The functions for finding the \"failure causes\" of bad performance by finding the \"influence\" of each training data point are now defined. So we look at 4 algos for cause identification: <br>\n",
    "1) Linear influence- GD<br>\n",
    "2) SGD influence<br>\n",
    "3) EWC influence <br>"
   ]
  },
  {
   "attachments": {},
   "cell_type": "markdown",
   "metadata": {},
   "source": [
    "### Method 1: Cause identification: Linear influence "
   ]
  },
  {
   "attachments": {},
   "cell_type": "markdown",
   "metadata": {},
   "source": [
    "They are used to answer the question: why did the model make a prediction? Which training points were most responsible for this prediction? Upweight and downwight contribution of each image by changing loss function. Upwieghting a training image means that the model will try a little harder to fit that particular image. \n",
    "https://www.youtube.com/watch?v=0w9fLX_T6tY&t=75s<br>\n",
    "code: https://github.com/kohpangwei/influence-release"
   ]
  },
  {
   "attachments": {},
   "cell_type": "markdown",
   "metadata": {},
   "source": [
    "After observing the set of failures $ F $, a point estimate of $ p(\\theta|D,F) $ is obtained by performing a single update of natural gradient ascent on the log likelihood of $ F $ with step size $ \\gamma > 0 $: $ q^+(θ)=δ(θ−θ_{+F}) \\approx p(θ|D,F)$"
   ]
  },
  {
   "attachments": {},
   "cell_type": "markdown",
   "metadata": {},
   "source": [
    "We are using the log likelihood of $\\mathcal{F}$ given $\\hat{\\theta}$. "
   ]
  },
  {
   "cell_type": "code",
   "execution_count": 23,
   "metadata": {},
   "outputs": [],
   "source": [
    "def calc_FIM(train_set,trained_model,criterion):\n",
    "    fim=None\n",
    "    num_points = 100\n",
    "    indices = np.arange(len(train_set))\n",
    "    np.random.shuffle(indices)\n",
    "    selected_indices = indices[:num_points]\n",
    "    subset = torch.utils.data.Subset(train_set, selected_indices)\n",
    "    subset_loader = DataLoader(subset, batch_size=1, shuffle=True)\n",
    "    for batch_idx, (input, target) in enumerate(subset_loader):\n",
    "        input.requires_grad_(True)\n",
    "        outputs = trained_model(input)\n",
    "        loss = criterion(outputs, target)\n",
    "        trained_model.zero_grad()\n",
    "        loss.backward()\n",
    "        gradient_input_data = []\n",
    "        for name, param in trained_model.named_parameters():\n",
    "            if param.requires_grad:\n",
    "                gradient_input_data.append(param.grad.view(-1))\n",
    "        flat_tensor = torch.cat(gradient_input_data, dim=0)\n",
    "        if fim is None:\n",
    "            fim=torch.mul(flat_tensor,flat_tensor)\n",
    "        else:\n",
    "            fim+=torch.mul(flat_tensor,flat_tensor)\n",
    "    fim=fim/num_points\n",
    "    return fim"
   ]
  },
  {
   "cell_type": "code",
   "execution_count": 24,
   "metadata": {},
   "outputs": [],
   "source": [
    "def calc_pre_cal(failure_set,trained_model,criterion,fim,alpha):\n",
    "    v=torch.zeros(fim.size(dim=0))\n",
    "    f=torch.zeros(fim.size(dim=0))\n",
    "    failure_set_loader = DataLoader(failure_set, batch_size=1, shuffle=True)\n",
    "    for batch_idx, (input, target) in enumerate(failure_set_loader):\n",
    "        outputs = trained_model(input)\n",
    "        loss = criterion(outputs, target)\n",
    "        trained_model.zero_grad()\n",
    "        loss.backward()\n",
    "        gradient_input_data = []\n",
    "        for name, param in trained_model.named_parameters():\n",
    "            if param.requires_grad:\n",
    "                gradient_input_data.append(param.grad.view(-1))\n",
    "        flat_tensor = -1*torch.cat(gradient_input_data, dim=0)\n",
    "    count=0\n",
    "    while True:\n",
    "        v_new=v-alpha*(2*torch.mul(fim,v)-flat_tensor)\n",
    "        if torch.norm(v_new-v)<1e-2 or count>1e6:\n",
    "            break\n",
    "        if count%40000==0:\n",
    "            print(\"on the iteration \",count)\n",
    "            print(torch.norm(v_new-v))\n",
    "        count+=1\n",
    "        v=v_new\n",
    "    pre_cal=v\n",
    "    return pre_cal"
   ]
  },
  {
   "attachments": {},
   "cell_type": "markdown",
   "metadata": {},
   "source": [
    "This function computes the influences r of the trainset"
   ]
  },
  {
   "cell_type": "code",
   "execution_count": 25,
   "metadata": {},
   "outputs": [],
   "source": [
    "def linear_influence_function(train_set,trained_model,criterion,failure_set,gamma=0.01):\n",
    "    print(\"Going to calculate FIM\")\n",
    "    fim=calc_FIM(train_set,trained_model,criterion)\n",
    "    print(\"Done with FIM calculations\")\n",
    "    print(fim)\n",
    "    print(\"Going for a minimisations of the pre-calculations\")\n",
    "    pre_cal=calc_pre_cal(failure_set,trained_model,criterion,fim,alpha=0.05)\n",
    "    print(\"Done with pre-calculations\")\n",
    "    print(pre_cal)\n",
    "    r=[]\n",
    "    trainset_loader = DataLoader(train_set, batch_size=1, shuffle=False)\n",
    "    for batch_idx, (input, target) in enumerate(trainset_loader):\n",
    "        outputs = trained_model(input)\n",
    "        loss = criterion(outputs, target)\n",
    "        trained_model.zero_grad()\n",
    "        loss.backward()\n",
    "        gradient_input_data = []\n",
    "        for name, param in trained_model.named_parameters():\n",
    "            if param.requires_grad:\n",
    "                gradient_input_data.append(param.grad.view(-1))\n",
    "        flat_tensor = -1*torch.cat(gradient_input_data, dim=0)\n",
    "        r.append(((input,target,train_indices[batch_idx]),-1*gamma*torch.matmul(pre_cal,flat_tensor)))\n",
    "    return r"
   ]
  },
  {
   "attachments": {},
   "cell_type": "markdown",
   "metadata": {},
   "source": [
    "Function used to sort the influences and plot"
   ]
  },
  {
   "cell_type": "code",
   "execution_count": 26,
   "metadata": {},
   "outputs": [],
   "source": [
    "def sort_key(pair):\n",
    "    return -pair[1].item() "
   ]
  },
  {
   "cell_type": "code",
   "execution_count": 27,
   "metadata": {},
   "outputs": [
    {
     "data": {
      "text/plain": [
       "<All keys matched successfully>"
      ]
     },
     "execution_count": 27,
     "metadata": {},
     "output_type": "execute_result"
    }
   ],
   "source": [
    "mnist_model.load_state_dict(torch.load('mnist_model.pth'))"
   ]
  },
  {
   "attachments": {},
   "cell_type": "markdown",
   "metadata": {},
   "source": [
    "### Computing FIM\n",
    "An outer product is the tensor product of two vectors $ \\mathbf{u} = [u_1, u_2, \\ldots, u_m] $ and $ \\mathbf{v} = [v_1, v_2, \\ldots, v_n] $, denoted by $ \\mathbf{u} \\otimes \\mathbf{v} $, is an $ m \\times n $ matrix $ \\mathbf{W} $ such that its coordinates satisfy $ w_{i,j} = u_i v_j^* $. The outer product $ \\mathbf{u} \\otimes \\mathbf{v} $ is equivalent to a matrix multiplication $ \\mathbf{u} \\mathbf{v}^* $ (or $ \\mathbf{u} \\mathbf{v}^T $ if vectors are real) provided that $ \\mathbf{u} $ is represented as a column $ m \\times 1 $ vector, and $ \\mathbf{v} $ as a column $ n \\times 1 $ vector. Here $ v^* = \\overline{v^T} $. So when we are calculating the emperical FIM, if we calculate the vector $ \\mathbf{u}$ of gradients $\\nabla_{\\theta} \\log p_{\\theta}(y_n|x_n)$ and do the outer product with itself, we will get back $\\tilde{F} = \\sum_{n} [\\nabla_{\\theta} \\log p_{\\theta}(y_n|x_n) (\\nabla_{\\theta} \\log p_{\\theta}(y_n|x_n))^{\\top}]$ of size n*n. The empirical Fisher Information Matrix (FIM) is an approximation of the true FIM, which is defined as the expected value of the outer product of the gradients of the log-likelihood function with respect to the parameters. The empirical FIM is computed by taking the sum of the Hessians of the negative log-likelihood function with respect to the parameters, evaluated at the data points."
   ]
  },
  {
   "cell_type": "code",
   "execution_count": 28,
   "metadata": {},
   "outputs": [],
   "source": [
    "def compute_fisher_information(model, dataset):\n",
    "    fisher_information = 0\n",
    "    for x, y in tqdm(dataset, desc=\"Computing Fisher Information\"):\n",
    "        model.zero_grad()\n",
    "        logits = model(x.unsqueeze(0))  # Forward pass\n",
    "        log_probs = F.log_softmax(logits, dim=1)  # Compute log probabilities\n",
    "        log_likelihood = log_probs[0, y]  # Log likelihood of true label\n",
    "        log_likelihood.backward()  # Backpropagate to compute gradients\n",
    "        grad_params = [param.grad.clone().detach() for param in model.parameters()]  # Clone gradients\n",
    "        grad_params = torch.cat([grad.view(-1) for grad in grad_params])  # Flatten gradients\n",
    "        fisher_information += torch.outer(grad_params, grad_params)\n",
    "    return fisher_information / len(dataset)"
   ]
  },
  {
   "attachments": {},
   "cell_type": "markdown",
   "metadata": {},
   "source": [
    "This method(basic) for calculating FIM failed because it is very computationally heavy since there are a large number of parameters even for MNIST ~65k. The kernel will crash in the outer product when we have less compute(this is even before the inversion step of such a large matrix). We use diagonal approximation of fisher"
   ]
  },
  {
   "attachments": {},
   "cell_type": "markdown",
   "metadata": {},
   "source": [
    "### Method 2 SGD influence: "
   ]
  },
  {
   "cell_type": "code",
   "execution_count": 29,
   "metadata": {},
   "outputs": [],
   "source": [
    "def reshape_v_to_theta_hat(v, theta_hat):\n",
    "    # Split v into smaller tensors matching the shapes of parameters in theta_hat\n",
    "    split_sizes = [p.numel() for p in theta_hat]\n",
    "    v_split = torch.split(v, split_sizes)\n",
    "\n",
    "    # Reshape the split tensors to match the shapes of parameters in theta_hat\n",
    "    theta_hat_reshaped = [split.view(param.shape) for split, param in zip(v_split, theta_hat)]\n",
    "\n",
    "    return theta_hat_reshaped"
   ]
  },
  {
   "cell_type": "code",
   "execution_count": 30,
   "metadata": {},
   "outputs": [],
   "source": [
    "def linear_influence_gd(model, theta_hat, failure_loader, lr, num_steps):\n",
    "    # Check if theta_hat is empty\n",
    "    # if not theta_hat:\n",
    "    #     raise ValueError(\"theta_hat is empty. Please provide non-empty parameters.\")\n",
    "\n",
    "    # Concatenate all parameters in theta_hat into a single vector\n",
    "    theta_hat_flat = torch.cat([p.view(-1) for p in theta_hat])\n",
    "\n",
    "    # Initialize v with random values, with the same shape as theta_hat_flat\n",
    "    v = torch.randn_like(theta_hat_flat, requires_grad=True)\n",
    "    optimizer = torch.optim.SGD([v], lr=lr)  # Initialize optimizer for v\n",
    "\n",
    "    # Perform optimization steps\n",
    "    for _ in tqdm(range(num_steps)):\n",
    "        optimizer.zero_grad()  # Zero the gradients\n",
    "        log_likelihood = 0  # Initialize log likelihood\n",
    "\n",
    "        # Compute the log likelihood for each batch in the failure loader\n",
    "        for x, _ in failure_loader:\n",
    "            # print(x.shape)\n",
    "            log_probs = model.log_prob(x)\n",
    "            log_likelihood += torch.sum(log_probs)\n",
    "\n",
    "        log_likelihood.backward(retain_graph=True)  # Backpropagate through log likelihood\n",
    "        grad_log_likelihood = torch.cat([p.grad.clone().detach().view(-1) for p in model.parameters()])  # Extract gradients of log likelihood\n",
    "        \n",
    "        v_grad_product = torch.dot(v, grad_log_likelihood)\n",
    "\n",
    "        loss = -v_grad_product - log_likelihood  # Define loss function\n",
    "        loss.backward()  # Backpropagate through loss\n",
    "        optimizer.step()  # Take a gradient descent step for v\n",
    "\n",
    "\n",
    "    # return -reshape_v_to_theta_hat(v, theta_hat)  # Return the optimized v\n",
    "    return -v"
   ]
  },
  {
   "attachments": {},
   "cell_type": "markdown",
   "metadata": {},
   "source": [
    "### EWC influence"
   ]
  },
  {
   "cell_type": "code",
   "execution_count": 31,
   "metadata": {},
   "outputs": [],
   "source": [
    "import torch.nn.functional as F\n",
    "def get_fisher_diag(model, dataset, params, empirical=True):\n",
    "    fisher = {}\n",
    "    for n, p in copy.deepcopy(params).items():\n",
    "        p.data.zero_()\n",
    "        fisher[n] = (p.data)\n",
    "\n",
    "    model.eval()\n",
    "    for input, gt_label in tqdm(dataset, desc=\"Computing Fisher Diag\", leave=False):\n",
    "        model.zero_grad()\n",
    "        output = model(input)\n",
    "        if empirical:\n",
    "            label = gt_label\n",
    "        else:\n",
    "            label = output.max(1)[1].view(-1)\n",
    "        log_probs = F.log_softmax(output, dim= 1)  # Compute log probabilities\n",
    "        # print(log_probs.shape, label.shape)\n",
    "        negloglikelihood = F.nll_loss(log_probs, label)  # Calculate negative log likelihood loss\n",
    "        # negloglikelihood = F.nll_loss(F.log_softmax(output, dim=1), label)\n",
    "        negloglikelihood.backward()\n",
    "\n",
    "        for n, p in model.named_parameters():\n",
    "            fisher[n].data += p.grad.data ** 2 / len(dataset)\n",
    "\n",
    "    fisher = {n: p for n, p in fisher.items()}\n",
    "    return fisher"
   ]
  },
  {
   "cell_type": "code",
   "execution_count": 32,
   "metadata": {},
   "outputs": [],
   "source": [
    "def find_theta_F(theta_hat, fisher, failure_loader, model, lr, lambda_val, num_epochs, N):\n",
    "    \"\"\"\n",
    "    Update theta to obtain theta_F using SGD.\n",
    "\n",
    "    Args:\n",
    "        theta_hat: Torch tensor representing the MAP point estimate of the model parameters.\n",
    "        F_hat_theta_hat: Torch tensor representing the diagonal entries of the empirical Fisher information matrix.\n",
    "        lambda_val: Regularization parameter.\n",
    "        num_epochs: Number of epochs for SGD.\n",
    "        data_loader: DataLoader for the training dataset.\n",
    "        model: Trained neural network model.\n",
    "\n",
    "    Returns:\n",
    "        theta_F: Updated model parameters after adaptation using SGD.\n",
    "    \"\"\"\n",
    "\n",
    "    theta_F = theta_hat.clone().detach().requires_grad_(True)\n",
    "    optimizer = torch.optim.SGD([theta_F], lr=lr)\n",
    "    FIM= torch.cat([fisher[param].view(-1) for param in fisher.keys()]).diag()\n",
    "    print(FIM.shape)\n",
    "    for epoch in tqdm(range(num_epochs)):\n",
    "        for inputs, labels in tqdm(failure_loader, desc=f\"Epoch {epoch+1}/{num_epochs}\", leave=False):\n",
    "            optimizer.zero_grad()\n",
    "            outputs = model(inputs)\n",
    "            log_probs = F.log_softmax(outputs, dim=1)\n",
    "            # print(log_probs.shape, labels.shape)\n",
    "            # Compute negative log likelihood loss\n",
    "            negloglikelihood = F.nll_loss(log_probs, labels)\n",
    "\n",
    "            # Regularization term\n",
    "            reg_term = 0.5 * lambda_val * torch.sum((theta_F - theta_hat) ** 2)\n",
    "            fisher_term= N/2 * torch.sum(((theta_F - theta_hat).T@FIM@(theta_F - theta_hat)))\n",
    "            loss = negloglikelihood - reg_term -fisher_term\n",
    "            print(f\"Loss: {loss.item()}\")\n",
    "            loss.backward()\n",
    "            optimizer.step()\n",
    "\n",
    "    return theta_F"
   ]
  },
  {
   "cell_type": "code",
   "execution_count": 33,
   "metadata": {},
   "outputs": [],
   "source": [
    "def compute_ewc_influences(data_loader, model, model_new):\n",
    "    \"\"\"\n",
    "    Computes the EWC-influence for each training point.\n",
    "\n",
    "    Args:\n",
    "        data_loader: DataLoader for the training dataset.\n",
    "        model: Trained neural network model.\n",
    "        model_new: Updated neural network model after adaptation using EWC.\n",
    "\n",
    "    Returns:\n",
    "        influences: Tensor of EWC-influences for each training point.\n",
    "    \"\"\"\n",
    "\n",
    "    influences = []\n",
    "\n",
    "    model.eval()\n",
    "    for inputs, labels in tqdm(data_loader, desc=\"Finding EWC influence\"):\n",
    "        # Compute log likelihood under original and adapted models\n",
    "        log_probs_hat = F.log_softmax(model(inputs), dim=1)\n",
    "        log_probs_hat_F = F.log_softmax(model_new(inputs), dim=1)\n",
    "\n",
    "        # Compute EWC-influence for each data point in the batch\n",
    "        ewc_influence = []\n",
    "        for i in range(inputs.size(0)):\n",
    "            label = labels[i].item()\n",
    "            negloglikelihood_old = -log_probs_hat[i, label]\n",
    "            negloglikelihood_new = -log_probs_hat_F[i, label]\n",
    "            ewc_influence.append(negloglikelihood_old - negloglikelihood_new)\n",
    "        \n",
    "        influences.append(torch.tensor(ewc_influence))\n",
    "\n",
    "    influences = torch.cat(influences)  # Concatenate the list of tensors\n",
    "    return influences"
   ]
  },
  {
   "cell_type": "code",
   "execution_count": 34,
   "metadata": {},
   "outputs": [],
   "source": [
    "def find_failure_causes(data_loader, influences, top_k=None):\n",
    "    \"\"\"\n",
    "    Find failure causes C: Return the examples with positive influence.\n",
    "\n",
    "    Args:\n",
    "        data_loader: DataLoader for the training dataset.\n",
    "        influences: List of EWC-influences for each training point.\n",
    "        top_k: Number of top points to select based on influence. If None, return all points with positive influence.\n",
    "\n",
    "    Returns:\n",
    "        failure_causes: List of examples with positive influence (C).\n",
    "    \"\"\"\n",
    "    failure_causes = []\n",
    "\n",
    "    # Sort influences and get indices of points with positive influence\n",
    "    sorted_indices = sorted(range(len(influences)), key=lambda i: influences[i], reverse=True)\n",
    "    # This sorts indices, not the list of influences. \n",
    "    positive_indices = [i for i in sorted_indices if influences[i] > 0]\n",
    "\n",
    "    if top_k is not None:\n",
    "        # Select top k points with positive influence\n",
    "        # selected_indices = positive_indices[:top_k]\n",
    "        selected_indices = sorted_indices[:top_k]\n",
    "    else:\n",
    "        # Select all points with positive influence\n",
    "        selected_indices = positive_indices\n",
    "    print(selected_indices)\n",
    "    # Extract examples with positive influence\n",
    "    for idx in selected_indices:\n",
    "        example = data_loader.dataset[idx]  # Assuming data_loader.dataset provides access to individual examples\n",
    "        failure_causes.append(example)\n",
    "\n",
    "    return failure_causes, selected_indices\n"
   ]
  },
  {
   "attachments": {},
   "cell_type": "markdown",
   "metadata": {},
   "source": [
    "### Visualization of points with highest influence: "
   ]
  },
  {
   "cell_type": "code",
   "execution_count": 35,
   "metadata": {},
   "outputs": [],
   "source": [
    "# def plot_images_with_highest_influences(data_loader, influences, top_k=16):\n",
    "#     # Find indices of top k images with highest influences\n",
    "#     sorted_indices = torch.argsort(influences, descending=True)\n",
    "#     top_indices = sorted_indices[:top_k]\n",
    "# \t# print()\n",
    "#     # Initialize a 4x4 subplot grid\n",
    "#     fig, axes = plt.subplots(4, 4, figsize=(12, 12))\n",
    "    \n",
    "#     # Flatten the axes array for easy indexing\n",
    "#     axes = axes.flatten()\n",
    "\n",
    "#     for i, idx in enumerate(top_indices):\n",
    "#         # Get image and label corresponding to the index\n",
    "#         image, label = data_loader.dataset[idx]\n",
    "\n",
    "#         # Plot the image\n",
    "#         axes[i].imshow(image.squeeze(), cmap='gray')\n",
    "#         axes[i].axis('off')\n",
    "\n",
    "#         # Add label above the image\n",
    "#         # axes[i].set_title(label_names[label.item()], fontsize=10)\n",
    "#         axes[i].set_title(label, fontsize=10)\n",
    "\n",
    "#     plt.tight_layout()\n",
    "#     plt.show()\n",
    "def plot_images_with_highest_influences(trainset, influences, top_k=16):\n",
    "    # Find indices of top k images with highest influences\n",
    "    sorted_indices = torch.argsort(influences, descending=True)\n",
    "    top_indices = sorted_indices[:top_k]\n",
    "    # prtin\n",
    "    # Initialize a 4x4 subplot grid\n",
    "    fig, axes = plt.subplots(4, 4, figsize=(12, 12))\n",
    "    \n",
    "    # Flatten the axes array for easy indexing\n",
    "    axes = axes.flatten()\n",
    "\n",
    "    for i, idx in enumerate(top_indices):\n",
    "        # Get image and label corresponding to the index\n",
    "        image, label = trainset[idx]\n",
    "        print(influences[idx])\n",
    "        # Plot the image\n",
    "        axes[i].imshow(image.squeeze(), cmap='gray')\n",
    "        axes[i].axis('off')\n",
    "\n",
    "        # Add label above the image\n",
    "        axes[i].set_title(label, fontsize=10)\n",
    "\n",
    "    plt.tight_layout()\n",
    "    plt.show()"
   ]
  },
  {
   "cell_type": "code",
   "execution_count": 36,
   "metadata": {},
   "outputs": [],
   "source": [
    "# def create_model_with_theta(theta):\n",
    "#     \"\"\"\n",
    "#     Create a new model with parameters theta_F.\n",
    "\n",
    "#     Args:\n",
    "#         old_model: Trained neural network model.\n",
    "#         theta_F: Updated model parameters after adaptation using SGD.\n",
    "\n",
    "#     Returns:\n",
    "#         new_model: New neural network model with parameters theta_F.\n",
    "#     \"\"\"\n",
    "#     new_model = MNIST_CNN()\n",
    "#     new_model.parameters= theta\n",
    "#     # with torch.no_grad():\n",
    "#     #     for new_param, param_F in zip(new_model.parameters(), theta):\n",
    "#     #         new_param.copy_(param_F)\n",
    "#     return new_model\n",
    "def create_model_with_theta(theta):\n",
    "    \"\"\"\n",
    "    Create a new model with parameters theta.\n",
    "\n",
    "    Args:\n",
    "        theta: Flattened tensor representing the parameters of the model.\n",
    "\n",
    "    Returns:\n",
    "        new_model: New neural network model with parameters theta.\n",
    "    \"\"\"\n",
    "    new_model = MNIST_CNN()  # Instantiate a new model\n",
    "    theta_index = 0\n",
    "    for param in new_model.parameters():\n",
    "        # Determine the size of the parameter tensor\n",
    "        param_size = param.size()\n",
    "        # Calculate the number of elements in the parameter tensor\n",
    "        param_num_elements = param.numel()\n",
    "        # Extract the corresponding portion of the flattened theta tensor\n",
    "        param_theta = theta[theta_index : theta_index + param_num_elements].view(param_size)\n",
    "        # Set the parameter values\n",
    "        param.data.copy_(param_theta)\n",
    "        # Update the theta index\n",
    "        theta_index += param_num_elements\n",
    "\n",
    "    return new_model\n"
   ]
  },
  {
   "attachments": {},
   "cell_type": "markdown",
   "metadata": {},
   "source": [
    "Combined function to calculate EWC influences and find the failure causes after it. "
   ]
  },
  {
   "cell_type": "code",
   "execution_count": 37,
   "metadata": {},
   "outputs": [],
   "source": [
    "def EWC_influence(model, trainloader, testloader, name, lr, lamda_val, num_epochs, save=True, use_existing=True, calculate_failure= True):\n",
    "    fisher_path = 'fisher_' + name + '.pkl'\n",
    "    model_laplace_path = name + '.pth'\n",
    "\n",
    "    if use_existing and os.path.exists(fisher_path) and os.path.exists(model_laplace_path):\n",
    "        # Load pre-existing fisher matrix and Laplace approximation model\n",
    "        with open(fisher_path, 'rb') as f:\n",
    "            fisher = pickle.load(f)\n",
    "        model_laplace_approx = torch.load(model_laplace_path)\n",
    "    else:\n",
    "        print(\"Finding diagonal fisher\")\n",
    "        params = {n: p for n, p in model.named_parameters() if p.requires_grad}\n",
    "        print(len(params))\n",
    "        fisher = get_fisher_diag(model, trainloader, params)\n",
    "        if save:\n",
    "            with open(fisher_path, 'wb') as f:\n",
    "                pickle.dump(fisher, f)\n",
    "\n",
    "        print(\"Creating failure set\")\n",
    "        failure_loader = create_failure_set(testloader, model)[0]\n",
    "\n",
    "        print(\"Doing laplace approximation using SGD\")\n",
    "        theta_hat = torch.cat([param.view(-1) for param in model.parameters()])\n",
    "        print(len(theta_hat))\n",
    "        N = len(trainloader.sampler)\n",
    "        theta_F = find_theta_F(theta_hat, fisher, failure_loader, model, lr, lamda_val, num_epochs, N)\n",
    "\n",
    "        if save:\n",
    "            model_laplace_approx = create_model_with_theta(theta_F)\n",
    "            torch.save(model_laplace_approx, model_laplace_path)\n",
    "\n",
    "    print(\"Computing EWC influence\")\n",
    "    ewc_influences = compute_ewc_influences(trainloader, model, model_laplace_approx)\n",
    "    if(calculate_failure==False):\n",
    "        return ewc_influences, [], []\n",
    "    top_k = None  # Change to desired value if you want to select top k points\n",
    "    print(\"Finding failure causes\")\n",
    "    failure_causes, failure_indices = find_failure_causes(mnist_trainloader, ewc_influences, top_k)\n",
    "    print(len(failure_causes))\n",
    "    return ewc_influences, failure_causes, failure_indices"
   ]
  },
  {
   "attachments": {},
   "cell_type": "markdown",
   "metadata": {},
   "source": [
    "## Treatment methods:\n",
    "Once the causes C of the failures F are identified among the training data D, we seek to repair the model q(θ) by erasing the memories of C. We formalise this problem as the computation of the posterior p(θ|D\\C), i.e., C is absent from the training data D. A naive approach would re-run approximate inference on the whole “corrected” dataset D\\C to obtain an approximate posterior $q_{−C}$∝q(θ)/p(C|θ)≈p(θ|D\\C). \n",
    "We show three methods of model treatment:\n",
    "- Fine-tuning on Corrected Data\n",
    "- Newton Update method\n",
    "- EWC data deletion"
   ]
  },
  {
   "attachments": {},
   "cell_type": "markdown",
   "metadata": {},
   "source": [
    "### Method 1: (Fine-tuning on Corrected Data):\n",
    "\n",
    "Given a point estimate of model parameters θˆ, i.e., q(θ)=δ(θ−θˆ), a simple way to approximate p(θ|D\\C) is to fine-tune on the corrected dataset D\\C and update the point estimate. The new θˆ−C of the repaired model are obtained by maximising the log-likelihood logp(D\\C|θ) via SGD, starting from θˆ. "
   ]
  },
  {
   "cell_type": "code",
   "execution_count": 38,
   "metadata": {},
   "outputs": [],
   "source": [
    "def create_corrected_dataloader(train_loader, selected_indices):\n",
    "    \"\"\"\n",
    "    Create a corrected DataLoader by removing data points corresponding to failure causes.\n",
    "\n",
    "    Args:\n",
    "        train_loader: Original DataLoader for the training dataset.\n",
    "        selected_indices: List of indices representing selected failure causes.\n",
    "\n",
    "    Returns:\n",
    "        corrected_dataloader: DataLoader for the corrected dataset D\\C.\n",
    "    \"\"\"\n",
    "    # Create a list of indices excluding failure causes\n",
    "    corrected_indices = [idx for idx in range(len(train_loader.dataset)) if idx not in selected_indices]\n",
    "\n",
    "    # Create a Subset of the original dataset excluding failure causes\n",
    "    corrected_dataset = Subset(train_loader.dataset, corrected_indices)\n",
    "    print(\"Number of images in corrected dataset are: \",len(corrected_dataset))\n",
    "    # Create a DataLoader for the corrected dataset\n",
    "    corrected_dataloader = DataLoader(corrected_dataset, batch_size=train_loader.batch_size) # removed shuffle= True\n",
    "\n",
    "    return corrected_dataloader\n"
   ]
  },
  {
   "cell_type": "code",
   "execution_count": 39,
   "metadata": {},
   "outputs": [],
   "source": [
    "def fine_tune_theta_on_corrected_data(model, theta, data_loader, num_epochs=10, lr=0.01):\n",
    "    \"\"\"\n",
    "    Fine-tunes the parameters theta on the corrected dataset D\\C and updates the point estimate.\n",
    "\n",
    "    Args:\n",
    "        model: Model object.\n",
    "        theta: Model parameters (tensor or list of tensors).\n",
    "        data_loader: DataLoader for the corrected dataset D\\C.\n",
    "        num_epochs: Number of epochs for fine-tuning.\n",
    "        lr: Learning rate for SGD.\n",
    "\n",
    "    Returns:\n",
    "        updated_theta: Updated model parameters after fine-tuning.\n",
    "        losses: List of losses for each epoch.\n",
    "    \"\"\"\n",
    "    # theta_MLE = theta.clone().detach().requires_grad_(True)\n",
    "    new_model= create_model_with_theta(theta)\n",
    "    optimizer = torch.optim.SGD(new_model.parameters(), lr=lr)\n",
    "    criterion = nn.CrossEntropyLoss()\n",
    "    losses = []\n",
    "    \n",
    "    # find_accuracy\n",
    "    # model.eval()  # Set model to evaluation mode to prevent parameter updates\n",
    "    for epoch in tqdm(range(num_epochs), desc=\"Fine-tuning on Corrected Data\"):\n",
    "        new_model.train()\n",
    "        epoch_loss = 0.0\n",
    "        # model= create_model_with_theta(theta_MLE)\n",
    "        for inputs, labels in tqdm(data_loader, desc= \"MLE on corrected dataset\"):\n",
    "            optimizer.zero_grad()\n",
    "            outputs = new_model(inputs)  # Use the model without updating its parameters\n",
    "            loss = criterion(outputs, labels)\n",
    "            loss.backward()\n",
    "            optimizer.step()\n",
    "            epoch_loss += loss.item()\n",
    "        \n",
    "        epoch_loss /= len(data_loader)\n",
    "        losses.append(epoch_loss)\n",
    "        print(f\"Epoch [{epoch+1}/{num_epochs}], Loss: {epoch_loss:.4f}\")\n",
    "\n",
    "    return new_model, losses"
   ]
  },
  {
   "attachments": {},
   "cell_type": "markdown",
   "metadata": {},
   "source": [
    "### Method 2: Newton Update method"
   ]
  },
  {
   "cell_type": "code",
   "execution_count": 40,
   "metadata": {},
   "outputs": [],
   "source": [
    "def check_accuracy(model,testset):\n",
    "    mnist_model.eval()\n",
    "    test_predictions = []\n",
    "    test_true_labels = []\n",
    "    with torch.no_grad():\n",
    "        for inputs, labels in testset: # batch wise for loop. \n",
    "            outputs = model(inputs)\n",
    "            _, predicted = torch.max(outputs, 1)\n",
    "            test_predictions.extend(predicted.numpy())\n",
    "            test_true_labels.extend(labels.numpy())\n",
    "    test_accuracy = accuracy_score(test_true_labels, test_predictions)\n",
    "    return test_accuracy"
   ]
  },
  {
   "cell_type": "code",
   "execution_count": 41,
   "metadata": {},
   "outputs": [],
   "source": [
    "def newton_step(train_set,trained_model,criterion,causal_set_loader,gamma=0.01):\n",
    "    print(\"Going to calculate FIM\")\n",
    "    fim=calc_FIM(train_set,trained_model,criterion)\n",
    "    print(\"Done with FIM calculations\")\n",
    "    print(fim)\n",
    "    inverse_fim = torch.ones_like(fim) / fim\n",
    "    print(inverse_fim)\n",
    "    total_tensor=None\n",
    "    for batch_idx, (input, target) in enumerate(causal_set_loader):\n",
    "        outputs = trained_model(input[0])\n",
    "        loss = criterion(outputs, target)\n",
    "        trained_model.zero_grad()\n",
    "        loss.backward()\n",
    "        gradient_input_data = []\n",
    "        for name, param in trained_model.named_parameters():\n",
    "            if param.requires_grad:\n",
    "                gradient_input_data.append(param.grad.view(-1))\n",
    "        if(total_tensor is None):\n",
    "            total_tensor=torch.cat(gradient_input_data, dim=0)\n",
    "        else:\n",
    "            total_tensor+=torch.cat(gradient_input_data, dim=0)\n",
    "    current_param=[]\n",
    "    for name, param in trained_model.named_parameters():\n",
    "        if param.requires_grad:\n",
    "            current_param.append(param.view(-1))\n",
    "    acc_corr=[]\n",
    "    acc_fail=[]\n",
    "    for gm in gamma:\n",
    "        jhc=gm*inverse_fim*total_tensor\n",
    "        new_param=[x - y for x, y in zip(current_param, jhc.tolist())]\n",
    "        i=0\n",
    "        model_copy =  MNIST_CNN()\n",
    "        state_dict = trained_model.state_dict()\n",
    "        model_copy.load_state_dict(state_dict)\n",
    "        dict_new={}\n",
    "        for name, value in model_copy.named_parameters():\n",
    "            if param.requires_grad:\n",
    "                i=i+1\n",
    "                dict_new[name]=nn.Parameter(new_param[i-1].view(value.shape))\n",
    "        print(gm)\n",
    "        model_copy.load_state_dict(dict_new)\n",
    "        acc=check_accuracy(model_copy, DataLoader(failure_set_query, batch_size=64, shuffle=False))\n",
    "        print(\"Accuracy on query set is: \",acc)\n",
    "        acc=check_accuracy(model_copy, DataLoader(failure_hold_out, batch_size=64, shuffle=False))\n",
    "        print(\"Accuracy on hold out is: \",acc)\n",
    "        acc_fail.append(acc)\n",
    "        acc=check_accuracy(model_copy, DataLoader(correct_set, batch_size=64, shuffle=False))\n",
    "        print(\"Accuracy on correct set is: \",acc)\n",
    "        acc_corr.append(acc)\n",
    "    return acc_fail,acc_corr"
   ]
  },
  {
   "cell_type": "markdown",
   "metadata": {},
   "source": [
    "### Method 3: EWC data deletion: \n",
    "Given model parameters $\\hat{\\theta}$, EWC-based deletion obtains new parameters $\\hat{\\theta}_{-C}$ by maximising the following objective using SGD:\n",
    "   $$ -\\log p(\\mathcal{C} | \\theta) - \\frac{N}{2} (\\theta - \\hat{\\theta})^T F(\\hat{\\theta}) (\\theta - \\hat{\\theta}) - \\frac{\\lambda}{2} ||\\theta - \\hat{\\theta}||^2 $$\n",
    "   - $ \\mathcal{C} $ represents the failure causes.\n",
    "   - $ F(\\hat{\\theta}) $ represents a diagonal representation of the empirical Fisher matrix.\n",
    "   - $ N $ is the size of the training dataset, which can be obtained from `train_loader`.\n",
    "   - $ \\lambda $ is a regularization parameter to keep the updated $ \\theta_{+F} $ close to the original $ \\hat{\\theta} $.<br>\n",
    "   where the first term seeks to remove information about C while the remaining terms discourage parameters from deviating from the original values. It is the same objective used in EWC influence except we add a negative sign to the likelihood term because we want to remove the effect of failure causes. EWC influence maximised likelihod defined on the failure set $ \\mathcal{F} $, while this minimises likelihood wrt the failure causes $ \\mathcal{C} $. "
   ]
  },
  {
   "cell_type": "code",
   "execution_count": 59,
   "metadata": {},
   "outputs": [],
   "source": [
    "def EWC_data_deletion(theta_hat, fisher, failure_causes_dataloader, model, lr, lambda_val, num_epochs, N):\n",
    "    \"\"\"\n",
    "    Update theta to obtain theta_hat_C using SGD for data deletion.\n",
    "\n",
    "    Args:\n",
    "        theta_hat: Torch tensor representing the MAP point estimate of the model parameters.\n",
    "        fisher: Dictionary containing the diagonal entries of the empirical Fisher information matrix.\n",
    "        failure_causes: List of indices representing failure causes (C).\n",
    "        model: Trained neural network model.\n",
    "        lr: Learning rate for SGD.\n",
    "        lambda_val: Regularization parameter.\n",
    "        num_epochs: Number of epochs for SGD.\n",
    "        N: Size of the training dataset.\n",
    "\n",
    "    Returns:\n",
    "        theta_hat_C: Updated model parameters after deletion of failure causes using SGD.\n",
    "    \"\"\"\n",
    "\n",
    "    theta_hat_C = theta_hat.clone().detach().requires_grad_(True)\n",
    "    optimizer = torch.optim.SGD([theta_hat_C], lr=lr)\n",
    "\n",
    "    # Flatten and extract diagonal entries of the Fisher information matrix\n",
    "    FIM = torch.cat([fisher[param].view(-1) for param in fisher.keys()]).diag()\n",
    "\n",
    "    for epoch in tqdm(range(num_epochs)):\n",
    "        for inputs, labels in tqdm(failure_causes_dataloader, desc=f\"Epoch {epoch+1}/{num_epochs}\", leave=False):\n",
    "            # print(idx)\n",
    "            optimizer.zero_grad()\n",
    "            # Get inputs and labels for the failure cause\n",
    "            # inputs, labels = \n",
    "\n",
    "            # Forward pass\n",
    "            # inputs = inputs.unsqueeze(0)\n",
    "            outputs = model(inputs)\n",
    "            log_probs = F.log_softmax(outputs, dim=1)\n",
    "            # print(log_probs.shape, torch.tensor(labels).unsqueeze(0).shape)\n",
    "            # # Compute negative log likelihood loss\n",
    "            negloglikelihood = F.nll_loss(log_probs, labels)\n",
    "            # Regularization term\n",
    "            reg_term = 0.5 * lambda_val * torch.sum((theta_hat_C - theta_hat) ** 2)\n",
    "\n",
    "            # Fisher term\n",
    "            fisher_term = N / 2 * torch.sum(((theta_hat_C - theta_hat).T @ FIM @ (theta_hat_C - theta_hat)))\n",
    "\n",
    "            # Total loss\n",
    "            loss = -negloglikelihood - reg_term - fisher_term\n",
    "            print(f\"Loss: {loss.item()}\")\n",
    "            # Backward pass and optimization step\n",
    "            loss.backward()\n",
    "            optimizer.step()\n",
    "\n",
    "    return theta_hat_C"
   ]
  },
  {
   "cell_type": "code",
   "execution_count": 43,
   "metadata": {},
   "outputs": [],
   "source": [
    "def failure_causes_to_dataloader(failure_causes, batch_size=32, shuffle=True):\n",
    "    # doing Gradient descent on one batch at a time instead of batch wise makes kernel crash, hence this is necessary\n",
    "    \"\"\"\n",
    "    Create a DataLoader for the failure causes.\n",
    "\n",
    "    Args:\n",
    "        failure_causes: List of examples with positive influence.\n",
    "        batch_size: Batch size for the DataLoader.\n",
    "        shuffle: Whether to shuffle the data.\n",
    "\n",
    "    Returns:\n",
    "        dataloader: DataLoader for the failure causes.\n",
    "    \"\"\"\n",
    "    # Convert failure_causes to a list of tuples (inputs, labels)\n",
    "    inputs = [example[0] for example in failure_causes]\n",
    "    labels = [example[1] for example in failure_causes]\n",
    "\n",
    "    # Convert to TensorDataset\n",
    "    dataset = TensorDataset(torch.stack(inputs), torch.tensor(labels))\n",
    "\n",
    "    # Create a DataLoader\n",
    "    dataloader = DataLoader(dataset, batch_size=batch_size, shuffle=shuffle)\n",
    "\n",
    "    return dataloader"
   ]
  },
  {
   "cell_type": "code",
   "execution_count": 44,
   "metadata": {},
   "outputs": [],
   "source": [
    "def find_accuracy(model, failure_set_query, failure_hold_out, correct_set):\n",
    "    acc=check_accuracy(model, DataLoader(failure_set_query, batch_size=64, shuffle=False))\n",
    "    print(\"Accuracy on query set is: \",acc)\n",
    "    acc=check_accuracy(model, DataLoader(failure_hold_out, batch_size=64, shuffle=False))\n",
    "    print(\"Accuracy on hold out is: \",acc)\n",
    "    acc=check_accuracy(model, DataLoader(correct_set, batch_size=64, shuffle=False))\n",
    "    print(\"Accuracy on correct set is: \",acc)"
   ]
  },
  {
   "attachments": {},
   "cell_type": "markdown",
   "metadata": {},
   "source": [
    "Now that all functions have been defined, We now start the experiments with the noised datasets for all three cases"
   ]
  },
  {
   "attachments": {},
   "cell_type": "markdown",
   "metadata": {},
   "source": [
    "### 1) Experiment with label noise: "
   ]
  },
  {
   "cell_type": "code",
   "execution_count": 45,
   "metadata": {},
   "outputs": [],
   "source": [
    "def flip_labels_between_digits(subset, digit1, digit2, flip_probability=0.5):\n",
    "    \"\"\"\n",
    "    Flip true labels between two specified digits (digit1 and digit2) within the subset with a given probability.\n",
    "    \"\"\"\n",
    "    flip_idx=[]\n",
    "    subset_data = torch.stack([subset[i][0] for i in range(len(subset))])\n",
    "    subset_labels = torch.tensor([subset[i][1] for i in range(len(subset))])\n",
    "    \n",
    "    for idx in range(len(subset)):\n",
    "        if subset_labels[idx] == digit1:\n",
    "            # Flip label from digit1 to digit2 with the specified probability\n",
    "            if random.random() < flip_probability:\n",
    "                flip_idx.append(idx)\n",
    "                subset_labels[idx] = digit2\n",
    "        elif subset_labels[idx] == digit2:\n",
    "            # Flip label from digit2 to digit1 with the specified probability\n",
    "            if random.random() < flip_probability:\n",
    "                subset_labels[idx] = digit1\n",
    "                flip_idx.append(idx)\n",
    "    \n",
    "    # Create a new subset dataset with the modified labels\n",
    "    flipped_subset = torch.utils.data.TensorDataset(subset_data, subset_labels)\n",
    "    return flipped_subset,flip_idx"
   ]
  },
  {
   "cell_type": "code",
   "execution_count": 46,
   "metadata": {},
   "outputs": [
    {
     "name": "stdout",
     "output_type": "stream",
     "text": [
      "[1, 3, 4, 5, 9, 11, 16, 19, 24, 30, 53, 56, 60, 61, 76, 96, 98, 103, 108, 115, 118, 137, 142, 163, 164, 168, 174, 175, 176, 215, 216, 236, 237, 247, 260, 265, 270, 271, 273, 282, 285, 288, 296, 333, 343, 345, 352, 367, 373, 374, 393, 396, 406, 414, 417, 423, 427, 431, 434, 454, 458, 466, 474, 481, 482, 485, 499, 507, 520, 523, 533, 537, 540, 542, 550, 573, 576, 579, 585, 591, 598, 600, 603, 617, 621, 622, 626, 631, 632, 648, 650, 667, 688, 692, 695, 709, 711, 712, 716, 746, 757, 771, 805, 812, 814, 815, 824, 825, 834, 835, 840, 856, 861, 874, 880, 881, 894, 896, 898, 902, 906, 908, 909, 927, 938, 942, 948, 953, 957, 966, 971, 979, 988, 995, 999, 1006, 1011, 1019, 1027, 1028, 1038, 1058, 1066, 1069, 1078, 1082, 1090, 1092, 1112, 1116, 1120, 1123, 1131, 1135, 1143, 1154, 1163, 1165, 1198, 1211, 1221, 1224, 1230, 1239, 1244, 1252, 1256, 1276, 1281, 1295, 1296, 1297, 1298, 1301, 1307, 1313, 1317, 1318, 1320, 1322, 1331, 1346, 1363, 1368, 1378, 1385, 1394, 1405, 1416, 1437, 1442, 1454, 1474, 1480, 1483, 1487, 1491, 1495, 1496, 1498, 1505, 1507, 1508, 1519, 1528, 1533, 1539, 1543, 1559, 1560, 1579, 1610, 1615, 1646, 1653, 1671, 1672, 1680, 1692, 1693, 1705, 1707, 1708, 1717, 1724, 1742, 1744, 1747, 1748, 1753, 1755, 1758, 1764, 1771, 1783, 1789, 1813, 1819, 1821, 1834, 1837, 1850, 1857, 1861, 1867, 1871, 1874, 1882, 1884, 1891, 1899, 1903, 1910, 1916, 1921, 1934, 1940, 1949, 1965, 1966, 1971, 1974, 1978, 1992, 1997, 2005, 2012, 2021, 2026, 2037, 2038, 2039, 2041, 2045, 2060, 2068, 2069, 2080, 2083, 2087, 2089, 2091, 2094, 2099, 2128, 2137, 2138, 2141, 2144, 2163, 2165, 2173, 2174, 2176, 2182, 2198, 2218, 2223, 2226, 2248, 2254, 2264, 2266, 2271, 2272, 2280, 2290, 2300, 2301, 2304, 2305, 2307, 2308, 2320, 2322, 2333, 2337, 2340, 2353, 2359, 2360, 2370, 2375, 2377, 2387, 2388, 2395, 2405, 2419, 2423, 2426, 2436, 2441, 2443, 2447, 2449, 2453, 2464, 2487, 2497, 2498, 2510, 2527, 2532, 2562, 2565, 2577, 2578, 2579, 2590, 2591, 2613, 2615, 2619, 2623, 2627, 2643, 2665, 2668, 2688, 2698]\n"
     ]
    }
   ],
   "source": [
    "flipped_mnist_trainset,idx1 = flip_labels_between_digits(mnist_trainset, digit1=7, digit2=1, flip_probability=0.4)\n",
    "flipped_mnist_trainset,idx2 = flip_labels_between_digits(flipped_mnist_trainset, digit1=6, digit2=9,flip_probability=0.3)\n",
    "idx = idx1 + idx2\n",
    "idx = sorted(idx)\n",
    "print(idx)\n",
    "mnist_trainset = flipped_mnist_trainset"
   ]
  },
  {
   "cell_type": "code",
   "execution_count": 47,
   "metadata": {},
   "outputs": [
    {
     "name": "stdout",
     "output_type": "stream",
     "text": [
      "2700\n"
     ]
    }
   ],
   "source": [
    "# Initialize models and optimizer\n",
    "torch.manual_seed(seed)\n",
    "mnist_model = MNIST_CNN()\n",
    "mnist_optimizer = optim.Adam(mnist_model.parameters(), lr=1e-3, betas=(0.9, 0.999))\n",
    "criterion = nn.CrossEntropyLoss() # multiclassification\n",
    "train_size_mnist = int(0.9 * len(mnist_trainset))\n",
    "print(len(mnist_trainset))\n",
    "indices = torch.randperm(len(mnist_trainset)).tolist()\n",
    "train_indices, val_indices = indices[:train_size_mnist], indices[train_size_mnist:]\n",
    "og_mnist_trainset = mnist_trainset\n",
    "# Create subsets of the list and the dataset\n",
    "mnist_valset = torch.utils.data.Subset(mnist_trainset, val_indices)\n",
    "mnist_trainset = torch.utils.data.Subset(mnist_trainset, train_indices)\n",
    "\n",
    "# Define data loaders for training, validation, and testing\n",
    "mnist_trainloader = DataLoader(mnist_trainset, batch_size=64, shuffle=True)\n",
    "mnist_valloader = DataLoader(mnist_valset, batch_size=64, shuffle=False)  # No need to shuffle the validation set\n",
    "mnist_testloader = DataLoader(mnist_testset, batch_size=64, shuffle=False)"
   ]
  },
  {
   "cell_type": "code",
   "execution_count": 48,
   "metadata": {},
   "outputs": [
    {
     "data": {
      "image/png": "[encoded data removed]",
      "text/plain": [
       "<Figure size 576x432 with 1 Axes>"
      ]
     },
     "metadata": {
      "needs_background": "light"
     },
     "output_type": "display_data"
    }
   ],
   "source": [
    "# Count occurrences of each digit (class) in the dataset\n",
    "class_counts = {}\n",
    "for input,target in DataLoader(mnist_trainset, batch_size=1, shuffle=True):\n",
    "    label=target.item()\n",
    "    if label in class_counts:\n",
    "        class_counts[label] += 1\n",
    "    else:\n",
    "        class_counts[label] = 1\n",
    "\n",
    "# Sort class counts by digit (0-9)\n",
    "sorted_class_counts = {digit: class_counts[digit] for digit in sorted(class_counts)}\n",
    "\n",
    "# Plot class distribution\n",
    "plt.figure(figsize=(8, 6))\n",
    "plt.bar(sorted_class_counts.keys(), sorted_class_counts.values(), color='skyblue')\n",
    "plt.xticks(range(10), labels=[str(i) for i in range(10)])\n",
    "plt.xlabel('Digit', fontsize=12)\n",
    "plt.ylabel('Count', fontsize=12)\n",
    "plt.title('Initial Class Distribution in MNIST', fontsize=14)\n",
    "plt.show()"
   ]
  },
  {
   "cell_type": "code",
   "execution_count": null,
   "metadata": {},
   "outputs": [
    {
     "ename": "KeyboardInterrupt",
     "evalue": "",
     "output_type": "error",
     "traceback": [
      "\u001b[0;31m---------------------------------------------------------------------------\u001b[0m",
      "\u001b[0;31mKeyboardInterrupt\u001b[0m                         Traceback (most recent call last)",
      "\u001b[1;32m/Users/tejasr/Documents/IITK/Semesters/sem 8/CS772/Project/Code/CS772-project/code_final_1.ipynb Cell 70\u001b[0m in \u001b[0;36m<cell line: 1>\u001b[0;34m()\u001b[0m\n\u001b[0;32m----> <a href='vscode-notebook-cell:/Users/tejasr/Documents/IITK/Semesters/sem%208/CS772/Project/Code/CS772-project/code_final_1.ipynb#Y126sZmlsZQ%3D%3D?line=0'>1</a>\u001b[0m mnist_test_accuracy \u001b[39m=\u001b[39m train_with_early_stopping(mnist_trainloader, mnist_valloader, mnist_testloader, mnist_model, mnist_optimizer, criterion)\n",
      "\u001b[1;32m/Users/tejasr/Documents/IITK/Semesters/sem 8/CS772/Project/Code/CS772-project/code_final_1.ipynb Cell 70\u001b[0m in \u001b[0;36mtrain_with_early_stopping\u001b[0;34m(trainloader, valloader, testloader, model, optimizer, criterion, patience)\u001b[0m\n\u001b[1;32m     <a href='vscode-notebook-cell:/Users/tejasr/Documents/IITK/Semesters/sem%208/CS772/Project/Code/CS772-project/code_final_1.ipynb#Y126sZmlsZQ%3D%3D?line=9'>10</a>\u001b[0m     outputs \u001b[39m=\u001b[39m model(inputs)\n\u001b[1;32m     <a href='vscode-notebook-cell:/Users/tejasr/Documents/IITK/Semesters/sem%208/CS772/Project/Code/CS772-project/code_final_1.ipynb#Y126sZmlsZQ%3D%3D?line=10'>11</a>\u001b[0m     loss \u001b[39m=\u001b[39m criterion(outputs, labels)\n\u001b[0;32m---> <a href='vscode-notebook-cell:/Users/tejasr/Documents/IITK/Semesters/sem%208/CS772/Project/Code/CS772-project/code_final_1.ipynb#Y126sZmlsZQ%3D%3D?line=11'>12</a>\u001b[0m     loss\u001b[39m.\u001b[39;49mbackward()\n\u001b[1;32m     <a href='vscode-notebook-cell:/Users/tejasr/Documents/IITK/Semesters/sem%208/CS772/Project/Code/CS772-project/code_final_1.ipynb#Y126sZmlsZQ%3D%3D?line=12'>13</a>\u001b[0m     optimizer\u001b[39m.\u001b[39mstep()\n\u001b[1;32m     <a href='vscode-notebook-cell:/Users/tejasr/Documents/IITK/Semesters/sem%208/CS772/Project/Code/CS772-project/code_final_1.ipynb#Y126sZmlsZQ%3D%3D?line=14'>15</a>\u001b[0m \u001b[39m# Validate the model\u001b[39;00m\n",
      "File \u001b[0;32m~/opt/anaconda3/envs/pytorch/lib/python3.9/site-packages/torch/_tensor.py:307\u001b[0m, in \u001b[0;36mTensor.backward\u001b[0;34m(self, gradient, retain_graph, create_graph, inputs)\u001b[0m\n\u001b[1;32m    298\u001b[0m \u001b[39mif\u001b[39;00m has_torch_function_unary(\u001b[39mself\u001b[39m):\n\u001b[1;32m    299\u001b[0m     \u001b[39mreturn\u001b[39;00m handle_torch_function(\n\u001b[1;32m    300\u001b[0m         Tensor\u001b[39m.\u001b[39mbackward,\n\u001b[1;32m    301\u001b[0m         (\u001b[39mself\u001b[39m,),\n\u001b[0;32m   (...)\u001b[0m\n\u001b[1;32m    305\u001b[0m         create_graph\u001b[39m=\u001b[39mcreate_graph,\n\u001b[1;32m    306\u001b[0m         inputs\u001b[39m=\u001b[39minputs)\n\u001b[0;32m--> 307\u001b[0m torch\u001b[39m.\u001b[39;49mautograd\u001b[39m.\u001b[39;49mbackward(\u001b[39mself\u001b[39;49m, gradient, retain_graph, create_graph, inputs\u001b[39m=\u001b[39;49minputs)\n",
      "File \u001b[0;32m~/opt/anaconda3/envs/pytorch/lib/python3.9/site-packages/torch/autograd/__init__.py:154\u001b[0m, in \u001b[0;36mbackward\u001b[0;34m(tensors, grad_tensors, retain_graph, create_graph, grad_variables, inputs)\u001b[0m\n\u001b[1;32m    151\u001b[0m \u001b[39mif\u001b[39;00m retain_graph \u001b[39mis\u001b[39;00m \u001b[39mNone\u001b[39;00m:\n\u001b[1;32m    152\u001b[0m     retain_graph \u001b[39m=\u001b[39m create_graph\n\u001b[0;32m--> 154\u001b[0m Variable\u001b[39m.\u001b[39;49m_execution_engine\u001b[39m.\u001b[39;49mrun_backward(\n\u001b[1;32m    155\u001b[0m     tensors, grad_tensors_, retain_graph, create_graph, inputs,\n\u001b[1;32m    156\u001b[0m     allow_unreachable\u001b[39m=\u001b[39;49m\u001b[39mTrue\u001b[39;49;00m, accumulate_grad\u001b[39m=\u001b[39;49m\u001b[39mTrue\u001b[39;49;00m)\n",
      "\u001b[0;31mKeyboardInterrupt\u001b[0m: "
     ]
    }
   ],
   "source": [
    "mnist_test_accuracy = train_with_early_stopping(mnist_trainloader, mnist_valloader, mnist_testloader, mnist_model, mnist_optimizer, criterion)"
   ]
  },
  {
   "cell_type": "code",
   "execution_count": 49,
   "metadata": {},
   "outputs": [],
   "source": [
    "def save_model(model, path):\n",
    "    torch.save(model.state_dict(), path)\n",
    "    \n",
    "def load_model(model, path):\n",
    "    model.load_state_dict(torch.load(path))\n",
    "    return model"
   ]
  },
  {
   "cell_type": "code",
   "execution_count": 46,
   "metadata": {},
   "outputs": [],
   "source": [
    "save_model(mnist_model, 'mnist_AN_final.pth')"
   ]
  },
  {
   "cell_type": "code",
   "execution_count": 50,
   "metadata": {},
   "outputs": [
    {
     "data": {
      "text/plain": [
       "MNIST_CNN(\n",
       "  (conv1): Conv2d(1, 32, kernel_size=(3, 3), stride=(1, 1))\n",
       "  (conv2): Conv2d(32, 32, kernel_size=(3, 3), stride=(1, 1))\n",
       "  (conv3): Conv2d(32, 64, kernel_size=(3, 3), stride=(1, 1))\n",
       "  (conv4): Conv2d(64, 64, kernel_size=(3, 3), stride=(1, 1))\n",
       "  (pool): MaxPool2d(kernel_size=2, stride=2, padding=0, dilation=1, ceil_mode=False)\n",
       "  (global_pool): AdaptiveAvgPool2d(output_size=1)\n",
       "  (fc): Linear(in_features=64, out_features=10, bias=True)\n",
       ")"
      ]
     },
     "execution_count": 50,
     "metadata": {},
     "output_type": "execute_result"
    }
   ],
   "source": [
    "load_model(mnist_model, 'mnist_AN_final.pth')"
   ]
  },
  {
   "cell_type": "code",
   "execution_count": 51,
   "metadata": {},
   "outputs": [
    {
     "data": {
      "image/png": "[encoded data removed]",
      "text/plain": [
       "<Figure size 576x432 with 1 Axes>"
      ]
     },
     "metadata": {
      "needs_background": "light"
     },
     "output_type": "display_data"
    }
   ],
   "source": [
    "pred_labels_np = []\n",
    "true_labels_np = []\n",
    "with torch.no_grad():\n",
    "    for inputs, labels in mnist_testloader: # batch wise for loop. \n",
    "        outputs = mnist_model(inputs)\n",
    "        _, predicted = torch.max(outputs, 1)\n",
    "        pred_labels_np.extend(predicted.numpy())\n",
    "        true_labels_np.extend(labels.numpy())\n",
    "\n",
    "\n",
    "# Compute confusion matrix\n",
    "cm = confusion_matrix(true_labels_np, pred_labels_np,labels=[0,1,2,3,4,5,6,7,8,9])\n",
    "cm_df = pd.DataFrame(cm, index=[0,1,2,3,4,5,6,7,8,9], columns=[0,1,2,3,4,5,6,7,8,9])\n",
    "\n",
    "# Define a custom formatting function to truncate or format the values\n",
    "def format_value(value):\n",
    "    return f'{value:.1f}'  # Example: truncate to 1 decimal place\n",
    "\n",
    "# Plot confusion matrix as heatmap with custom formatting\n",
    "plt.figure(figsize=(8, 6))\n",
    "sns.heatmap(cm_df, annot=True, cmap='Blues', fmt='.0f', linewidths=.5, annot_kws={\"size\": 16}, cbar=False)\n",
    "plt.xlabel('Predicted Label', fontsize=14)\n",
    "plt.ylabel('True Label', fontsize=14)\n",
    "plt.title('Confusion Matrix', fontsize=16)\n",
    "plt.show()"
   ]
  },
  {
   "cell_type": "code",
   "execution_count": 52,
   "metadata": {},
   "outputs": [
    {
     "data": {
      "image/png": "[encoded data removed]",
      "text/plain": [
       "<Figure size 432x288 with 1 Axes>"
      ]
     },
     "metadata": {
      "needs_background": "light"
     },
     "output_type": "display_data"
    }
   ],
   "source": [
    "wrong_predictions = {i: 0 for i in range(10)}  # Initialize a dictionary to count wrong predictions for each class\n",
    "\n",
    "with torch.no_grad():\n",
    "    for images, labels in DataLoader(mnist_testset, batch_size=64, shuffle=False):\n",
    "        outputs = mnist_model(images)\n",
    "        _, predicted = torch.max(outputs, 1)\n",
    "        # Compare predicted labels with true labels to identify incorrect predictions\n",
    "        wrong_indices = (predicted != labels).nonzero().squeeze()\n",
    "        if wrong_indices.numel() > 0:\n",
    "            if wrong_indices.dim() == 0:  # Handle the case when there's only one wrong prediction\n",
    "                wrong_indices = wrong_indices.unsqueeze(0)\n",
    "            for index in wrong_indices:\n",
    "                wrong_label = labels[index].item()\n",
    "                wrong_predictions[wrong_label] += 1\n",
    "\n",
    "# Step 4: Plot the histogram of wrong predictions for each class\n",
    "plt.bar(range(10), [wrong_predictions[i] for i in range(10)], tick_label=range(10))\n",
    "plt.xlabel('True Label')\n",
    "plt.ylabel('Number of Wrong Predictions')\n",
    "plt.title('Histogram of Wrong Predictions for Each Class in Test Data')\n",
    "plt.show()"
   ]
  },
  {
   "attachments": {},
   "cell_type": "markdown",
   "metadata": {},
   "source": [
    "Finding failure sets"
   ]
  },
  {
   "cell_type": "code",
   "execution_count": 53,
   "metadata": {},
   "outputs": [
    {
     "name": "stdout",
     "output_type": "stream",
     "text": [
      "The size of the failure set is  1283\n"
     ]
    }
   ],
   "source": [
    "failure_loader,failure_set,correct_set= create_failure_set(mnist_testloader, mnist_model)\n",
    "half_len = len(failure_set) // 2\n",
    "indices = torch.randperm(len(failure_set)).tolist()\n",
    "q_indices, h_indices = indices[:half_len], indices[half_len:]\n",
    "# Create subsets of the list and the dataset\n",
    "failure_set_query = torch.utils.data.Subset(failure_set, q_indices)\n",
    "failure_hold_out = torch.utils.data.Subset(failure_set, h_indices)\n"
   ]
  },
  {
   "attachments": {},
   "cell_type": "markdown",
   "metadata": {},
   "source": [
    "Cause identification:<br>\n",
    "- Linear influence"
   ]
  },
  {
   "cell_type": "code",
   "execution_count": null,
   "metadata": {},
   "outputs": [],
   "source": [
    "r=linear_influence_function(mnist_trainset,mnist_model,criterion,failure_set_query,gamma=0.01)\n",
    "sorted_pairs = sorted(r, key=sort_key)\n",
    "top_10=sorted_pairs[:10]"
   ]
  },
  {
   "attachments": {},
   "cell_type": "markdown",
   "metadata": {},
   "source": [
    "- EWC influence- add code here"
   ]
  },
  {
   "cell_type": "code",
   "execution_count": 46,
   "metadata": {},
   "outputs": [
    {
     "name": "stdout",
     "output_type": "stream",
     "text": [
      "Finding diagonal fisher\n",
      "10\n"
     ]
    },
    {
     "name": "stderr",
     "output_type": "stream",
     "text": [
      "                                                                      \r"
     ]
    },
    {
     "name": "stdout",
     "output_type": "stream",
     "text": [
      "Creating failure set\n",
      "The size of the failure set is  1283\n",
      "Doing laplace approximation using SGD\n",
      "65642\n",
      "torch.Size([65642, 65642])\n"
     ]
    },
    {
     "name": "stderr",
     "output_type": "stream",
     "text": [
      "100%|██████████| 10/10 [59:25<00:00, 356.52s/it]\n"
     ]
    },
    {
     "name": "stdout",
     "output_type": "stream",
     "text": [
      "Computing EWC influence\n"
     ]
    },
    {
     "name": "stderr",
     "output_type": "stream",
     "text": [
      "Finding EWC influence: 100%|██████████| 38/38 [00:05<00:00,  6.71it/s]\n"
     ]
    },
    {
     "name": "stdout",
     "output_type": "stream",
     "text": [
      "Finding failure causes\n",
      "[57, 1284, 316, 1312, 164, 478, 1162, 55, 92, 1895, 639, 2123, 1387, 796, 2225, 383, 642, 471, 1132, 255, 101, 48, 0, 1538, 909, 1193, 375, 1659, 1875, 1218, 563, 1460, 1637, 1489, 1096, 804, 1558, 188, 1473, 1892, 2387, 2085, 1256, 996, 142, 2156, 1494, 1382, 731, 2352, 638, 267, 71, 885, 643, 1268, 2206, 2404, 106, 674, 725, 2374, 1984, 1121, 2001, 1920]\n",
      "66\n"
     ]
    }
   ],
   "source": [
    "ewc_influences_AN, failure_causes_AN, failure_indices_AN = EWC_influence(mnist_model, mnist_trainloader, mnist_testloader, \"mnist_AN\", 0.01, 0.1, 10, use_existing=False)"
   ]
  },
  {
   "cell_type": "code",
   "execution_count": 49,
   "metadata": {},
   "outputs": [],
   "source": [
    "# Save the variables to pickle files\n",
    "with open('ewc_influences_AN.pkl', 'wb') as f:\n",
    "    pickle.dump(ewc_influences_AN, f)\n",
    "\n",
    "with open('failure_causes_AN.pkl', 'wb') as f:\n",
    "    pickle.dump(failure_causes_AN, f)\n",
    "\n",
    "with open('failure_indices_AN.pkl', 'wb') as f:\n",
    "    pickle.dump(failure_indices_AN, f)"
   ]
  },
  {
   "cell_type": "code",
   "execution_count": 54,
   "metadata": {},
   "outputs": [],
   "source": [
    "# Load ewc_influences_AN\n",
    "with open('ewc_influences_AN.pkl', 'rb') as f:\n",
    "    ewc_influences_AN = pickle.load(f)\n",
    "\n",
    "# Load failure_causes_AN\n",
    "with open('failure_causes_AN.pkl', 'rb') as f:\n",
    "    failure_causes_AN = pickle.load(f)\n",
    "\n",
    "# Load failure_indices_AN\n",
    "with open('failure_indices_AN.pkl', 'rb') as f:\n",
    "    failure_indices_AN = pickle.load(f)"
   ]
  },
  {
   "cell_type": "code",
   "execution_count": 55,
   "metadata": {},
   "outputs": [
    {
     "name": "stdout",
     "output_type": "stream",
     "text": [
      "tensor(5.2269)\n",
      "tensor(5.0010)\n",
      "tensor(4.8886)\n",
      "tensor(4.8382)\n",
      "tensor(4.2006)\n",
      "tensor(4.0898)\n",
      "tensor(3.6247)\n",
      "tensor(3.1925)\n",
      "tensor(2.8782)\n",
      "tensor(2.8636)\n",
      "tensor(2.7713)\n",
      "tensor(2.7288)\n",
      "tensor(2.6959)\n",
      "tensor(2.5490)\n",
      "tensor(2.4475)\n",
      "tensor(2.4193)\n"
     ]
    },
    {
     "data": {
      "image/png": "[encoded data removed]",
      "text/plain": [
       "<Figure size 864x864 with 16 Axes>"
      ]
     },
     "metadata": {
      "needs_background": "light"
     },
     "output_type": "display_data"
    }
   ],
   "source": [
    "plot_images_with_highest_influences(mnist_trainset, ewc_influences_AN)"
   ]
  },
  {
   "cell_type": "code",
   "execution_count": 22,
   "metadata": {},
   "outputs": [],
   "source": [
    "causal_set_input=[]\n",
    "causal_set_target=[]\n",
    "causal_size=0\n",
    "for i in sorted_pairs:\n",
    "    causal_size=causal_size+1\n",
    "    causal_set_input.append(i[0][0])\n",
    "    causal_set_target.append(i[0][1])\n",
    "    if causal_size==500:\n",
    "        break\n",
    "causal_set=torch.utils.data.TensorDataset(torch.stack(causal_set_input),torch.tensor(causal_set_target))"
   ]
  },
  {
   "cell_type": "code",
   "execution_count": 23,
   "metadata": {},
   "outputs": [
    {
     "data": {
      "text/plain": [
       "[<matplotlib.lines.Line2D at 0x7fd70b394610>]"
      ]
     },
     "execution_count": 23,
     "metadata": {},
     "output_type": "execute_result"
    },
    {
     "data": {
      "image/png": "[encoded data removed]",
      "text/plain": [
       "<Figure size 432x288 with 1 Axes>"
      ]
     },
     "metadata": {
      "needs_background": "light"
     },
     "output_type": "display_data"
    }
   ],
   "source": [
    "x=[]\n",
    "cnt=0\n",
    "for batch_idx,((images, labels, train_idx),r) in enumerate(sorted_pairs):\n",
    "    if train_idx in idx:\n",
    "        cnt+=1\n",
    "    x.append(cnt)\n",
    "plt.plot(x)"
   ]
  },
  {
   "cell_type": "code",
   "execution_count": 24,
   "metadata": {},
   "outputs": [
    {
     "data": {
      "image/png": "[encoded data removed]",
      "text/plain": [
       "<Figure size 432x288 with 10 Axes>"
      ]
     },
     "metadata": {
      "needs_background": "light"
     },
     "output_type": "display_data"
    }
   ],
   "source": [
    "for batch_idx,((images, labels, train_idx),r_z) in enumerate(top_10):\n",
    "    # Plot each image in the batch\n",
    "    plt.subplot(2, 5, batch_idx + 1)  # Create subplot (2 rows, 5 columns)\n",
    "    image = images[0].squeeze().numpy()  # Squeeze to remove batch dimension, convert to numpy array\n",
    "    plt.imshow(image, cmap='gray')  # Display image in grayscale\n",
    "    plt.title(f'Label: {labels[0]}')  # Display corresponding label as title\n",
    "    plt.axis('off')  # Turn off axis\n",
    "\n",
    "plt.tight_layout()  # Adjust layout\n",
    "plt.show()  # Show plot"
   ]
  },
  {
   "attachments": {},
   "cell_type": "markdown",
   "metadata": {},
   "source": [
    "F is the failure set denoting the examples on which there is wrong prediction"
   ]
  },
  {
   "attachments": {},
   "cell_type": "markdown",
   "metadata": {},
   "source": [
    "Treatment methods\n",
    "- MLE on D\\C"
   ]
  },
  {
   "cell_type": "code",
   "execution_count": 159,
   "metadata": {},
   "outputs": [
    {
     "name": "stdout",
     "output_type": "stream",
     "text": [
      "[57, 1284, 316, 1312, 164, 478, 1162, 55, 92, 1895, 639, 2123, 1387, 796, 2225, 383, 642, 471, 1132, 255, 101, 48, 0, 1538, 909, 1193, 375, 1659, 1875, 1218, 563, 1460, 1637, 1489, 1096, 804, 1558, 188, 1473, 1892, 2387, 2085, 1256, 996, 142, 2156, 1494, 1382, 731, 2352, 638, 267, 71, 885, 643, 1268, 2206, 2404, 106, 674, 725, 2374, 1984, 1121, 2001, 1920, 246, 1323, 482, 1455, 1158, 144, 1313, 22, 2419, 15, 1068, 1322, 2113, 1695, 1184, 754, 2017, 1955, 205, 1482, 1990, 1277, 1877, 1732, 95, 1118, 1443, 1140, 2428, 1578, 2170, 792, 1708, 1245, 872, 869, 723, 2159, 2234, 2363, 1935, 2228, 2384, 2207, 1722, 2226, 985, 1606, 270, 1975, 1231, 1880, 2224, 469, 660, 116, 39, 2038, 2403, 2158, 881, 522, 459, 2218, 1516, 1430, 1916, 1523, 2354, 1557, 53, 2105, 2022, 1580, 1918, 321, 632, 749, 1425, 1713, 912, 128, 2204, 2421, 2217, 1421, 2006, 1625, 874, 334, 1634, 695, 1615, 1944, 418, 2164, 1787, 326, 1560, 1283, 4, 903, 1074, 1874, 1404, 582, 141, 1401, 1668, 1603, 2392, 453, 2020, 1665, 1779, 1093, 758, 1088, 1675, 2002, 956, 955, 1856, 318, 1280, 1828, 113, 968, 1967, 466, 1842, 1902, 2068, 1635, 1065, 1172, 328, 35, 392, 1901, 1814, 1487, 1685, 1182, 2263, 806, 1130, 2050, 1400, 2094, 1493, 1295, 1865, 999, 109, 2028, 993, 366, 776, 1514, 132, 1726, 1247, 650, 2008, 2055, 514, 1306, 58, 616, 954, 1953, 301, 1939, 269, 2104, 2166, 697, 1291, 586, 2110, 2278, 438, 990, 1293, 1638, 331, 1725, 1724, 1270, 1348, 805, 1054, 1778, 1043, 1742, 1380, 335, 96, 1858, 1747, 279, 1832, 2176, 1250, 2272, 1426, 1612, 432, 28, 865, 873, 1226, 2112, 655, 2066, 974, 66, 1062, 13, 1613, 1930, 329, 1520, 266, 879, 1397, 1275, 2410, 2264, 782, 528, 1763, 115, 2377, 1549, 1882, 2375, 1210, 2107, 572, 483, 894, 1711, 2161, 2313, 558, 802, 1098, 736, 43, 2023, 1294, 1789, 1730, 1588, 2018, 2269, 1795, 1833, 1366, 2142, 2140, 341, 1395, 2347, 237, 1664, 1566, 229, 413, 654, 60, 1457, 593, 1059, 347, 117, 623, 2210, 1485, 7, 2051, 2056, 817, 1483, 1913, 1979, 652, 1533, 520, 1622, 2359, 1871, 712, 2216, 248, 1122, 1165, 2336, 503, 421, 47, 517, 941, 922, 75, 314, 786, 2297, 1948, 1135, 991, 210, 1154, 587, 2162, 393, 838, 353, 470, 825, 2422, 2109, 1854, 476, 2122, 1801, 1502, 1197, 1764, 2372, 1035, 1137, 2295, 2054, 2121, 815, 1517, 382, 426, 1376, 1904, 2190, 443, 766, 162, 2114, 1442, 342, 1196, 936, 1590, 1831, 1246, 771, 2082, 1260, 580, 49, 1817, 1835, 214, 2361, 16, 2138, 1372, 835, 282, 1296, 978, 1886, 254, 1632, 581, 98, 300, 2136, 2143, 1, 259, 573, 2243, 2337, 602, 812, 1623, 2429, 599, 887, 2029, 1273, 51, 780, 165, 2253, 988, 2201, 1907, 41, 700, 1053, 901, 1267, 1131, 2019, 1249, 730, 1809, 131, 1488, 857, 769, 810, 1682, 1504, 728, 1821, 1816, 1209, 2064, 297, 953, 763, 1134, 84, 1738, 1286, 2274, 628, 1526, 1830, 1470, 610, 2146, 2173, 523, 1150, 2077, 78, 1640, 414, 408, 667, 122, 1438, 363, 1966, 29, 339, 2078, 68, 1540, 606, 1651, 1894, 2, 2160, 2406, 1909, 171, 2319, 1531, 1631, 1777, 1337, 732, 1957, 720, 2171, 1476, 2418, 966, 561, 1888, 1823, 811, 1409, 1556, 1609, 486, 1630, 2011, 1094, 456, 2183, 333, 2134, 1004, 512, 1662, 553, 2208, 2397, 504, 1818, 1466, 1061, 111, 1621, 1666, 288, 1216, 1715, 69, 1667, 928, 832, 225, 2004, 1009, 2250, 284, 803, 461, 2342, 147, 507, 1997, 448, 451, 247, 1611, 634, 1099, 1567, 489, 2070, 914, 72, 2000, 2332, 114, 1153, 2032, 1649, 734, 2178, 2256, 717, 264, 2026, 1157, 1340, 2185, 204, 157, 1620, 403, 1589, 1751, 364, 1712, 751, 866, 27, 1417, 1069, 2310, 327, 1671, 1577, 733, 1728, 1327, 1402, 764, 714, 1956, 74, 1505, 1510, 194, 745, 2373, 177, 772, 1959, 107, 1624, 423, 1080, 1740, 2095, 952, 775, 1503, 1529, 1259, 824, 37, 1790, 1783, 183, 1805, 800, 557, 59, 946, 1718, 747, 2205, 2072, 2341, 1357, 1359, 6, 576, 152, 40, 1926, 1760, 1866, 2350, 1048, 2034, 707, 1998, 1885, 1146, 2242, 1032, 1257, 1562, 839, 1947, 18, 2385, 544, 1660, 1850, 1419, 1922, 2262, 345, 1879, 2330, 112, 1369, 2424, 1416, 343, 1086, 962, 588, 2060, 344, 994, 1252, 428, 1864, 567, 849, 608, 1701, 454, 821, 2211, 2021, 530, 846, 1815, 1551, 10, 402, 1169, 688, 455, 281, 2303, 1091, 1614, 1339, 351, 684, 1861, 609, 325, 617, 716, 1593, 713, 1676, 249, 1191, 518, 1474, 1582, 545, 870, 332, 1282, 814, 2031, 1388, 2065, 1988, 648, 185, 1006, 446, 789, 2091, 1019, 949, 1160, 2247, 1644, 1120, 1331, 148, 1047, 547, 2285, 93, 415, 2351, 2300, 1952, 2329, 601, 348, 1190, 509, 1807, 145, 669, 1681, 239, 2111, 1798, 1834, 2265, 349, 1440, 574, 424, 405, 2203, 1175, 898, 527, 1655, 437, 1465, 2368, 2305, 1367, 1870, 2063, 1923, 2343, 2042, 973, 888, 1071, 627, 2103, 1791, 2135, 1524, 1893, 673, 1961, 126, 2356, 1700, 560, 1378, 473, 369, 1943, 539, 1745, 123, 1418, 1027, 1335, 1657, 646, 1647, 1535, 170, 2415, 2417, 1194, 420, 813, 1710, 992, 1617, 425, 1435, 741, 2414, 1058, 1200, 943, 1201, 1694, 1319, 559, 840, 1362, 1717, 1525, 1292, 2147, 1073, 1352, 380, 686, 1642, 401, 1919, 1309, 1243, 500, 1042, 468, 467, 1115, 208, 711, 124, 1112, 624, 1633, 373, 487, 672, 925, 1928, 1030, 600, 1070, 2398, 272, 1446, 361, 1841, 1552, 2093, 621, 1737, 757, 2179, 299, 1441, 1513, 1782, 1033, 1855, 893, 612, 434, 2335, 1123, 858, 1083, 397, 2425, 2286, 1536, 820, 635, 82, 1026, 801, 1508, 1550, 1232, 1159, 562, 959, 203, 430, 683, 1241, 923, 216, 1168, 398, 1379, 2271, 1565, 1055, 511, 1012, 100, 38, 305, 1219, 1287, 945, 951, 206, 861, 967, 1010, 360, 1041, 2175, 90, 1334, 67, 1192, 1670, 552, 2381, 961, 878, 1583, 1973, 1308, 640, 2395, 2383, 921, 198, 2252, 976, 2157, 1262, 63, 173, 1541, 1762, 2154, 1829, 497, 721, 551, 750]\n",
      "The size of the identified failure set C is  1000\n",
      "Number of images in corrected dataset are:  1430\n",
      "23\n"
     ]
    },
    {
     "name": "stderr",
     "output_type": "stream",
     "text": [
      "MLE on corrected dataset: 100%|██████████| 23/23 [00:04<00:00,  4.69it/s]\n",
      "Fine-tuning on Corrected Data:  20%|██        | 1/5 [00:04<00:19,  4.91s/it]"
     ]
    },
    {
     "name": "stdout",
     "output_type": "stream",
     "text": [
      "Epoch [1/5], Loss: 0.4975\n"
     ]
    },
    {
     "name": "stderr",
     "output_type": "stream",
     "text": [
      "MLE on corrected dataset: 100%|██████████| 23/23 [00:04<00:00,  4.67it/s]\n",
      "Fine-tuning on Corrected Data:  40%|████      | 2/5 [00:09<00:14,  4.92s/it]"
     ]
    },
    {
     "name": "stdout",
     "output_type": "stream",
     "text": [
      "Epoch [2/5], Loss: 0.4840\n"
     ]
    },
    {
     "name": "stderr",
     "output_type": "stream",
     "text": [
      "MLE on corrected dataset: 100%|██████████| 23/23 [00:04<00:00,  4.71it/s]\n",
      "Fine-tuning on Corrected Data:  60%|██████    | 3/5 [00:14<00:09,  4.90s/it]"
     ]
    },
    {
     "name": "stdout",
     "output_type": "stream",
     "text": [
      "Epoch [3/5], Loss: 0.4756\n"
     ]
    },
    {
     "name": "stderr",
     "output_type": "stream",
     "text": [
      "MLE on corrected dataset: 100%|██████████| 23/23 [00:05<00:00,  4.49it/s]\n",
      "Fine-tuning on Corrected Data:  80%|████████  | 4/5 [00:19<00:04,  4.99s/it]"
     ]
    },
    {
     "name": "stdout",
     "output_type": "stream",
     "text": [
      "Epoch [4/5], Loss: 0.4692\n"
     ]
    },
    {
     "name": "stderr",
     "output_type": "stream",
     "text": [
      "MLE on corrected dataset: 100%|██████████| 23/23 [00:04<00:00,  4.70it/s]\n",
      "Fine-tuning on Corrected Data: 100%|██████████| 5/5 [00:24<00:00,  4.95s/it]"
     ]
    },
    {
     "name": "stdout",
     "output_type": "stream",
     "text": [
      "Epoch [5/5], Loss: 0.4641\n"
     ]
    },
    {
     "name": "stderr",
     "output_type": "stream",
     "text": [
      "\n"
     ]
    }
   ],
   "source": [
    "# Find failure causes C\n",
    "top_k = 1000 # Change to desired value if you want to select top k points\n",
    "failure_causes, failure_indices = find_failure_causes(mnist_trainloader, ewc_influences_AN, top_k)\n",
    "print(\"The size of the identified failure set C is \",len(failure_causes))\n",
    "# Create a corrected DataLoader\n",
    "corrected_dataloader_AN = create_corrected_dataloader(mnist_trainloader, failure_indices)\n",
    "print(len(corrected_dataloader_AN))\n",
    "# Fine-tune theta on corrected data D\\C\n",
    "theta_hat_AN= torch.cat([param.view(-1) for param in mnist_model.parameters()])\n",
    "model_MLE_AN, losses = fine_tune_theta_on_corrected_data(model=mnist_model, theta= theta_hat_AN, data_loader=corrected_dataloader_AN, num_epochs=5, lr=0.01)\n",
    "save_model(model_MLE_AN, 'model_MLE_AN.pth')"
   ]
  },
  {
   "cell_type": "code",
   "execution_count": 134,
   "metadata": {},
   "outputs": [
    {
     "name": "stdout",
     "output_type": "stream",
     "text": [
      "Epoch 1: Validation Accuracy: 0.0962962962962963\n",
      "Epoch 2: Validation Accuracy: 0.25555555555555554\n",
      "Epoch 3: Validation Accuracy: 0.4148148148148148\n",
      "Epoch 4: Validation Accuracy: 0.5407407407407407\n",
      "Epoch 5: Validation Accuracy: 0.5740740740740741\n",
      "Epoch 6: Validation Accuracy: 0.6111111111111112\n",
      "Epoch 7: Validation Accuracy: 0.6592592592592592\n",
      "Epoch 8: Validation Accuracy: 0.6703703703703704\n",
      "Epoch 9: Validation Accuracy: 0.674074074074074\n",
      "Epoch 10: Validation Accuracy: 0.6962962962962963\n",
      "Epoch 11: Validation Accuracy: 0.7111111111111111\n",
      "Epoch 12: Validation Accuracy: 0.737037037037037\n",
      "Epoch 13: Validation Accuracy: 0.762962962962963\n",
      "Epoch 14: Validation Accuracy: 0.7592592592592593\n",
      "Epoch 15: Validation Accuracy: 0.7666666666666667\n",
      "Epoch 16: Validation Accuracy: 0.7777777777777778\n",
      "Epoch 17: Validation Accuracy: 0.7777777777777778\n",
      "Epoch 18: Validation Accuracy: 0.7814814814814814\n",
      "Epoch 19: Validation Accuracy: 0.7851851851851852\n",
      "Epoch 20: Validation Accuracy: 0.7962962962962963\n",
      "Epoch 21: Validation Accuracy: 0.8037037037037037\n",
      "Epoch 22: Validation Accuracy: 0.8074074074074075\n",
      "Epoch 23: Validation Accuracy: 0.8\n",
      "Epoch 24: Validation Accuracy: 0.7962962962962963\n",
      "Epoch 25: Validation Accuracy: 0.7962962962962963\n",
      "Epoch 26: Validation Accuracy: 0.7925925925925926\n",
      "Epoch 27: Validation Accuracy: 0.7962962962962963\n",
      "No improvement for 5 epochs. Early stopping...\n",
      "Test Accuracy: 0.8638\n"
     ]
    }
   ],
   "source": [
    "mnist_new_AN= MNIST_CNN()\n",
    "mnist_new_optimizer = optim.Adam(mnist_new_AN.parameters(), lr=1e-3, betas=(0.9, 0.999))\n",
    "mnist_test_accuracy = train_with_early_stopping(corrected_dataloader_AN, mnist_valloader, mnist_testloader, mnist_new_AN, mnist_new_optimizer, criterion)"
   ]
  },
  {
   "attachments": {},
   "cell_type": "markdown",
   "metadata": {},
   "source": [
    "Different from MLE method because here we are using the validation set as the way to stop training rather than looking only at the training set. "
   ]
  },
  {
   "cell_type": "code",
   "execution_count": 135,
   "metadata": {},
   "outputs": [
    {
     "name": "stdout",
     "output_type": "stream",
     "text": [
      "Accuracy on query set is:  0.0\n",
      "Accuracy on hold out is:  0.0\n",
      "Accuracy on correct set is:  1.0\n"
     ]
    }
   ],
   "source": [
    "find_accuracy(mnist_model, failure_set_query, failure_hold_out, correct_set)"
   ]
  },
  {
   "attachments": {},
   "cell_type": "markdown",
   "metadata": {},
   "source": [
    "As expected, so we are using correct failure set "
   ]
  },
  {
   "cell_type": "code",
   "execution_count": 160,
   "metadata": {},
   "outputs": [
    {
     "name": "stdout",
     "output_type": "stream",
     "text": [
      "Accuracy on query set is:  0.5195007800312013\n",
      "Accuracy on hold out is:  0.5155763239875389\n",
      "Accuracy on correct set is:  0.8964093151313526\n"
     ]
    }
   ],
   "source": [
    "find_accuracy(model_MLE_AN, failure_set_query, failure_hold_out, correct_set)"
   ]
  },
  {
   "cell_type": "code",
   "execution_count": 136,
   "metadata": {},
   "outputs": [
    {
     "name": "stdout",
     "output_type": "stream",
     "text": [
      "Accuracy on query set is:  0.6162246489859594\n",
      "Accuracy on hold out is:  0.5950155763239875\n",
      "Accuracy on correct set is:  0.9018010783526442\n"
     ]
    }
   ],
   "source": [
    "find_accuracy(mnist_new_AN, failure_set_query, failure_hold_out, correct_set)"
   ]
  },
  {
   "attachments": {},
   "cell_type": "markdown",
   "metadata": {},
   "source": [
    "- Newton update"
   ]
  },
  {
   "cell_type": "code",
   "execution_count": 27,
   "metadata": {},
   "outputs": [
    {
     "name": "stdout",
     "output_type": "stream",
     "text": [
      "Going to calculate FIM\n",
      "Done with FIM calculations\n",
      "tensor([0.0138, 0.0090, 0.0078,  ..., 0.0507, 0.0030, 0.0449])\n",
      "tensor([ 72.3620, 111.4085, 128.3746,  ...,  19.7133, 328.8596,  22.2898])\n",
      "7e-07\n",
      "Accuracy on query set is:  0.03248259860788863\n",
      "Accuracy on hold out is:  0.015081206496519721\n",
      "Accuracy on correct set is:  0.9864668922184631\n",
      "9e-07\n",
      "Accuracy on query set is:  0.042923433874709975\n",
      "Accuracy on hold out is:  0.025522041763341066\n",
      "Accuracy on correct set is:  0.9821169647172547\n",
      "1e-06\n",
      "Accuracy on query set is:  0.04640371229698376\n",
      "Accuracy on hold out is:  0.030162412993039442\n",
      "Accuracy on correct set is:  0.9805461575640406\n",
      "2e-06\n",
      "Accuracy on query set is:  0.06728538283062645\n",
      "Accuracy on hold out is:  0.04640371229698376\n",
      "Accuracy on correct set is:  0.9537216046399226\n",
      "3e-06\n",
      "Accuracy on query set is:  0.07424593967517401\n",
      "Accuracy on hold out is:  0.05336426914153132\n",
      "Accuracy on correct set is:  0.9079265345577574\n",
      "4e-06\n",
      "Accuracy on query set is:  0.07076566125290024\n",
      "Accuracy on hold out is:  0.05568445475638051\n",
      "Accuracy on correct set is:  0.8423151280811987\n",
      "5e-06\n",
      "Accuracy on query set is:  0.06728538283062645\n",
      "Accuracy on hold out is:  0.04640371229698376\n",
      "Accuracy on correct set is:  0.763412276462059\n"
     ]
    }
   ],
   "source": [
    "acc_fail,acc_corr=newton_step(mnist_trainset,mnist_model,criterion,DataLoader(causal_set,batch_size=1),gamma=[7e-7,9e-7,1e-6,2e-6,3e-6,4e-6,5e-6])\n"
   ]
  },
  {
   "cell_type": "code",
   "execution_count": 28,
   "metadata": {},
   "outputs": [
    {
     "data": {
      "text/plain": [
       "[<matplotlib.lines.Line2D at 0x7fd70b6dd5e0>]"
      ]
     },
     "execution_count": 28,
     "metadata": {},
     "output_type": "execute_result"
    },
    {
     "data": {
      "image/png": "[encoded data removed]",
      "text/plain": [
       "<Figure size 432x288 with 1 Axes>"
      ]
     },
     "metadata": {
      "needs_background": "light"
     },
     "output_type": "display_data"
    }
   ],
   "source": [
    "# plt.scatter(x=[0.31,0.33,0.23,0.12],y=[0.945,0.876,0.782,0.670])\n",
    "plt.plot(acc_fail, acc_corr, linestyle='dashed', marker='s')"
   ]
  },
  {
   "attachments": {},
   "cell_type": "markdown",
   "metadata": {},
   "source": [
    "-EWC deletion"
   ]
  },
  {
   "cell_type": "code",
   "execution_count": 63,
   "metadata": {},
   "outputs": [
    {
     "name": "stdout",
     "output_type": "stream",
     "text": [
      "[57, 1284, 316, 1312, 164, 478, 1162, 55, 92, 1895, 639, 2123, 1387, 796, 2225, 383, 642, 471, 1132, 255, 101, 48, 0, 1538, 909, 1193, 375, 1659, 1875, 1218, 563, 1460, 1637, 1489, 1096, 804, 1558, 188, 1473, 1892, 2387, 2085, 1256, 996, 142, 2156, 1494, 1382, 731, 2352, 638, 267, 71, 885, 643, 1268, 2206, 2404, 106, 674, 725, 2374, 1984, 1121, 2001, 1920, 246, 1323, 482, 1455, 1158, 144, 1313, 22, 2419, 15, 1068, 1322, 2113, 1695, 1184, 754, 2017, 1955, 205, 1482, 1990, 1277, 1877, 1732, 95, 1118, 1443, 1140, 2428, 1578, 2170, 792, 1708, 1245, 872, 869, 723, 2159, 2234, 2363, 1935, 2228, 2384, 2207, 1722, 2226, 985, 1606, 270, 1975, 1231, 1880, 2224, 469, 660, 116, 39, 2038, 2403, 2158, 881, 522, 459, 2218, 1516, 1430, 1916, 1523, 2354, 1557, 53, 2105, 2022, 1580, 1918, 321, 632, 749, 1425, 1713, 912, 128, 2204, 2421, 2217, 1421, 2006, 1625, 874, 334, 1634, 695, 1615, 1944, 418, 2164, 1787, 326, 1560, 1283, 4, 903, 1074, 1874, 1404, 582, 141, 1401, 1668, 1603, 2392, 453, 2020, 1665, 1779, 1093, 758, 1088, 1675, 2002, 956, 955, 1856, 318, 1280, 1828, 113, 968, 1967, 466, 1842, 1902, 2068, 1635, 1065, 1172, 328, 35, 392, 1901, 1814, 1487, 1685, 1182, 2263, 806, 1130, 2050, 1400, 2094, 1493, 1295, 1865, 999, 109, 2028, 993, 366, 776, 1514, 132, 1726, 1247, 650, 2008, 2055, 514, 1306, 58, 616, 954, 1953, 301, 1939, 269, 2104, 2166, 697, 1291, 586, 2110, 2278, 438, 990, 1293, 1638, 331, 1725, 1724, 1270, 1348, 805, 1054, 1778, 1043, 1742, 1380, 335, 96, 1858, 1747, 279, 1832, 2176, 1250, 2272, 1426, 1612, 432, 28, 865, 873, 1226, 2112, 655, 2066, 974, 66, 1062, 13, 1613, 1930, 329, 1520, 266, 879, 1397, 1275, 2410, 2264, 782, 528, 1763, 115, 2377, 1549, 1882, 2375, 1210, 2107, 572, 483, 894, 1711, 2161, 2313, 558, 802, 1098, 736, 43, 2023, 1294, 1789, 1730, 1588, 2018, 2269, 1795, 1833, 1366, 2142, 2140, 341, 1395, 2347, 237, 1664, 1566, 229, 413, 654, 60, 1457, 593, 1059, 347, 117, 623, 2210, 1485, 7, 2051, 2056, 817, 1483, 1913, 1979, 652, 1533, 520, 1622, 2359, 1871, 712, 2216, 248, 1122, 1165, 2336, 503, 421, 47, 517, 941, 922, 75, 314, 786, 2297, 1948, 1135, 991, 210, 1154, 587, 2162, 393, 838, 353, 470, 825, 2422, 2109, 1854, 476, 2122, 1801, 1502, 1197, 1764, 2372, 1035, 1137, 2295, 2054, 2121, 815, 1517, 382, 426, 1376, 1904, 2190, 443, 766, 162, 2114, 1442, 342, 1196, 936, 1590, 1831, 1246, 771, 2082, 1260, 580, 49, 1817, 1835, 214, 2361, 16, 2138, 1372, 835, 282, 1296, 978, 1886, 254, 1632, 581, 98, 300, 2136, 2143, 1, 259, 573, 2243, 2337, 602, 812, 1623, 2429, 599, 887, 2029, 1273, 51, 780, 165, 2253, 988, 2201, 1907, 41, 700, 1053, 901, 1267, 1131, 2019, 1249, 730, 1809, 131, 1488, 857, 769, 810, 1682, 1504, 728, 1821, 1816, 1209, 2064, 297, 953, 763, 1134, 84, 1738, 1286, 2274, 628, 1526, 1830, 1470, 610, 2146, 2173, 523, 1150, 2077, 78, 1640, 414, 408, 667, 122, 1438, 363, 1966, 29, 339, 2078, 68, 1540, 606, 1651, 1894, 2, 2160, 2406, 1909, 171, 2319, 1531, 1631, 1777, 1337, 732, 1957, 720, 2171, 1476, 2418, 966, 561, 1888, 1823, 811, 1409, 1556, 1609, 486, 1630, 2011, 1094, 456, 2183, 333, 2134, 1004, 512, 1662, 553, 2208, 2397, 504, 1818, 1466, 1061, 111, 1621, 1666, 288, 1216, 1715, 69, 1667, 928, 832, 225, 2004, 1009, 2250, 284, 803, 461, 2342, 147, 507, 1997, 448, 451, 247, 1611, 634, 1099, 1567, 489, 2070, 914, 72, 2000, 2332, 114, 1153, 2032, 1649, 734, 2178, 2256, 717, 264, 2026, 1157, 1340, 2185, 204, 157, 1620, 403, 1589, 1751, 364, 1712, 751, 866, 27, 1417, 1069, 2310, 327, 1671, 1577, 733, 1728, 1327, 1402, 764, 714, 1956, 74, 1505, 1510, 194, 745, 2373, 177, 772, 1959, 107, 1624, 423, 1080, 1740, 2095, 952, 775, 1503, 1529, 1259, 824, 37, 1790, 1783, 183, 1805, 800, 557, 59, 946, 1718, 747, 2205, 2072, 2341, 1357, 1359, 6, 576, 152, 40, 1926, 1760, 1866, 2350, 1048, 2034, 707, 1998, 1885, 1146, 2242, 1032, 1257, 1562, 839, 1947, 18, 2385, 544, 1660, 1850, 1419, 1922, 2262, 345, 1879, 2330, 112, 1369, 2424, 1416, 343, 1086, 962, 588, 2060, 344, 994, 1252, 428, 1864, 567, 849, 608, 1701, 454, 821, 2211, 2021, 530, 846, 1815, 1551, 10, 402, 1169, 688, 455, 281, 2303, 1091, 1614, 1339, 351, 684, 1861, 609, 325, 617, 716, 1593, 713, 1676, 249, 1191, 518, 1474, 1582, 545, 870, 332, 1282, 814, 2031, 1388, 2065, 1988, 648, 185, 1006, 446, 789, 2091, 1019, 949, 1160, 2247, 1644, 1120, 1331, 148, 1047, 547, 2285, 93, 415, 2351, 2300, 1952, 2329, 601, 348, 1190, 509, 1807, 145, 669, 1681, 239, 2111, 1798, 1834, 2265, 349, 1440, 574, 424, 405, 2203, 1175, 898, 527, 1655, 437, 1465, 2368, 2305, 1367, 1870, 2063, 1923, 2343, 2042, 973, 888, 1071, 627, 2103, 1791, 2135, 1524, 1893, 673, 1961, 126, 2356, 1700, 560, 1378, 473, 369, 1943, 539, 1745, 123, 1418, 1027, 1335, 1657, 646, 1647, 1535, 170, 2415, 2417, 1194, 420, 813, 1710, 992, 1617, 425, 1435, 741, 2414, 1058, 1200, 943, 1201, 1694, 1319, 559, 840, 1362, 1717, 1525, 1292, 2147, 1073, 1352, 380, 686, 1642, 401, 1919, 1309, 1243, 500, 1042, 468, 467, 1115, 208, 711, 124, 1112, 624, 1633, 373, 487, 672, 925, 1928, 1030, 600, 1070, 2398, 272, 1446, 361, 1841, 1552, 2093, 621, 1737, 757, 2179, 299, 1441, 1513, 1782, 1033, 1855, 893, 612, 434, 2335, 1123, 858, 1083, 397, 2425, 2286, 1536, 820, 635, 82, 1026, 801, 1508, 1550, 1232, 1159, 562, 959, 203, 430, 683, 1241, 923, 216, 1168, 398, 1379, 2271, 1565, 1055, 511, 1012, 100, 38, 305, 1219, 1287, 945, 951, 206, 861, 967, 1010, 360, 1041, 2175, 90, 1334, 67, 1192, 1670, 552, 2381, 961, 878, 1583, 1973, 1308, 640, 2395, 2383, 921, 198, 2252, 976, 2157, 1262, 63, 173, 1541, 1762, 2154, 1829, 497, 721, 551, 750]\n",
      "The size of the identified failure set C is  1000\n"
     ]
    }
   ],
   "source": [
    "# Find failure causes C\n",
    "top_k = 1000  # Change to desired value if you want to select top k points\n",
    "failure_causes_AN, failure_indices_AN = find_failure_causes(mnist_trainloader, ewc_influences_AN, top_k)\n",
    "print(\"The size of the identified failure set C is \",len(failure_causes_AN))\n",
    "# Create a corrected DataLoader"
   ]
  },
  {
   "cell_type": "code",
   "execution_count": null,
   "metadata": {},
   "outputs": [],
   "source": [
    "print(\"Number of failure causes = \",len(failure_causes_AN))\n",
    "failure_causes_dataloader = failure_causes_to_dataloader(failure_causes_AN, batch_size=32, shuffle=True)\n",
    "print(len(failure_causes_dataloader))\n",
    "# Call the function to update theta_hat_C using SGD for data deletion\n",
    "theta_hat= torch.cat([param.view(-1) for param in mnist_model.parameters()])\n",
    "lr = 0.01\n",
    "lambda_val = 0.0\n",
    "num_epochs = 2\n",
    "N= len(mnist_trainloader.sampler)\n",
    "params = {n: p for n, p in mnist_model.named_parameters() if p.requires_grad}\n",
    "# Mnist model has only ten named parameters, using torch.cat with .view(-1) on the params will give ~65k params. \n",
    "print(len(params))\n",
    "fisher_AN= get_fisher_diag(mnist_model, mnist_trainloader, params)\n",
    "theta_hat_EWC_deletion = EWC_data_deletion(theta_hat, fisher_AN, failure_causes_dataloader, mnist_model, lr, lambda_val, num_epochs, N)\n",
    "# Create a new model with parameters theta_F\n",
    "model_EWC_deletion_AN = create_model_with_theta(theta_hat_EWC_deletion)\n",
    "save_model(model_EWC_deletion_AN, 'model_EWC_deletion_AN.pth')"
   ]
  },
  {
   "cell_type": "code",
   "execution_count": 62,
   "metadata": {},
   "outputs": [
    {
     "name": "stdout",
     "output_type": "stream",
     "text": [
      "Accuracy on query set is:  0.0\n",
      "Accuracy on hold out is:  0.0\n",
      "Accuracy on correct set is:  1.0\n"
     ]
    }
   ],
   "source": [
    "find_accuracy(model_EWC_deletion_AN, failure_set_query, failure_hold_out, correct_set)"
   ]
  },
  {
   "cell_type": "markdown",
   "metadata": {},
   "source": [
    "### Adding salt pepper noise"
   ]
  },
  {
   "cell_type": "code",
   "execution_count": 88,
   "metadata": {},
   "outputs": [],
   "source": [
    "def add_salt_pepper_noise(image, salt_prob=0.1, pepper_prob=0.1):\n",
    "    img_copied = image.clone()\n",
    "    img_tensor = img_copied.squeeze()  # Remove batch dimension\n",
    "    width, height = img_tensor.size()\n",
    "\n",
    "    # Add salt noise\n",
    "    num_salt = int(width * height * salt_prob)\n",
    "    salt_coords = [random.randint(0, width - 1) for _ in range(num_salt)], \\\n",
    "                  [random.randint(0, height - 1) for _ in range(num_salt)]\n",
    "    img_tensor[salt_coords] = 1.0\n",
    "\n",
    "    # Add pepper noise\n",
    "    num_pepper = int(width * height * pepper_prob)\n",
    "    pepper_coords = [random.randint(0, width - 1) for _ in range(num_pepper)], \\\n",
    "                    [random.randint(0, height - 1) for _ in range(num_pepper)]\n",
    "    img_tensor[pepper_coords] = 0.0\n",
    "\n",
    "    return img_tensor.unsqueeze(0)  # Add batch dimension back"
   ]
  },
  {
   "attachments": {},
   "cell_type": "markdown",
   "metadata": {},
   "source": [
    "### 2) Experiments with adding input noise "
   ]
  },
  {
   "cell_type": "code",
   "execution_count": 103,
   "metadata": {},
   "outputs": [
    {
     "name": "stdout",
     "output_type": "stream",
     "text": [
      "Total noised images are  342\n",
      "3000\n"
     ]
    }
   ],
   "source": [
    "# Define the root directory for data\n",
    "data_root = './data'\n",
    "\n",
    "# Define preprocessing transformations\n",
    "transform = transforms.Compose([\n",
    "    transforms.ToTensor(),  # Convert image to PyTorch tensor\n",
    "    transforms.Normalize((0.5,), (0.5,))  # Normalize pixel values to the range [-1, 1]\n",
    "])\n",
    "\n",
    "# Check if MNIST dataset is already downloaded, if not, download it\n",
    "if not os.path.exists(os.path.join(data_root, 'MNIST')):\n",
    "    mnist_trainset = torchvision.datasets.MNIST(root=data_root, train=True, download=True, transform=transform)\n",
    "    mnist_testset = torchvision.datasets.MNIST(root=data_root, train=False, download=True, transform=transform)\n",
    "else:\n",
    "    mnist_trainset = torchvision.datasets.MNIST(root=data_root, train=True, download=False, transform=transform)\n",
    "    mnist_testset = torchvision.datasets.MNIST(root=data_root, train=False, download=False, transform=transform)\n",
    "\n",
    "def stratified_sample(dataset, n_samples_per_class):\n",
    "    labels = dataset.targets.numpy()\n",
    "    classes = np.unique(labels)\n",
    "    \n",
    "    selected_indices = []\n",
    "    for cls in classes:\n",
    "        cls_indices = np.where(labels == cls)[0]\n",
    "        selected_cls_indices = np.random.choice(cls_indices, size=n_samples_per_class, replace=False)\n",
    "        selected_indices.extend(selected_cls_indices)\n",
    "    \n",
    "    return selected_indices\n",
    "\n",
    "n_samples_per_class = 300\n",
    "selected_indices = stratified_sample(mnist_trainset, n_samples_per_class)\n",
    "mnist_trainset = torch.utils.data.Subset(mnist_trainset, selected_indices)\n",
    "noised_num=0\n",
    "\n",
    "def add_salt_pepper_labels_on_digits(subset, noised_num, digit1, salt_probability=0.3):\n",
    "    salt_idx=[]\n",
    "    subset_data = torch.stack([subset[i][0] for i in range(len(subset))])\n",
    "    subset_labels = torch.tensor([subset[i][1] for i in range(len(subset))])\n",
    "    \n",
    "    for idx in range(len(subset)):\n",
    "        if int(subset_labels[idx]) is digit1:\n",
    "            # Flip label from digit1 to digit2 with the specified probability\n",
    "            if random.random() < salt_probability:\n",
    "                # print(\"ADdinhg noise!\")\n",
    "                noised_num+=1\n",
    "                salt_idx.append(idx)\n",
    "                subset_data[idx] = add_salt_pepper_noise(subset_data[idx])\n",
    "        # print(subset_labels[idx])\n",
    "    \n",
    "    # Create a new subset dataset with the modified labels\n",
    "    salted_subset = torch.utils.data.TensorDataset(subset_data, subset_labels)\n",
    "    # print(noised_num)\n",
    "    return salted_subset,salt_idx, noised_num\n",
    "salted_mnist_trainset,idx1, noised_num = add_salt_pepper_labels_on_digits(mnist_trainset, noised_num, digit1=7)\n",
    "salted_mnist_trainset,idx2, noised_num  = add_salt_pepper_labels_on_digits(salted_mnist_trainset, noised_num, digit1=1)\n",
    "salted_mnist_trainset,idx3, noised_num  = add_salt_pepper_labels_on_digits(salted_mnist_trainset, noised_num, digit1=6)\n",
    "salted_mnist_trainset,idx4, noised_num  = add_salt_pepper_labels_on_digits(salted_mnist_trainset, noised_num, digit1=9)\n",
    "idx = idx1+ idx2+idx3+idx4\n",
    "noised_indexes= idx\n",
    "print(\"Total noised images are \", noised_num)\n",
    "# mnist_trainset = salted_mnist_trainset\n",
    "# Initialize models and optimizer\n",
    "torch.manual_seed(seed)\n",
    "mnist_model_IN = MNIST_CNN()\n",
    "mnist_optimizer = optim.Adam(mnist_model_IN.parameters(), lr=1e-3, betas=(0.9, 0.999))\n",
    "criterion = nn.CrossEntropyLoss() # multiclassification\n",
    "train_size_mnist = int(0.9 * len(salted_mnist_trainset))\n",
    "print(len(salted_mnist_trainset))\n",
    "indices = torch.randperm(len(salted_mnist_trainset)).tolist()\n",
    "train_indices, val_indices = indices[:train_size_mnist], indices[train_size_mnist:]\n",
    "og_mnist_trainset = salted_mnist_trainset\n",
    "# Create subsets of the list and the dataset\n",
    "salted_mnist_valset = torch.utils.data.Subset(salted_mnist_trainset, val_indices)\n",
    "salted_mnist_trainset = torch.utils.data.Subset(salted_mnist_trainset, train_indices)\n",
    "\n",
    "# Define data loaders for training, validation, and testing\n",
    "salted_mnist_trainloader = DataLoader(salted_mnist_trainset, batch_size=64, shuffle=True)\n",
    "salted_mnist_valloader = DataLoader(salted_mnist_valset, batch_size=64, shuffle=False)  # No need to shuffle the validation set\n",
    "mnist_testloader = DataLoader(mnist_testset, batch_size=64, shuffle=False)"
   ]
  },
  {
   "cell_type": "code",
   "execution_count": 104,
   "metadata": {},
   "outputs": [
    {
     "name": "stdout",
     "output_type": "stream",
     "text": [
      "Epoch 1: Validation Accuracy: 0.25333333333333335\n",
      "Epoch 2: Validation Accuracy: 0.45\n",
      "Epoch 3: Validation Accuracy: 0.6533333333333333\n",
      "Epoch 4: Validation Accuracy: 0.7333333333333333\n",
      "Epoch 5: Validation Accuracy: 0.8133333333333334\n",
      "Epoch 6: Validation Accuracy: 0.82\n",
      "Epoch 7: Validation Accuracy: 0.89\n",
      "Epoch 8: Validation Accuracy: 0.8766666666666667\n",
      "Epoch 9: Validation Accuracy: 0.9133333333333333\n",
      "Epoch 10: Validation Accuracy: 0.8666666666666667\n",
      "Epoch 11: Validation Accuracy: 0.93\n",
      "Epoch 12: Validation Accuracy: 0.9533333333333334\n",
      "Epoch 13: Validation Accuracy: 0.94\n",
      "Epoch 14: Validation Accuracy: 0.94\n",
      "Epoch 15: Validation Accuracy: 0.9333333333333333\n",
      "Epoch 16: Validation Accuracy: 0.94\n",
      "Epoch 17: Validation Accuracy: 0.95\n",
      "No improvement for 5 epochs. Early stopping...\n",
      "Test Accuracy: 0.9404\n"
     ]
    }
   ],
   "source": [
    "mnist_test_accuracy = train_with_early_stopping(salted_mnist_trainloader, salted_mnist_valloader, mnist_testloader, mnist_model_IN, mnist_optimizer, criterion)"
   ]
  },
  {
   "cell_type": "code",
   "execution_count": 105,
   "metadata": {},
   "outputs": [],
   "source": [
    "save_model(mnist_model, 'mnist_IN_final.pth')"
   ]
  },
  {
   "cell_type": "code",
   "execution_count": null,
   "metadata": {},
   "outputs": [],
   "source": [
    "load_model(mnist_model, 'mnist_IN_final.pth')"
   ]
  },
  {
   "attachments": {},
   "cell_type": "markdown",
   "metadata": {},
   "source": [
    "Finding failure sets"
   ]
  },
  {
   "cell_type": "code",
   "execution_count": 122,
   "metadata": {},
   "outputs": [
    {
     "name": "stdout",
     "output_type": "stream",
     "text": [
      "The size of the failure set is  936\n"
     ]
    }
   ],
   "source": [
    "failure_loader_IN,failure_set_IN,correct_set_IN= create_failure_set(mnist_testloader, mnist_model_IN)\n",
    "half_len_IN = len(failure_set_IN) // 2\n",
    "indices_IN = torch.randperm(len(failure_set_IN)).tolist()\n",
    "q_indices_IN, h_indices_IN = indices_IN[:half_len], indices_IN[half_len:]\n",
    "# Create subsets of the list and the dataset\n",
    "failure_set_query_IN = torch.utils.data.Subset(failure_set_IN, q_indices_IN)\n",
    "failure_hold_out_IN = torch.utils.data.Subset(failure_set_IN, h_indices_IN)"
   ]
  },
  {
   "attachments": {},
   "cell_type": "markdown",
   "metadata": {},
   "source": [
    "- Linear influence"
   ]
  },
  {
   "cell_type": "code",
   "execution_count": null,
   "metadata": {},
   "outputs": [],
   "source": [
    "r=linear_influence_function(salted_mnist_trainset,mnist_model_IN,criterion,failure_set_query_IN,gamma=0.01)\n",
    "sorted_pairs = sorted(r, key=sort_key)\n",
    "top_10=sorted_pairs[:10]\n",
    "# print(top_10)\n",
    "x=[]\n",
    "cnt=0\n",
    "for batch_idx,((images, labels, train_idx),r) in enumerate(sorted_pairs):\n",
    "    if train_idx in idx:\n",
    "        cnt+=1\n",
    "    x.append(cnt)\n",
    "plt.plot(x)"
   ]
  },
  {
   "attachments": {},
   "cell_type": "markdown",
   "metadata": {},
   "source": [
    "- EWC influence"
   ]
  },
  {
   "cell_type": "code",
   "execution_count": 106,
   "metadata": {},
   "outputs": [
    {
     "name": "stdout",
     "output_type": "stream",
     "text": [
      "Finding diagonal fisher\n",
      "10\n"
     ]
    },
    {
     "name": "stderr",
     "output_type": "stream",
     "text": [
      "                                                                      \r"
     ]
    },
    {
     "name": "stdout",
     "output_type": "stream",
     "text": [
      "Creating failure set\n",
      "The size of the failure set is  596\n",
      "Doing laplace approximation using SGD\n",
      "65642\n",
      "torch.Size([65642, 65642])\n"
     ]
    },
    {
     "name": "stderr",
     "output_type": "stream",
     "text": [
      "  0%|          | 0/1 [00:00<?, ?it/s]"
     ]
    },
    {
     "name": "stdout",
     "output_type": "stream",
     "text": [
      "Loss: 2.332284688949585\n"
     ]
    },
    {
     "name": "stderr",
     "output_type": "stream",
     "text": []
    },
    {
     "name": "stdout",
     "output_type": "stream",
     "text": [
      "Loss: 2.3700013160705566\n"
     ]
    },
    {
     "name": "stderr",
     "output_type": "stream",
     "text": []
    },
    {
     "name": "stdout",
     "output_type": "stream",
     "text": [
      "Loss: 2.332496404647827\n"
     ]
    },
    {
     "name": "stderr",
     "output_type": "stream",
     "text": []
    },
    {
     "name": "stdout",
     "output_type": "stream",
     "text": [
      "Loss: 2.138759136199951\n"
     ]
    },
    {
     "name": "stderr",
     "output_type": "stream",
     "text": []
    },
    {
     "name": "stdout",
     "output_type": "stream",
     "text": [
      "Loss: 2.2211854457855225\n"
     ]
    },
    {
     "name": "stderr",
     "output_type": "stream",
     "text": []
    },
    {
     "name": "stdout",
     "output_type": "stream",
     "text": [
      "Loss: 2.3755617141723633\n"
     ]
    },
    {
     "name": "stderr",
     "output_type": "stream",
     "text": []
    },
    {
     "name": "stdout",
     "output_type": "stream",
     "text": [
      "Loss: 2.4835596084594727\n"
     ]
    },
    {
     "name": "stderr",
     "output_type": "stream",
     "text": []
    },
    {
     "name": "stdout",
     "output_type": "stream",
     "text": [
      "Loss: 2.3624868392944336\n"
     ]
    },
    {
     "name": "stderr",
     "output_type": "stream",
     "text": []
    },
    {
     "name": "stdout",
     "output_type": "stream",
     "text": [
      "Loss: 2.375126600265503\n"
     ]
    },
    {
     "name": "stderr",
     "output_type": "stream",
     "text": []
    },
    {
     "name": "stdout",
     "output_type": "stream",
     "text": [
      "Loss: 2.354752540588379\n"
     ]
    },
    {
     "name": "stderr",
     "output_type": "stream",
     "text": [
      "100%|██████████| 1/1 [03:06<00:00, 186.37s/it]\n"
     ]
    },
    {
     "name": "stdout",
     "output_type": "stream",
     "text": [
      "Computing EWC influence\n"
     ]
    },
    {
     "name": "stderr",
     "output_type": "stream",
     "text": [
      "Finding EWC influence: 100%|██████████| 43/43 [00:04<00:00,  8.69it/s]\n"
     ]
    }
   ],
   "source": [
    "ewc_influences_IN, failure_causes_IN, failure_indices_IN = EWC_influence(mnist_model_IN, salted_mnist_trainloader, mnist_testloader, \"mnist_IN\", 0.01, 0.1, 1, use_existing=False, calculate_failure= False)"
   ]
  },
  {
   "cell_type": "code",
   "execution_count": 107,
   "metadata": {},
   "outputs": [
    {
     "name": "stdout",
     "output_type": "stream",
     "text": [
      "tensor(3.8550)\n",
      "tensor(3.8451)\n",
      "tensor(3.7167)\n",
      "tensor(3.4731)\n",
      "tensor(3.4077)\n",
      "tensor(3.0013)\n",
      "tensor(2.9104)\n",
      "tensor(2.8996)\n",
      "tensor(2.8309)\n",
      "tensor(2.5310)\n",
      "tensor(2.5281)\n",
      "tensor(1.9319)\n",
      "tensor(1.9307)\n",
      "tensor(1.8759)\n",
      "tensor(1.8216)\n",
      "tensor(1.7736)\n"
     ]
    },
    {
     "data": {
      "image/png": "[encoded data removed]",
      "text/plain": [
       "<Figure size 864x864 with 16 Axes>"
      ]
     },
     "metadata": {
      "needs_background": "light"
     },
     "output_type": "display_data"
    }
   ],
   "source": [
    "plot_images_with_highest_influences(salted_mnist_trainset, ewc_influences_IN)"
   ]
  },
  {
   "cell_type": "markdown",
   "metadata": {},
   "source": [
    "Treatment methods\n",
    "- MLE on D\\C"
   ]
  },
  {
   "cell_type": "code",
   "execution_count": 162,
   "metadata": {},
   "outputs": [
    {
     "name": "stdout",
     "output_type": "stream",
     "text": [
      "[604, 909, 954, 129, 1447, 1469, 721, 215, 1773, 2681, 665, 1177, 128, 1571, 1526, 616, 1346, 2609, 2341, 2516, 1991, 1427, 2109, 2628, 542, 979, 2047, 1132, 1550, 1337, 957, 2057, 1432, 911, 2309, 1385, 123, 2145, 127, 703, 2528, 1543, 2383, 839, 2620, 21, 1487, 2542, 1753, 1905, 2256, 308, 532, 611, 345, 2415, 650, 1193, 2501, 159, 488, 1700, 2555, 904, 1908, 438, 977, 2032, 29, 489, 2408, 1867, 1898, 2318, 2117, 1011, 880, 2562, 1505, 906, 1012, 2050, 2454, 2156, 2371, 2657, 1895, 1551, 800, 1349, 1925, 2034, 1031, 252, 1501, 1370, 1221, 1943, 2696, 713]\n",
      "The size of the identified failure set C is  100\n",
      "Number of images in corrected dataset are:  2600\n",
      "41\n"
     ]
    },
    {
     "name": "stderr",
     "output_type": "stream",
     "text": [
      "MLE on corrected dataset: 100%|██████████| 41/41 [00:09<00:00,  4.49it/s]\n",
      "Fine-tuning on Corrected Data:   3%|▎         | 1/30 [00:09<04:24,  9.14s/it]"
     ]
    },
    {
     "name": "stdout",
     "output_type": "stream",
     "text": [
      "Epoch [1/30], Loss: 0.1940\n"
     ]
    },
    {
     "name": "stderr",
     "output_type": "stream",
     "text": [
      "MLE on corrected dataset: 100%|██████████| 41/41 [00:08<00:00,  4.61it/s]\n",
      "Fine-tuning on Corrected Data:   7%|▋         | 2/30 [00:18<04:11,  8.99s/it]"
     ]
    },
    {
     "name": "stdout",
     "output_type": "stream",
     "text": [
      "Epoch [2/30], Loss: 0.1826\n"
     ]
    },
    {
     "name": "stderr",
     "output_type": "stream",
     "text": [
      "MLE on corrected dataset: 100%|██████████| 41/41 [00:08<00:00,  4.61it/s]\n",
      "Fine-tuning on Corrected Data:  10%|█         | 3/30 [00:26<04:01,  8.95s/it]"
     ]
    },
    {
     "name": "stdout",
     "output_type": "stream",
     "text": [
      "Epoch [3/30], Loss: 0.1791\n"
     ]
    },
    {
     "name": "stderr",
     "output_type": "stream",
     "text": [
      "MLE on corrected dataset: 100%|██████████| 41/41 [00:08<00:00,  4.56it/s]\n",
      "Fine-tuning on Corrected Data:  13%|█▎        | 4/30 [00:35<03:53,  8.96s/it]"
     ]
    },
    {
     "name": "stdout",
     "output_type": "stream",
     "text": [
      "Epoch [4/30], Loss: 0.1761\n"
     ]
    },
    {
     "name": "stderr",
     "output_type": "stream",
     "text": [
      "MLE on corrected dataset: 100%|██████████| 41/41 [00:08<00:00,  4.61it/s]\n",
      "Fine-tuning on Corrected Data:  17%|█▋        | 5/30 [00:44<03:43,  8.94s/it]"
     ]
    },
    {
     "name": "stdout",
     "output_type": "stream",
     "text": [
      "Epoch [5/30], Loss: 0.1734\n"
     ]
    },
    {
     "name": "stderr",
     "output_type": "stream",
     "text": [
      "MLE on corrected dataset: 100%|██████████| 41/41 [00:08<00:00,  4.61it/s]\n",
      "Fine-tuning on Corrected Data:  20%|██        | 6/30 [00:53<03:34,  8.92s/it]"
     ]
    },
    {
     "name": "stdout",
     "output_type": "stream",
     "text": [
      "Epoch [6/30], Loss: 0.1708\n"
     ]
    },
    {
     "name": "stderr",
     "output_type": "stream",
     "text": [
      "MLE on corrected dataset: 100%|██████████| 41/41 [00:08<00:00,  4.58it/s]\n",
      "Fine-tuning on Corrected Data:  23%|██▎       | 7/30 [01:02<03:25,  8.93s/it]"
     ]
    },
    {
     "name": "stdout",
     "output_type": "stream",
     "text": [
      "Epoch [7/30], Loss: 0.1684\n"
     ]
    },
    {
     "name": "stderr",
     "output_type": "stream",
     "text": [
      "MLE on corrected dataset: 100%|██████████| 41/41 [00:08<00:00,  4.61it/s]\n",
      "Fine-tuning on Corrected Data:  27%|██▋       | 8/30 [01:11<03:16,  8.92s/it]"
     ]
    },
    {
     "name": "stdout",
     "output_type": "stream",
     "text": [
      "Epoch [8/30], Loss: 0.1661\n"
     ]
    },
    {
     "name": "stderr",
     "output_type": "stream",
     "text": [
      "MLE on corrected dataset: 100%|██████████| 41/41 [00:08<00:00,  4.61it/s]\n",
      "Fine-tuning on Corrected Data:  30%|███       | 9/30 [01:20<03:07,  8.91s/it]"
     ]
    },
    {
     "name": "stdout",
     "output_type": "stream",
     "text": [
      "Epoch [9/30], Loss: 0.1640\n"
     ]
    },
    {
     "name": "stderr",
     "output_type": "stream",
     "text": [
      "MLE on corrected dataset: 100%|██████████| 41/41 [00:08<00:00,  4.59it/s]\n",
      "Fine-tuning on Corrected Data:  33%|███▎      | 10/30 [01:29<02:58,  8.92s/it]"
     ]
    },
    {
     "name": "stdout",
     "output_type": "stream",
     "text": [
      "Epoch [10/30], Loss: 0.1619\n"
     ]
    },
    {
     "name": "stderr",
     "output_type": "stream",
     "text": [
      "MLE on corrected dataset: 100%|██████████| 41/41 [00:08<00:00,  4.60it/s]\n",
      "Fine-tuning on Corrected Data:  37%|███▋      | 11/30 [01:38<02:49,  8.92s/it]"
     ]
    },
    {
     "name": "stdout",
     "output_type": "stream",
     "text": [
      "Epoch [11/30], Loss: 0.1599\n"
     ]
    },
    {
     "name": "stderr",
     "output_type": "stream",
     "text": [
      "MLE on corrected dataset: 100%|██████████| 41/41 [00:08<00:00,  4.62it/s]\n",
      "Fine-tuning on Corrected Data:  40%|████      | 12/30 [01:47<02:40,  8.91s/it]"
     ]
    },
    {
     "name": "stdout",
     "output_type": "stream",
     "text": [
      "Epoch [12/30], Loss: 0.1580\n"
     ]
    },
    {
     "name": "stderr",
     "output_type": "stream",
     "text": [
      "MLE on corrected dataset: 100%|██████████| 41/41 [00:08<00:00,  4.62it/s]\n",
      "Fine-tuning on Corrected Data:  43%|████▎     | 13/30 [01:56<02:31,  8.90s/it]"
     ]
    },
    {
     "name": "stdout",
     "output_type": "stream",
     "text": [
      "Epoch [13/30], Loss: 0.1562\n"
     ]
    },
    {
     "name": "stderr",
     "output_type": "stream",
     "text": [
      "MLE on corrected dataset: 100%|██████████| 41/41 [00:08<00:00,  4.60it/s]\n",
      "Fine-tuning on Corrected Data:  47%|████▋     | 14/30 [02:04<02:22,  8.90s/it]"
     ]
    },
    {
     "name": "stdout",
     "output_type": "stream",
     "text": [
      "Epoch [14/30], Loss: 0.1544\n"
     ]
    },
    {
     "name": "stderr",
     "output_type": "stream",
     "text": [
      "MLE on corrected dataset: 100%|██████████| 41/41 [00:08<00:00,  4.62it/s]\n",
      "Fine-tuning on Corrected Data:  50%|█████     | 15/30 [02:13<02:13,  8.90s/it]"
     ]
    },
    {
     "name": "stdout",
     "output_type": "stream",
     "text": [
      "Epoch [15/30], Loss: 0.1527\n"
     ]
    },
    {
     "name": "stderr",
     "output_type": "stream",
     "text": [
      "MLE on corrected dataset: 100%|██████████| 41/41 [00:08<00:00,  4.61it/s]\n",
      "Fine-tuning on Corrected Data:  53%|█████▎    | 16/30 [02:22<02:04,  8.90s/it]"
     ]
    },
    {
     "name": "stdout",
     "output_type": "stream",
     "text": [
      "Epoch [16/30], Loss: 0.1511\n"
     ]
    },
    {
     "name": "stderr",
     "output_type": "stream",
     "text": [
      "MLE on corrected dataset: 100%|██████████| 41/41 [00:08<00:00,  4.61it/s]\n",
      "Fine-tuning on Corrected Data:  57%|█████▋    | 17/30 [02:31<01:55,  8.90s/it]"
     ]
    },
    {
     "name": "stdout",
     "output_type": "stream",
     "text": [
      "Epoch [17/30], Loss: 0.1495\n"
     ]
    },
    {
     "name": "stderr",
     "output_type": "stream",
     "text": [
      "MLE on corrected dataset: 100%|██████████| 41/41 [00:08<00:00,  4.57it/s]\n",
      "Fine-tuning on Corrected Data:  60%|██████    | 18/30 [02:40<01:47,  8.92s/it]"
     ]
    },
    {
     "name": "stdout",
     "output_type": "stream",
     "text": [
      "Epoch [18/30], Loss: 0.1480\n"
     ]
    },
    {
     "name": "stderr",
     "output_type": "stream",
     "text": [
      "MLE on corrected dataset: 100%|██████████| 41/41 [00:08<00:00,  4.59it/s]\n",
      "Fine-tuning on Corrected Data:  63%|██████▎   | 19/30 [02:49<01:38,  8.92s/it]"
     ]
    },
    {
     "name": "stdout",
     "output_type": "stream",
     "text": [
      "Epoch [19/30], Loss: 0.1465\n"
     ]
    },
    {
     "name": "stderr",
     "output_type": "stream",
     "text": [
      "MLE on corrected dataset: 100%|██████████| 41/41 [00:08<00:00,  4.60it/s]\n",
      "Fine-tuning on Corrected Data:  67%|██████▋   | 20/30 [02:58<01:29,  8.92s/it]"
     ]
    },
    {
     "name": "stdout",
     "output_type": "stream",
     "text": [
      "Epoch [20/30], Loss: 0.1451\n"
     ]
    },
    {
     "name": "stderr",
     "output_type": "stream",
     "text": [
      "MLE on corrected dataset: 100%|██████████| 41/41 [00:08<00:00,  4.62it/s]\n",
      "Fine-tuning on Corrected Data:  70%|███████   | 21/30 [03:07<01:20,  8.91s/it]"
     ]
    },
    {
     "name": "stdout",
     "output_type": "stream",
     "text": [
      "Epoch [21/30], Loss: 0.1437\n"
     ]
    },
    {
     "name": "stderr",
     "output_type": "stream",
     "text": [
      "MLE on corrected dataset: 100%|██████████| 41/41 [00:08<00:00,  4.61it/s]\n",
      "Fine-tuning on Corrected Data:  73%|███████▎  | 22/30 [03:16<01:11,  8.91s/it]"
     ]
    },
    {
     "name": "stdout",
     "output_type": "stream",
     "text": [
      "Epoch [22/30], Loss: 0.1423\n"
     ]
    },
    {
     "name": "stderr",
     "output_type": "stream",
     "text": [
      "MLE on corrected dataset: 100%|██████████| 41/41 [00:08<00:00,  4.59it/s]\n",
      "Fine-tuning on Corrected Data:  77%|███████▋  | 23/30 [03:25<01:02,  8.92s/it]"
     ]
    },
    {
     "name": "stdout",
     "output_type": "stream",
     "text": [
      "Epoch [23/30], Loss: 0.1410\n"
     ]
    },
    {
     "name": "stderr",
     "output_type": "stream",
     "text": [
      "MLE on corrected dataset: 100%|██████████| 41/41 [00:09<00:00,  4.56it/s]\n",
      "Fine-tuning on Corrected Data:  80%|████████  | 24/30 [03:34<00:53,  8.94s/it]"
     ]
    },
    {
     "name": "stdout",
     "output_type": "stream",
     "text": [
      "Epoch [24/30], Loss: 0.1397\n"
     ]
    },
    {
     "name": "stderr",
     "output_type": "stream",
     "text": [
      "MLE on corrected dataset: 100%|██████████| 41/41 [00:09<00:00,  4.49it/s]\n",
      "Fine-tuning on Corrected Data:  83%|████████▎ | 25/30 [03:43<00:44,  9.00s/it]"
     ]
    },
    {
     "name": "stdout",
     "output_type": "stream",
     "text": [
      "Epoch [25/30], Loss: 0.1384\n"
     ]
    },
    {
     "name": "stderr",
     "output_type": "stream",
     "text": [
      "MLE on corrected dataset: 100%|██████████| 41/41 [00:08<00:00,  4.61it/s]\n",
      "Fine-tuning on Corrected Data:  87%|████████▋ | 26/30 [03:52<00:35,  8.97s/it]"
     ]
    },
    {
     "name": "stdout",
     "output_type": "stream",
     "text": [
      "Epoch [26/30], Loss: 0.1372\n"
     ]
    },
    {
     "name": "stderr",
     "output_type": "stream",
     "text": [
      "MLE on corrected dataset: 100%|██████████| 41/41 [00:08<00:00,  4.58it/s]\n",
      "Fine-tuning on Corrected Data:  90%|█████████ | 27/30 [04:01<00:26,  8.96s/it]"
     ]
    },
    {
     "name": "stdout",
     "output_type": "stream",
     "text": [
      "Epoch [27/30], Loss: 0.1359\n"
     ]
    },
    {
     "name": "stderr",
     "output_type": "stream",
     "text": [
      "MLE on corrected dataset: 100%|██████████| 41/41 [00:08<00:00,  4.61it/s]\n",
      "Fine-tuning on Corrected Data:  93%|█████████▎| 28/30 [04:10<00:17,  8.94s/it]"
     ]
    },
    {
     "name": "stdout",
     "output_type": "stream",
     "text": [
      "Epoch [28/30], Loss: 0.1347\n"
     ]
    },
    {
     "name": "stderr",
     "output_type": "stream",
     "text": [
      "MLE on corrected dataset: 100%|██████████| 41/41 [00:08<00:00,  4.61it/s]\n",
      "Fine-tuning on Corrected Data:  97%|█████████▋| 29/30 [04:18<00:08,  8.93s/it]"
     ]
    },
    {
     "name": "stdout",
     "output_type": "stream",
     "text": [
      "Epoch [29/30], Loss: 0.1335\n"
     ]
    },
    {
     "name": "stderr",
     "output_type": "stream",
     "text": [
      "MLE on corrected dataset: 100%|██████████| 41/41 [00:08<00:00,  4.60it/s]\n",
      "Fine-tuning on Corrected Data: 100%|██████████| 30/30 [04:27<00:00,  8.93s/it]"
     ]
    },
    {
     "name": "stdout",
     "output_type": "stream",
     "text": [
      "Epoch [30/30], Loss: 0.1324\n"
     ]
    },
    {
     "name": "stderr",
     "output_type": "stream",
     "text": [
      "\n"
     ]
    }
   ],
   "source": [
    "# Find failure causes C\n",
    "top_k = 100  # Change to desired value if you want to select top k points\n",
    "failure_causes_IN, failure_indices_IN = find_failure_causes(salted_mnist_trainloader, ewc_influences_IN, top_k)\n",
    "print(\"The size of the identified failure set C is \",len(failure_causes_IN))\n",
    "# Create a corrected DataLoader\n",
    "corrected_dataloader = create_corrected_dataloader(salted_mnist_trainloader, failure_indices_IN)\n",
    "print(len(corrected_dataloader))\n",
    "# Fine-tune theta on corrected data D\\C\n",
    "theta_hat_IN= torch.cat([param.view(-1) for param in mnist_model_IN.parameters()])\n",
    "# theta_MLE_IN, losses = fine_tune_theta_on_corrected_data(model=mnist_model_IN, theta= theta_hat_IN, data_loader=corrected_dataloader, num_epochs=10, lr=0.01)\n",
    "# model_MLE_IN= create_model_with_theta(theta_MLE_IN)\n",
    "model_MLE_IN, losses = fine_tune_theta_on_corrected_data(model=mnist_model_IN, theta= theta_hat_IN, data_loader=corrected_dataloader, num_epochs=30, lr=0.01)\n",
    "save_model(model_MLE_IN, 'model_MLE_IN.pth')"
   ]
  },
  {
   "cell_type": "code",
   "execution_count": 118,
   "metadata": {},
   "outputs": [
    {
     "name": "stdout",
     "output_type": "stream",
     "text": [
      "Epoch 1: Validation Accuracy: 0.3\n",
      "Epoch 2: Validation Accuracy: 0.42333333333333334\n",
      "Epoch 3: Validation Accuracy: 0.45666666666666667\n",
      "Epoch 4: Validation Accuracy: 0.6633333333333333\n",
      "Epoch 5: Validation Accuracy: 0.75\n",
      "Epoch 6: Validation Accuracy: 0.86\n",
      "Epoch 7: Validation Accuracy: 0.8933333333333333\n",
      "Epoch 8: Validation Accuracy: 0.8966666666666666\n",
      "Epoch 9: Validation Accuracy: 0.9066666666666666\n",
      "Epoch 10: Validation Accuracy: 0.9166666666666666\n",
      "Epoch 11: Validation Accuracy: 0.92\n",
      "Epoch 12: Validation Accuracy: 0.92\n",
      "Epoch 13: Validation Accuracy: 0.92\n",
      "Epoch 14: Validation Accuracy: 0.9266666666666666\n",
      "Epoch 15: Validation Accuracy: 0.94\n",
      "Epoch 16: Validation Accuracy: 0.9366666666666666\n",
      "Epoch 17: Validation Accuracy: 0.9366666666666666\n",
      "Epoch 18: Validation Accuracy: 0.9366666666666666\n",
      "Epoch 19: Validation Accuracy: 0.9366666666666666\n",
      "Epoch 20: Validation Accuracy: 0.9366666666666666\n",
      "No improvement for 5 epochs. Early stopping...\n",
      "Test Accuracy: 0.9464\n"
     ]
    }
   ],
   "source": [
    "mnist_new= MNIST_CNN()\n",
    "mnist_new_optimizer = optim.Adam(mnist_new.parameters(), lr=1e-3, betas=(0.9, 0.999))\n",
    "mnist_test_accuracy = train_with_early_stopping(corrected_dataloader, salted_mnist_valloader, mnist_testloader, mnist_new, mnist_new_optimizer, criterion)"
   ]
  },
  {
   "cell_type": "code",
   "execution_count": 125,
   "metadata": {},
   "outputs": [
    {
     "name": "stdout",
     "output_type": "stream",
     "text": [
      "Accuracy on query set is:  0.0\n",
      "Accuracy on hold out is:  0.0\n",
      "Accuracy on correct set is:  1.0\n"
     ]
    }
   ],
   "source": [
    "find_accuracy(mnist_model_IN, failure_set_query_IN, failure_hold_out_IN, correct_set_IN)"
   ]
  },
  {
   "attachments": {},
   "cell_type": "markdown",
   "metadata": {},
   "source": [
    "The above shows we are using the correct failure sets. "
   ]
  },
  {
   "cell_type": "code",
   "execution_count": 163,
   "metadata": {},
   "outputs": [
    {
     "name": "stdout",
     "output_type": "stream",
     "text": [
      "Accuracy on query set is:  0.5756630265210608\n",
      "Accuracy on hold out is:  0.6508474576271186\n",
      "Accuracy on correct set is:  0.9896293027360988\n"
     ]
    }
   ],
   "source": [
    "find_accuracy(model_MLE_IN, failure_set_query_IN, failure_hold_out_IN, correct_set_IN)"
   ]
  },
  {
   "cell_type": "code",
   "execution_count": 126,
   "metadata": {},
   "outputs": [
    {
     "name": "stdout",
     "output_type": "stream",
     "text": [
      "Accuracy on query set is:  0.5756630265210608\n",
      "Accuracy on hold out is:  0.5864406779661017\n",
      "Accuracy on correct set is:  0.9843336275375111\n"
     ]
    }
   ],
   "source": [
    "find_accuracy(mnist_new, failure_set_query_IN, failure_hold_out_IN, correct_set_IN)"
   ]
  },
  {
   "cell_type": "markdown",
   "metadata": {},
   "source": [
    "- Newton update"
   ]
  },
  {
   "cell_type": "code",
   "execution_count": null,
   "metadata": {},
   "outputs": [
    {
     "name": "stdout",
     "output_type": "stream",
     "text": [
      "Going to calculate FIM\n",
      "Done with FIM calculations\n",
      "tensor([0.0138, 0.0090, 0.0078,  ..., 0.0507, 0.0030, 0.0449])\n",
      "tensor([ 72.3620, 111.4085, 128.3746,  ...,  19.7133, 328.8596,  22.2898])\n",
      "7e-07\n",
      "Accuracy on query set is:  0.03248259860788863\n",
      "Accuracy on hold out is:  0.015081206496519721\n",
      "Accuracy on correct set is:  0.9864668922184631\n",
      "9e-07\n",
      "Accuracy on query set is:  0.042923433874709975\n",
      "Accuracy on hold out is:  0.025522041763341066\n",
      "Accuracy on correct set is:  0.9821169647172547\n",
      "1e-06\n",
      "Accuracy on query set is:  0.04640371229698376\n",
      "Accuracy on hold out is:  0.030162412993039442\n",
      "Accuracy on correct set is:  0.9805461575640406\n",
      "2e-06\n",
      "Accuracy on query set is:  0.06728538283062645\n",
      "Accuracy on hold out is:  0.04640371229698376\n",
      "Accuracy on correct set is:  0.9537216046399226\n",
      "3e-06\n",
      "Accuracy on query set is:  0.07424593967517401\n",
      "Accuracy on hold out is:  0.05336426914153132\n",
      "Accuracy on correct set is:  0.9079265345577574\n",
      "4e-06\n",
      "Accuracy on query set is:  0.07076566125290024\n",
      "Accuracy on hold out is:  0.05568445475638051\n",
      "Accuracy on correct set is:  0.8423151280811987\n",
      "5e-06\n",
      "Accuracy on query set is:  0.06728538283062645\n",
      "Accuracy on hold out is:  0.04640371229698376\n",
      "Accuracy on correct set is:  0.763412276462059\n"
     ]
    }
   ],
   "source": [
    "acc_fail,acc_corr=newton_step(mnist_trainset,mnist_model,criterion,DataLoader(causal_set,batch_size=1),gamma=[7e-7,9e-7,1e-6,2e-6,3e-6,4e-6,5e-6])\n"
   ]
  },
  {
   "cell_type": "code",
   "execution_count": null,
   "metadata": {},
   "outputs": [
    {
     "data": {
      "text/plain": [
       "[<matplotlib.lines.Line2D at 0x7fd70b6dd5e0>]"
      ]
     },
     "metadata": {},
     "output_type": "display_data"
    },
    {
     "data": {
      "image/png": "[encoded data removed]",
      "text/plain": [
       "<Figure size 432x288 with 1 Axes>"
      ]
     },
     "metadata": {},
     "output_type": "display_data"
    }
   ],
   "source": [
    "# plt.scatter(x=[0.31,0.33,0.23,0.12],y=[0.945,0.876,0.782,0.670])\n",
    "plt.plot(acc_fail, acc_corr, linestyle='dashed', marker='s')"
   ]
  },
  {
   "cell_type": "markdown",
   "metadata": {},
   "source": [
    "-EWC deletion"
   ]
  },
  {
   "cell_type": "code",
   "execution_count": 164,
   "metadata": {},
   "outputs": [
    {
     "name": "stdout",
     "output_type": "stream",
     "text": [
      "4\n",
      "10\n"
     ]
    },
    {
     "name": "stderr",
     "output_type": "stream",
     "text": [
      " 30%|███       | 3/10 [03:47<08:58, 76.89s/it]                        "
     ]
    }
   ],
   "source": [
    "failure_causes_dataloader = failure_causes_to_dataloader(failure_causes_IN, batch_size=32, shuffle=True)\n",
    "print(len(failure_causes_dataloader))\n",
    "# Call the function to update theta_hat_C using SGD for data deletion\n",
    "theta_hat= torch.cat([param.view(-1) for param in mnist_model.parameters()])\n",
    "lr = 0.01\n",
    "lambda_val = 0.1\n",
    "num_epochs = 10\n",
    "N= len(mnist_trainloader.sampler)\n",
    "params = {n: p for n, p in mnist_model.named_parameters() if p.requires_grad}\n",
    "# Mnist model has only ten named parameters, using torch.cat with .view(-1) on the params will give ~65k params. \n",
    "print(len(params))\n",
    "fisher_IN= get_fisher_diag(mnist_model, mnist_trainloader, params)\n",
    "theta_hat_EWC_deletion = EWC_data_deletion(theta_hat, fisher_IN, failure_causes_dataloader, mnist_model, lr, lambda_val, num_epochs, N)\n",
    "# Create a new model with parameters theta_F\n",
    "model_EWC_deletion_IN = create_model_with_theta(theta_hat_EWC_deletion)\n",
    "save_model(model_EWC_deletion_IN, 'model_EWC_deletion_IN.pth')"
   ]
  },
  {
   "cell_type": "code",
   "execution_count": null,
   "metadata": {},
   "outputs": [],
   "source": [
    "find_accuracy(model_EWC_deletion_IN, failure_set_query, failure_hold_out, correct_set)"
   ]
  },
  {
   "attachments": {},
   "cell_type": "markdown",
   "metadata": {},
   "source": [
    "We have right now learnt a point estimate rather than a posterior on theta, and have written code for identifyinhg failure set F. The next step is first to find the approximate posterior q(θ) ~ p(θ|D). Then we will appply a continual learning method to obtain the modified posterior q+F(θ) ~ p(θ|D, F) after fitting failure set F. In order to find a subset C of cardinality K that leads to the maximal ˆr(C), it suffices to compute ˆr(z) for every training example z ∈ D and find the top K examples with largest ˆr(z) values. We show two methods of approximating ˆr(z): Linear influence functions and EWC."
   ]
  },
  {
   "attachments": {},
   "cell_type": "markdown",
   "metadata": {},
   "source": [
    "The fisher matrix is used extensively in the upcoming methods. Fisher Information Matrix (FIM) is covariance matrix of score function <br>For a single data point, $F(x) = \\mathbb{E}_{p_{\\theta}(y|x)}[\\nabla_{\\theta} \\log p_{\\theta}(y|x) (\\nabla_{\\theta} \\log p_{\\theta}(y|x))^{\\top}]$. For an entire dataset, we have $F = \\sum_{n} F_{x_n} = \\sum_{n} \\mathbb{E}_{p_{\\theta}(y|x_n)}[\\nabla_{\\theta} \\log p_{\\theta}(y|x_n) (\\nabla_{\\theta} \\log p_{\\theta}(y|x_n))^{\\top}]\n",
    "$ Each entry 𝐹 tells us how “sensitive” the model is w.r.t. the pair $(\\theta_i , \\theta_j )$. <br> In practise, we use the emperical fisher matrix $\\tilde{F} = \\sum_{n} [\\nabla_{\\theta} \\log p_{\\theta}(y_n|x_n) (\\nabla_{\\theta} \\log p_{\\theta}(y_n|x_n))^{\\top}]$. The difference, of course, is that rather than sampling y\n",
    " from the model itself, here, we use the observed labels $y_n$\n",
    " from the dataset\n",
    "\n"
   ]
  },
  {
   "attachments": {},
   "cell_type": "markdown",
   "metadata": {},
   "source": [
    "###  3) Experiments with adding FGSM noise(to be added)"
   ]
  },
  {
   "attachments": {},
   "cell_type": "markdown",
   "metadata": {},
   "source": [
    "## Extra code from before that might help complete above code:"
   ]
  },
  {
   "attachments": {},
   "cell_type": "markdown",
   "metadata": {},
   "source": [
    "- SGD influence"
   ]
  },
  {
   "cell_type": "code",
   "execution_count": null,
   "metadata": {},
   "outputs": [],
   "source": [
    "# Example usage\n",
    "theta_hat = mnist_model.parameters()  # Assuming theta_hat is the parameter vector of the mnist_model\n",
    "failure_loader1 = create_failure_set(mnist_testloader, mnist_model)[0]  # Failure set DataLoader\n",
    "lr = 0.01  # Learning rate\n",
    "num_steps = 100  # Number of optimization stepslinear_influence_gd_result = linear_influence_gd(mnist_model, theta_hat, failure_loader1, lr, num_steps)\n",
    "\n",
    "print(\"Linear Influence (GD):\", linear_influence_gd_result)\n",
    "theta_hat=mnist_model.parameters()\n",
    "v_reshaped=reshape_v_to_theta_hat(linear_influence_gd_result, theta_hat)"
   ]
  },
  {
   "attachments": {},
   "cell_type": "markdown",
   "metadata": {},
   "source": [
    "Finding EWC influences"
   ]
  },
  {
   "cell_type": "code",
   "execution_count": null,
   "metadata": {},
   "outputs": [],
   "source": [
    "params = {n: p for n, p in mnist_model.named_parameters() if p.requires_grad}\n",
    "# Mnist model has only ten named parameters, using torch.cat with .view(-1) on the params will give ~65k params. \n",
    "print(len(params))\n",
    "fisher= get_fisher_diag(mnist_model, mnist_trainloader, params)"
   ]
  },
  {
   "cell_type": "code",
   "execution_count": null,
   "metadata": {},
   "outputs": [],
   "source": [
    "mnist_laplace_approx= create_model_with_theta(theta_F)\n",
    "save_model(mnist_laplace_approx, 'mnist_laplace_approx.pth')"
   ]
  },
  {
   "cell_type": "code",
   "execution_count": null,
   "metadata": {},
   "outputs": [],
   "source": [
    "# print(mnist_newmodel.parameters())mnist_laplace_approx= MNIST_CNN()\n",
    "load_model(mnist_laplace_approx, 'mnist_laplace_approx.pth')"
   ]
  },
  {
   "cell_type": "code",
   "execution_count": null,
   "metadata": {},
   "outputs": [],
   "source": [
    "lr = 0.01\n",
    "lambda_val = 0.1\n",
    "num_epochs = 10\n",
    "N= len(mnist_trainloader.sampler)\n",
    "failure_loader = create_failure_set(mnist_testloader, mnist_model)[0]\n",
    "print(type(failure_loader))"
   ]
  },
  {
   "cell_type": "code",
   "execution_count": null,
   "metadata": {},
   "outputs": [],
   "source": [
    "theta_hat= torch.cat([param.view(-1) for param in mnist_model.parameters()])\n",
    "theta_F = find_theta_F(theta_hat, fisher, failure_loader, mnist_model, lr, lambda_val, num_epochs, N)"
   ]
  },
  {
   "cell_type": "code",
   "execution_count": null,
   "metadata": {},
   "outputs": [],
   "source": [
    "ewc_influences = compute_ewc_influences(mnist_trainloader, mnist_model, mnist_laplace_approx)"
   ]
  },
  {
   "attachments": {},
   "cell_type": "markdown",
   "metadata": {},
   "source": [
    "Treatment method 1"
   ]
  },
  {
   "cell_type": "code",
   "execution_count": null,
   "metadata": {},
   "outputs": [],
   "source": [
    "# Find failure causes C\n",
    "top_k = None  # Change to desired value if you want to select top k points\n",
    "failure_causes, failure_indices = find_failure_causes(mnist_trainloader, ewc_influences, top_k)\n",
    "print(len(failure_causes))\n",
    "# Create a corrected DataLoader\n",
    "corrected_dataloader = create_corrected_dataloader(mnist_trainloader, failure_indices)\n",
    "print(len(corrected_dataloader))\n",
    "# Fine-tune theta on corrected data D\\C\n",
    "# theta= torch.cat([param.view(-1) for param in mnist_model.parameters()])\n",
    "theta_MLE, losses = fine_tune_theta_on_corrected_data(model=mnist_model, theta= theta_hat, data_loader=corrected_dataloader, num_epochs=10, lr=0.01)"
   ]
  },
  {
   "cell_type": "markdown",
   "metadata": {},
   "source": [
    "The repaired model is updated_model, which we obtained by maximimising log likelihood of the Dataset with failure causes C removed. It is like basic MLE solution. "
   ]
  },
  {
   "attachments": {},
   "cell_type": "markdown",
   "metadata": {},
   "source": [
    "EWC deletion"
   ]
  },
  {
   "cell_type": "code",
   "execution_count": null,
   "metadata": {},
   "outputs": [],
   "source": [
    "failure_causes_dataloader = failure_causes_to_dataloader(failure_causes, batch_size=32, shuffle=True)\n",
    "print(len(failure_causes_dataloader))\n",
    "# Call the function to update theta_hat_C using SGD for data deletion\n",
    "theta_hat= torch.cat([param.view(-1) for param in mnist_model.parameters()])\n",
    "lr = 0.01\n",
    "lambda_val = 0.1\n",
    "num_epochs = 10\n",
    "N= len(mnist_trainloader.sampler)\n",
    "\n",
    "theta_hat_EWC_deletion = EWC_data_deletion(theta_hat, fisher_IN, failure_causes_dataloader, mnist_model, lr, lambda_val, num_epochs, N)\n",
    "# Create a new model with parameters theta_F\n",
    "model_EWC_deletion = create_model_with_theta(theta_hat_EWC_deletion)\n",
    "save_model(model_EWC_deletion, 'model_EWC_deletion.pth')"
   ]
  },
  {
   "cell_type": "markdown",
   "metadata": {},
   "source": [
    "## Experiments:\n",
    "1) Annotation noise:\n",
    "- Create noised dataset with label noise, with ground truth to indicate which points have been labeled incorrectly\n",
    "- Train new model on noisy dataset \n",
    "- Apply cause identification algorithms to find influences of training points \n",
    "- Plot the top 16 images in a 4*4 grid that have the highest influence values according to EWC influence, along with their label in the noised dataset. "
   ]
  },
  {
   "cell_type": "code",
   "execution_count": null,
   "metadata": {},
   "outputs": [],
   "source": [
    "class NoisedMNISTDataset(torch.utils.data.Dataset):\n",
    "    def __init__(self, original_dataset, cm):\n",
    "        self.original_dataset = original_dataset\n",
    "        self.cm = cm\n",
    "        self.noised_labels, self.noisy_indices, self.misclassfcn_dict = self._flip_labels()\n",
    "\n",
    "    def _flip_labels(self):\n",
    "        noisy_labels = []\n",
    "        noisy_indices = []\n",
    "        misclassfcn_dict = {i: 0 for i in range(10)}\n",
    "        \n",
    "        for idx, (input, label) in enumerate(self.original_dataset):\n",
    "            # for label in labels:\n",
    "                # Randomly flip the label according to the confusion matrix\n",
    "                noisy_label = np.random.choice(np.arange(len(self.cm)), p=self.cm[label])\n",
    "                noisy_labels.append(noisy_label)\n",
    "                if noisy_label != label:\n",
    "                    misclassfcn_dict[int(label)] += 1\n",
    "                    noisy_indices.append(idx)\n",
    "                    \n",
    "        return noisy_labels, noisy_indices, misclassfcn_dict\n",
    "\n",
    "    def __getitem__(self, index):\n",
    "        image, label = self.original_dataset[index]\n",
    "        noised_label = self.noised_labels[index]\n",
    "        return image,  noised_label # stopped returning label \n",
    "\n",
    "    def __len__(self):\n",
    "        return len(self.original_dataset)"
   ]
  },
  {
   "cell_type": "markdown",
   "metadata": {},
   "source": [
    "Generating the train, test datasets for annotation noise case:"
   ]
  },
  {
   "cell_type": "code",
   "execution_count": null,
   "metadata": {},
   "outputs": [],
   "source": [
    "# Create a new dataset with noisy labels\n",
    "noised_mnist_dataset = NoisedMNISTDataset(mnist_trainset, mnist_cm)\n",
    "\n",
    "# Randomly select 3000 points for training\n",
    "train_indices = torch.randperm(len(noised_mnist_dataset))[:3000]\n",
    "trainset = torch.utils.data.Subset(noised_mnist_dataset, train_indices)\n",
    "\n",
    "# Define a DataLoader for the training set\n",
    "mnist_trainloader_AN = torch.utils.data.DataLoader(trainset, batch_size=64, shuffle=True)\n",
    "mnist_AN = MNIST_CNN() # mnist model with Annotation noise \n",
    "mnist_optimizer_AN = optim.Adam(mnist_AN.parameters(), lr=1e-3, betas=(0.9, 0.999))\n",
    "criterion_AN = nn.CrossEntropyLoss() # multiclassification\n",
    "# Store which images were noised as ground truth\n",
    "noised_ground_truth = torch.zeros(len(mnist_trainset), dtype=torch.bool)\n",
    "noised_ground_truth[noised_mnist_dataset.noisy_indices] = True\n",
    "\n",
    "# Define the size of the validation set (10% of the training set)\n",
    "validation_size_mnist = int(0.1 * len(trainset))\n",
    "\n",
    "# Split the training set into training and validation sets\n",
    "trainset, valset = torch.utils.data.random_split(trainset, [len(trainset) - validation_size_mnist, validation_size_mnist])\n",
    "\n",
    "# Define data loaders for training, validation, and testing\n",
    "mnist_trainloader_AN = torch.utils.data.DataLoader(trainset, batch_size=64, shuffle=True)\n",
    "mnist_valloader_AN = torch.utils.data.DataLoader(valset, batch_size=64, shuffle=False)  # No need to shuffle the validation set\n",
    "mnist_testloader_AN = torch.utils.data.DataLoader(mnist_testset, batch_size=64, shuffle=False)\n"
   ]
  },
  {
   "cell_type": "code",
   "execution_count": null,
   "metadata": {},
   "outputs": [],
   "source": [
    "mnist_test_accuracy_AN = train_with_early_stopping(mnist_trainloader_AN, mnist_valloader_AN, mnist_testloader_AN, mnist_AN, mnist_optimizer_AN, criterion_AN)\n"
   ]
  },
  {
   "cell_type": "code",
   "execution_count": null,
   "metadata": {},
   "outputs": [],
   "source": [
    "save_model(mnist_AN, 'mnist_AN_3000.pth')"
   ]
  },
  {
   "cell_type": "code",
   "execution_count": null,
   "metadata": {},
   "outputs": [],
   "source": [
    "ewc_influences_AN, failure_causes_AN, failure_indices_AN = EWC_influence(mnist_AN, mnist_trainloader_AN, mnist_testloader_AN, \"mnist_AN\", 0.01, 0.1, 10, use_existing=False)"
   ]
  },
  {
   "cell_type": "code",
   "execution_count": null,
   "metadata": {},
   "outputs": [],
   "source": [
    "print(len(ewc_influences_AN))"
   ]
  },
  {
   "cell_type": "code",
   "execution_count": null,
   "metadata": {},
   "outputs": [],
   "source": [
    "def plot_incorrect_labels_fixed(trainloader, influences, incorrect_labels_indices, algo_names, num_runs=1):\n",
    "    \"\"\"\n",
    "    Plot the relationship between the fraction of incorrect labels fixed and the fraction of data points inspected for multiple algorithms.\n",
    "\n",
    "    Args:\n",
    "        trainloader (DataLoader): DataLoader for the training dataset.\n",
    "        influences (list of lists): List of lists containing influences of different algorithms.\n",
    "        incorrect_labels_indices (list or set): List or set containing indices of data points with incorrect labels.\n",
    "        algo_names (list): List containing names of different algorithms for the legend.\n",
    "        num_runs (int, optional): Number of runs for computing mean and standard deviation. Defaults to 5.\n",
    "    \"\"\"\n",
    "    fractions_inspected = np.arange(0.2, 1.1, 0.2)\n",
    "    results = {name: [] for name in algo_names}\n",
    "\n",
    "    for run in range(num_runs):\n",
    "        for algo_idx, algo_influences in enumerate(influences):\n",
    "            identified_causes = []\n",
    "            fixed_incorrect_labels = []\n",
    "\n",
    "            sorted_indices = np.argsort(algo_influences)\n",
    "\n",
    "            for fraction in fractions_inspected:\n",
    "                num_points_to_inspect = int(fraction * len(trainloader))\n",
    "                top_points = sorted_indices[:num_points_to_inspect]\n",
    "                num_matched = sum(1 for idx in top_points if idx in incorrect_labels_indices)\n",
    "\n",
    "                # Create a subset of corrected data by removing top_points\n",
    "                corrected_data_subset = [(inputs, labels) for idx, (inputs, labels) in enumerate(trainloader) if idx not in top_points]\n",
    "\n",
    "                # Fine-tune theta on corrected data subset\n",
    "                theta= torch.cat([param.view(-1) for param in model.parameters()])\n",
    "                theta_MLE, _ = fine_tune_theta_on_corrected_data(model=model, theta=theta, data_loader=corrected_data_subset, num_epochs=10, lr=0.01)\n",
    "                \n",
    "                # Evaluate model with updated theta on failure set\n",
    "                model_MLE = create_model_with_theta(theta_MLE)\n",
    "                failure_predictions = evaluate_model(model_MLE, failure_loader)\n",
    "\n",
    "                # Calculate accuracy on failure set\n",
    "                accuracy_on_failure = accuracy_score(failure_true_labels, failure_predictions)\n",
    "\n",
    "                identified_causes.append(num_points_to_inspect)\n",
    "                fixed_incorrect_labels.append(accuracy_on_failure)\n",
    "\n",
    "            results[algo_names[algo_idx]].append((identified_causes, fixed_incorrect_labels))\n",
    "\n",
    "    plt.figure(figsize=(10, 6))\n",
    "\n",
    "    for algo_name in algo_names:\n",
    "        mean_fixed_labels = np.mean([res[1] for res in results[algo_name]], axis=0)\n",
    "        std_fixed_labels = np.std([res[1] for res in results[algo_name]], axis=0)\n",
    "\n",
    "        plt.errorbar(fractions_inspected, mean_fixed_labels, yerr=std_fixed_labels, fmt='-o', label=algo_name)\n",
    "\n",
    "    plt.xlabel('Fraction of Data Points Inspected')\n",
    "    plt.ylabel('Accuracy on Failure Set')\n",
    "    plt.title('Accuracy on Failure Set vs. Fraction of Data Points Inspected')\n",
    "    plt.legend()\n",
    "    plt.grid(True)\n",
    "    plt.show()\n"
   ]
  },
  {
   "cell_type": "code",
   "execution_count": null,
   "metadata": {},
   "outputs": [],
   "source": [
    "influences= [EWC_influence]\n",
    "plot_incorrect_labels_fixed(mnist_trainloader_AN, influences, noised_mnist_dataset.noisy_indices, [\"EWC-influence\"])"
   ]
  }
 ],
 "metadata": {
  "kernelspec": {
   "display_name": "Python 3",
   "language": "python",
   "name": "python3"
  },
  "language_info": {
   "codemirror_mode": {
    "name": "ipython",
    "version": 3
   },
   "file_extension": ".py",
   "mimetype": "text/x-python",
   "name": "python",
   "nbconvert_exporter": "python",
   "pygments_lexer": "ipython3",
   "version": "3.9.7"
  },
  "orig_nbformat": 4
 },
 "nbformat": 4,
 "nbformat_minor": 2
}
