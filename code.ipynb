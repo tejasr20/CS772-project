{
 "cells": [
  {
   "cell_type": "code",
   "execution_count": 38,
   "metadata": {},
   "outputs": [],
   "source": [
    "import torch\n",
    "import torchvision\n",
    "import torchvision.transforms as transforms\n",
    "import torch.nn as nn\n",
    "import torch.optim as optim\n",
    "from torchvision.models import resnet50\n",
    "from torch.utils.data import DataLoader\n",
    "from sklearn.metrics import accuracy_score\n",
    "from tqdm import tqdm\n",
    "import numpy as np\n",
    "import matplotlib.pyplot as plt\n",
    "# Define data loaders\n",
    "from torch.utils.data import DataLoader, random_split\n",
    "\n",
    "# Define preprocessing transformations\n",
    "import os"
   ]
  },
  {
   "cell_type": "code",
   "execution_count": 2,
   "metadata": {},
   "outputs": [
    {
     "name": "stdout",
     "output_type": "stream",
     "text": [
      "Files already downloaded and verified\n",
      "Files already downloaded and verified\n"
     ]
    }
   ],
   "source": [
    "# Define the root directory for data\n",
    "data_root = './data'\n",
    "\n",
    "# Define preprocessing transformations\n",
    "transform = transforms.Compose([\n",
    "    transforms.ToTensor(),  # Convert image to PyTorch tensor\n",
    "    transforms.Normalize((0.5,), (0.5,))  # Normalize pixel values to the range [-1, 1]\n",
    "])\n",
    "\n",
    "# Check if MNIST dataset is already downloaded, if not, download it\n",
    "if not os.path.exists(os.path.join(data_root, 'MNIST')):\n",
    "    mnist_trainset = torchvision.datasets.MNIST(root=data_root, train=True, download=True, transform=transform)\n",
    "    mnist_testset = torchvision.datasets.MNIST(root=data_root, train=False, download=True, transform=transform)\n",
    "else:\n",
    "    mnist_trainset = torchvision.datasets.MNIST(root=data_root, train=True, download=False, transform=transform)\n",
    "    mnist_testset = torchvision.datasets.MNIST(root=data_root, train=False, download=False, transform=transform)\n",
    "\n",
    "# Check if CIFAR-10 dataset is already downloaded, if not, download it\n",
    "if not os.path.exists(os.path.join(data_root, 'CIFAR10')):\n",
    "    cifar_trainset = torchvision.datasets.CIFAR10(root=data_root, train=True, download=True, transform=transform)\n",
    "    cifar_testset = torchvision.datasets.CIFAR10(root=data_root, train=False, download=True, transform=transform)\n",
    "else:\n",
    "    cifar_trainset = torchvision.datasets.CIFAR10(root=data_root, train=True, download=False, transform=transform)\n",
    "    cifar_testset = torchvision.datasets.CIFAR10(root=data_root, train=False, download=False, transform=transform)"
   ]
  },
  {
   "cell_type": "code",
   "execution_count": 3,
   "metadata": {},
   "outputs": [],
   "source": [
    "class MNIST_CNN(nn.Module):\n",
    "    def __init__(self):\n",
    "        super(MNIST_CNN, self).__init__()\n",
    "        # Define convolutional layers\n",
    "        self.conv1 = nn.Conv2d(1, 32, kernel_size=3)  # 1 input channel, 32 output channels, 3x3 kernel\n",
    "        self.conv2 = nn.Conv2d(32, 32, kernel_size=3)  # 32 input channels, 32 output channels, 3x3 kernel\n",
    "        self.conv3 = nn.Conv2d(32, 64, kernel_size=3)  # 32 input channels, 64 output channels, 3x3 kernel\n",
    "        self.conv4 = nn.Conv2d(64, 64, kernel_size=3)  # 64 input channels, 64 output channels, 3x3 kernel\n",
    "        \n",
    "        # Define max pooling layer\n",
    "        self.pool = nn.MaxPool2d(kernel_size=2, stride=2)  # 2x2 max pooling with stride 2\n",
    "        \n",
    "        # Define global average pooling layer\n",
    "        self.global_pool = nn.AdaptiveAvgPool2d(1)  # Global Average Pooling\n",
    "        \n",
    "        # Define fully connected layer\n",
    "        self.fc = nn.Linear(64, 10)  # 64 input features, 10 output classes\n",
    "\n",
    "    def forward(self, x):\n",
    "        # Apply convolution and ReLU activation\n",
    "        x = nn.functional.relu(self.conv1(x))\n",
    "        x = nn.functional.relu(self.conv2(x))\n",
    "        # Apply max pooling\n",
    "        x = self.pool(x)\n",
    "        x = nn.functional.relu(self.conv3(x))\n",
    "        x = nn.functional.relu(self.conv4(x))\n",
    "        # Apply global average pooling\n",
    "        x = self.global_pool(x)\n",
    "        # Flatten for fully connected layer\n",
    "        x = x.view(-1, 64)\n",
    "        # Fully connected layer\n",
    "        x = self.fc(x)\n",
    "        return x"
   ]
  },
  {
   "cell_type": "code",
   "execution_count": 4,
   "metadata": {},
   "outputs": [],
   "source": [
    "# ResNet50 architecture for CIFAR-10\n",
    "class CIFAR_ResNet(nn.Module):\n",
    "    def __init__(self):\n",
    "        super(CIFAR_ResNet, self).__init__()\n",
    "        self.resnet50 = resnet50(num_classes=10)\n",
    "\n",
    "    def forward(self, x):\n",
    "        return self.resnet50(x)"
   ]
  },
  {
   "cell_type": "code",
   "execution_count": 12,
   "metadata": {},
   "outputs": [],
   "source": [
    "# Initialize models and optimizer\n",
    "mnist_model = MNIST_CNN()\n",
    "cifar_model = CIFAR_ResNet()\n",
    "mnist_optimizer = optim.Adam(mnist_model.parameters(), lr=1e-3, betas=(0.9, 0.999))\n",
    "cifar_optimizer = optim.Adam(cifar_model.parameters(), lr=1e-3, betas=(0.9, 0.999))\n",
    "criterion = nn.CrossEntropyLoss() # multiclassification\n",
    "\n",
    "# Define the size of the validation set (10% of the training set)\n",
    "validation_size_mnist = int(0.1 * len(mnist_trainset))\n",
    "# Split the training set into training and validation sets\n",
    "mnist_trainset, mnist_valset = random_split(mnist_trainset, [len(mnist_trainset) - validation_size_mnist, validation_size_mnist])\n",
    "\n",
    "# Define data loaders for training, validation, and testing\n",
    "mnist_trainloader = DataLoader(mnist_trainset, batch_size=64, shuffle=True)\n",
    "mnist_valloader = DataLoader(mnist_valset, batch_size=64, shuffle=False)  # No need to shuffle the validation set\n",
    "mnist_testloader = DataLoader(mnist_testset, batch_size=64, shuffle=False)\n",
    "\n",
    "# Define the size of the validation set (10% of the training set)\n",
    "validation_size_cifar = int(0.1 * len(cifar_trainset))\n",
    "\n",
    "# Split the training set into training and validation sets\n",
    "cifar_trainset, cifar_valset = random_split(cifar_trainset, [len(cifar_trainset) - validation_size_cifar, validation_size_cifar])\n",
    "\n",
    "# Define data loaders for training, validation, and testing\n",
    "cifar_trainloader = DataLoader(cifar_trainset, batch_size=64, shuffle=True)\n",
    "cifar_valloader = DataLoader(cifar_valset, batch_size=64, shuffle=False)  # No need to shuffle the validation set\n",
    "cifar_testloader = DataLoader(cifar_testset, batch_size=64, shuffle=False)"
   ]
  },
  {
   "cell_type": "code",
   "execution_count": 13,
   "metadata": {},
   "outputs": [],
   "source": [
    "def train_with_early_stopping(trainloader, valloader, testloader, model, optimizer, criterion, patience=5):\n",
    "    best_val_accuracy = 0\n",
    "    no_improvement_counter = 0\n",
    "\n",
    "    for epoch in range(100):  # Maximum of 100 epochs\n",
    "        # Train the model\n",
    "        model.train()\n",
    "        for inputs, labels in trainloader:\n",
    "            optimizer.zero_grad()\n",
    "            outputs = model(inputs)\n",
    "            loss = criterion(outputs, labels)\n",
    "            loss.backward()\n",
    "            optimizer.step()\n",
    "\n",
    "        # Validate the model\n",
    "        model.eval()\n",
    "        val_predictions = []\n",
    "        val_true_labels = []\n",
    "\n",
    "        with torch.no_grad():\n",
    "            for inputs, labels in valloader:\n",
    "                outputs = model(inputs)\n",
    "                _, predicted = torch.max(outputs, 1) # torch.max returns both the maximum values and their indices\n",
    "                val_predictions.extend(predicted.numpy())\n",
    "                val_true_labels.extend(labels.numpy())\n",
    "\n",
    "        # Calculate validation accuracy\n",
    "        val_accuracy = accuracy_score(val_true_labels, val_predictions)\n",
    "        print(f\"Epoch {epoch + 1}: Validation Accuracy: {val_accuracy}\")\n",
    "\n",
    "        # Check for improvement in validation accuracy\n",
    "        if val_accuracy > best_val_accuracy:\n",
    "            best_val_accuracy = val_accuracy\n",
    "            no_improvement_counter = 0\n",
    "        else:\n",
    "            no_improvement_counter += 1\n",
    "            if no_improvement_counter >= patience:\n",
    "                print(f\"No improvement for {patience} epochs. Early stopping...\")\n",
    "                break\n",
    "\n",
    "    # Evaluate on the test set after training\n",
    "    model.eval()\n",
    "    test_predictions = []\n",
    "    test_true_labels = []\n",
    "\n",
    "    with torch.no_grad():\n",
    "        for inputs, labels in testloader: # batch wise for loop. \n",
    "            outputs = model(inputs)\n",
    "            _, predicted = torch.max(outputs, 1)\n",
    "            test_predictions.extend(predicted.numpy())\n",
    "            test_true_labels.extend(labels.numpy())\n",
    "\n",
    "    # Calculate accuracy on the test set\n",
    "    test_accuracy = accuracy_score(test_true_labels, test_predictions)\n",
    "    print(f\"Test Accuracy: {test_accuracy}\")\n",
    "\n",
    "    return test_accuracy\n"
   ]
  },
  {
   "cell_type": "code",
   "execution_count": 16,
   "metadata": {},
   "outputs": [],
   "source": [
    "def create_failure_set(testloader, model):\n",
    "    \n",
    "    # Evaluate on the test set after training\n",
    "    model.eval()\n",
    "    test_predictions = []\n",
    "    test_true_labels = []\n",
    "    failure_set = []\n",
    "\n",
    "    with torch.no_grad():\n",
    "        for inputs, labels in testloader: # batch wise for loop. \n",
    "            outputs = model(inputs)\n",
    "            _, predicted = torch.max(outputs, 1)\n",
    "            misclassified_mask = predicted != labels\n",
    "            failure_set.extend(inputs[misclassified_mask])\n",
    "\n",
    "    # Calculate accuracy on the test set\n",
    "    # test_accuracy = accuracy_score(test_true_labels, test_predictions)\n",
    "    # print(f\"Test Accuracy: {test_accuracy}\")\n",
    "    print(\"The size of the failure set is \", len(failure_set))\n",
    "    return failure_set"
   ]
  },
  {
   "cell_type": "code",
   "execution_count": 14,
   "metadata": {},
   "outputs": [
    {
     "name": "stdout",
     "output_type": "stream",
     "text": [
      "Epoch 1: Validation Accuracy: 0.9368333333333333\n",
      "Epoch 2: Validation Accuracy: 0.9611666666666666\n",
      "Epoch 3: Validation Accuracy: 0.9693333333333334\n",
      "Epoch 4: Validation Accuracy: 0.979\n",
      "Epoch 5: Validation Accuracy: 0.9818333333333333\n",
      "Epoch 6: Validation Accuracy: 0.985\n",
      "Epoch 7: Validation Accuracy: 0.9836666666666667\n",
      "Epoch 8: Validation Accuracy: 0.9885\n",
      "Epoch 9: Validation Accuracy: 0.9888333333333333\n",
      "Epoch 10: Validation Accuracy: 0.9896666666666667\n",
      "Epoch 11: Validation Accuracy: 0.9891666666666666\n",
      "Epoch 12: Validation Accuracy: 0.9905\n",
      "Epoch 13: Validation Accuracy: 0.9915\n",
      "Epoch 14: Validation Accuracy: 0.9921666666666666\n",
      "Epoch 15: Validation Accuracy: 0.993\n",
      "Epoch 16: Validation Accuracy: 0.9915\n",
      "Epoch 17: Validation Accuracy: 0.9918333333333333\n",
      "Epoch 18: Validation Accuracy: 0.99\n",
      "Epoch 19: Validation Accuracy: 0.9905\n",
      "Epoch 20: Validation Accuracy: 0.9911666666666666\n",
      "No improvement for 5 epochs. Early stopping...\n",
      "Test Accuracy: 0.9896\n"
     ]
    }
   ],
   "source": [
    "mnist_test_accuracy = train_with_early_stopping(mnist_trainloader, mnist_valloader, mnist_testloader, mnist_model, mnist_optimizer, criterion)\n"
   ]
  },
  {
   "cell_type": "code",
   "execution_count": 19,
   "metadata": {},
   "outputs": [
    {
     "name": "stdout",
     "output_type": "stream",
     "text": [
      "Epoch 1: Validation Accuracy: 0.4446\n",
      "Epoch 2: Validation Accuracy: 0.4184\n",
      "Epoch 3: Validation Accuracy: 0.5228\n",
      "Epoch 4: Validation Accuracy: 0.4504\n",
      "Epoch 5: Validation Accuracy: 0.5628\n",
      "Epoch 6: Validation Accuracy: 0.571\n",
      "Epoch 7: Validation Accuracy: 0.6116\n",
      "Epoch 8: Validation Accuracy: 0.3908\n",
      "Epoch 9: Validation Accuracy: 0.6526\n",
      "Epoch 10: Validation Accuracy: 0.593\n",
      "Epoch 11: Validation Accuracy: 0.6106\n",
      "Epoch 12: Validation Accuracy: 0.6794\n",
      "Epoch 13: Validation Accuracy: 0.5748\n",
      "Epoch 14: Validation Accuracy: 0.6128\n",
      "Epoch 15: Validation Accuracy: 0.6446\n",
      "Epoch 16: Validation Accuracy: 0.7144\n",
      "Epoch 17: Validation Accuracy: 0.7182\n",
      "Epoch 18: Validation Accuracy: 0.7452\n",
      "Epoch 19: Validation Accuracy: 0.7242\n",
      "Epoch 20: Validation Accuracy: 0.7488\n",
      "Epoch 21: Validation Accuracy: 0.7404\n",
      "Epoch 22: Validation Accuracy: 0.7482\n",
      "Epoch 23: Validation Accuracy: 0.7412\n",
      "Epoch 24: Validation Accuracy: 0.7502\n",
      "Epoch 25: Validation Accuracy: 0.7514\n",
      "Epoch 26: Validation Accuracy: 0.7414\n",
      "Epoch 27: Validation Accuracy: 0.7554\n",
      "Epoch 28: Validation Accuracy: 0.7268\n",
      "Epoch 29: Validation Accuracy: 0.752\n",
      "Epoch 30: Validation Accuracy: 0.7474\n",
      "Epoch 31: Validation Accuracy: 0.7262\n",
      "Epoch 32: Validation Accuracy: 0.7558\n",
      "Epoch 33: Validation Accuracy: 0.7522\n",
      "Epoch 34: Validation Accuracy: 0.755\n",
      "Epoch 35: Validation Accuracy: 0.7176\n"
     ]
    },
    {
     "ename": "KeyboardInterrupt",
     "evalue": "",
     "output_type": "error",
     "traceback": [
      "\u001b[0;31m---------------------------------------------------------------------------\u001b[0m",
      "\u001b[0;31mKeyboardInterrupt\u001b[0m                         Traceback (most recent call last)",
      "\u001b[1;32m/Users/tejasr/Documents/IITK/Semesters/sem 8/CS772/Project/Code/CS772-project/code.ipynb Cell 9\u001b[0m in \u001b[0;36m<cell line: 1>\u001b[0;34m()\u001b[0m\n\u001b[0;32m----> <a href='vscode-notebook-cell:/Users/tejasr/Documents/IITK/Semesters/sem%208/CS772/Project/Code/CS772-project/code.ipynb#X10sZmlsZQ%3D%3D?line=0'>1</a>\u001b[0m cifar_test_accuracy \u001b[39m=\u001b[39m train_with_early_stopping(cifar_trainloader, cifar_valloader, cifar_testloader, cifar_model, cifar_optimizer, criterion)\n",
      "\u001b[1;32m/Users/tejasr/Documents/IITK/Semesters/sem 8/CS772/Project/Code/CS772-project/code.ipynb Cell 9\u001b[0m in \u001b[0;36mtrain_with_early_stopping\u001b[0;34m(trainloader, valloader, testloader, model, optimizer, criterion, patience)\u001b[0m\n\u001b[1;32m      <a href='vscode-notebook-cell:/Users/tejasr/Documents/IITK/Semesters/sem%208/CS772/Project/Code/CS772-project/code.ipynb#X10sZmlsZQ%3D%3D?line=7'>8</a>\u001b[0m \u001b[39mfor\u001b[39;00m inputs, labels \u001b[39min\u001b[39;00m trainloader:\n\u001b[1;32m      <a href='vscode-notebook-cell:/Users/tejasr/Documents/IITK/Semesters/sem%208/CS772/Project/Code/CS772-project/code.ipynb#X10sZmlsZQ%3D%3D?line=8'>9</a>\u001b[0m     optimizer\u001b[39m.\u001b[39mzero_grad()\n\u001b[0;32m---> <a href='vscode-notebook-cell:/Users/tejasr/Documents/IITK/Semesters/sem%208/CS772/Project/Code/CS772-project/code.ipynb#X10sZmlsZQ%3D%3D?line=9'>10</a>\u001b[0m     outputs \u001b[39m=\u001b[39m model(inputs)\n\u001b[1;32m     <a href='vscode-notebook-cell:/Users/tejasr/Documents/IITK/Semesters/sem%208/CS772/Project/Code/CS772-project/code.ipynb#X10sZmlsZQ%3D%3D?line=10'>11</a>\u001b[0m     loss \u001b[39m=\u001b[39m criterion(outputs, labels)\n\u001b[1;32m     <a href='vscode-notebook-cell:/Users/tejasr/Documents/IITK/Semesters/sem%208/CS772/Project/Code/CS772-project/code.ipynb#X10sZmlsZQ%3D%3D?line=11'>12</a>\u001b[0m     loss\u001b[39m.\u001b[39mbackward()\n",
      "File \u001b[0;32m~/opt/anaconda3/envs/pytorch/lib/python3.9/site-packages/torch/nn/modules/module.py:1102\u001b[0m, in \u001b[0;36mModule._call_impl\u001b[0;34m(self, *input, **kwargs)\u001b[0m\n\u001b[1;32m   1098\u001b[0m \u001b[39m# If we don't have any hooks, we want to skip the rest of the logic in\u001b[39;00m\n\u001b[1;32m   1099\u001b[0m \u001b[39m# this function, and just call forward.\u001b[39;00m\n\u001b[1;32m   1100\u001b[0m \u001b[39mif\u001b[39;00m \u001b[39mnot\u001b[39;00m (\u001b[39mself\u001b[39m\u001b[39m.\u001b[39m_backward_hooks \u001b[39mor\u001b[39;00m \u001b[39mself\u001b[39m\u001b[39m.\u001b[39m_forward_hooks \u001b[39mor\u001b[39;00m \u001b[39mself\u001b[39m\u001b[39m.\u001b[39m_forward_pre_hooks \u001b[39mor\u001b[39;00m _global_backward_hooks\n\u001b[1;32m   1101\u001b[0m         \u001b[39mor\u001b[39;00m _global_forward_hooks \u001b[39mor\u001b[39;00m _global_forward_pre_hooks):\n\u001b[0;32m-> 1102\u001b[0m     \u001b[39mreturn\u001b[39;00m forward_call(\u001b[39m*\u001b[39;49m\u001b[39minput\u001b[39;49m, \u001b[39m*\u001b[39;49m\u001b[39m*\u001b[39;49mkwargs)\n\u001b[1;32m   1103\u001b[0m \u001b[39m# Do not call functions when jit is used\u001b[39;00m\n\u001b[1;32m   1104\u001b[0m full_backward_hooks, non_full_backward_hooks \u001b[39m=\u001b[39m [], []\n",
      "\u001b[1;32m/Users/tejasr/Documents/IITK/Semesters/sem 8/CS772/Project/Code/CS772-project/code.ipynb Cell 9\u001b[0m in \u001b[0;36mCIFAR_ResNet.forward\u001b[0;34m(self, x)\u001b[0m\n\u001b[1;32m      <a href='vscode-notebook-cell:/Users/tejasr/Documents/IITK/Semesters/sem%208/CS772/Project/Code/CS772-project/code.ipynb#X10sZmlsZQ%3D%3D?line=6'>7</a>\u001b[0m \u001b[39mdef\u001b[39;00m \u001b[39mforward\u001b[39m(\u001b[39mself\u001b[39m, x):\n\u001b[0;32m----> <a href='vscode-notebook-cell:/Users/tejasr/Documents/IITK/Semesters/sem%208/CS772/Project/Code/CS772-project/code.ipynb#X10sZmlsZQ%3D%3D?line=7'>8</a>\u001b[0m     \u001b[39mreturn\u001b[39;00m \u001b[39mself\u001b[39;49m\u001b[39m.\u001b[39;49mresnet50(x)\n",
      "File \u001b[0;32m~/opt/anaconda3/envs/pytorch/lib/python3.9/site-packages/torch/nn/modules/module.py:1102\u001b[0m, in \u001b[0;36mModule._call_impl\u001b[0;34m(self, *input, **kwargs)\u001b[0m\n\u001b[1;32m   1098\u001b[0m \u001b[39m# If we don't have any hooks, we want to skip the rest of the logic in\u001b[39;00m\n\u001b[1;32m   1099\u001b[0m \u001b[39m# this function, and just call forward.\u001b[39;00m\n\u001b[1;32m   1100\u001b[0m \u001b[39mif\u001b[39;00m \u001b[39mnot\u001b[39;00m (\u001b[39mself\u001b[39m\u001b[39m.\u001b[39m_backward_hooks \u001b[39mor\u001b[39;00m \u001b[39mself\u001b[39m\u001b[39m.\u001b[39m_forward_hooks \u001b[39mor\u001b[39;00m \u001b[39mself\u001b[39m\u001b[39m.\u001b[39m_forward_pre_hooks \u001b[39mor\u001b[39;00m _global_backward_hooks\n\u001b[1;32m   1101\u001b[0m         \u001b[39mor\u001b[39;00m _global_forward_hooks \u001b[39mor\u001b[39;00m _global_forward_pre_hooks):\n\u001b[0;32m-> 1102\u001b[0m     \u001b[39mreturn\u001b[39;00m forward_call(\u001b[39m*\u001b[39;49m\u001b[39minput\u001b[39;49m, \u001b[39m*\u001b[39;49m\u001b[39m*\u001b[39;49mkwargs)\n\u001b[1;32m   1103\u001b[0m \u001b[39m# Do not call functions when jit is used\u001b[39;00m\n\u001b[1;32m   1104\u001b[0m full_backward_hooks, non_full_backward_hooks \u001b[39m=\u001b[39m [], []\n",
      "File \u001b[0;32m~/opt/anaconda3/envs/pytorch/lib/python3.9/site-packages/torchvision/models/resnet.py:249\u001b[0m, in \u001b[0;36mResNet.forward\u001b[0;34m(self, x)\u001b[0m\n\u001b[1;32m    248\u001b[0m \u001b[39mdef\u001b[39;00m \u001b[39mforward\u001b[39m(\u001b[39mself\u001b[39m, x: Tensor) \u001b[39m-\u001b[39m\u001b[39m>\u001b[39m Tensor:\n\u001b[0;32m--> 249\u001b[0m     \u001b[39mreturn\u001b[39;00m \u001b[39mself\u001b[39;49m\u001b[39m.\u001b[39;49m_forward_impl(x)\n",
      "File \u001b[0;32m~/opt/anaconda3/envs/pytorch/lib/python3.9/site-packages/torchvision/models/resnet.py:239\u001b[0m, in \u001b[0;36mResNet._forward_impl\u001b[0;34m(self, x)\u001b[0m\n\u001b[1;32m    237\u001b[0m x \u001b[39m=\u001b[39m \u001b[39mself\u001b[39m\u001b[39m.\u001b[39mlayer1(x)\n\u001b[1;32m    238\u001b[0m x \u001b[39m=\u001b[39m \u001b[39mself\u001b[39m\u001b[39m.\u001b[39mlayer2(x)\n\u001b[0;32m--> 239\u001b[0m x \u001b[39m=\u001b[39m \u001b[39mself\u001b[39;49m\u001b[39m.\u001b[39;49mlayer3(x)\n\u001b[1;32m    240\u001b[0m x \u001b[39m=\u001b[39m \u001b[39mself\u001b[39m\u001b[39m.\u001b[39mlayer4(x)\n\u001b[1;32m    242\u001b[0m x \u001b[39m=\u001b[39m \u001b[39mself\u001b[39m\u001b[39m.\u001b[39mavgpool(x)\n",
      "File \u001b[0;32m~/opt/anaconda3/envs/pytorch/lib/python3.9/site-packages/torch/nn/modules/module.py:1102\u001b[0m, in \u001b[0;36mModule._call_impl\u001b[0;34m(self, *input, **kwargs)\u001b[0m\n\u001b[1;32m   1098\u001b[0m \u001b[39m# If we don't have any hooks, we want to skip the rest of the logic in\u001b[39;00m\n\u001b[1;32m   1099\u001b[0m \u001b[39m# this function, and just call forward.\u001b[39;00m\n\u001b[1;32m   1100\u001b[0m \u001b[39mif\u001b[39;00m \u001b[39mnot\u001b[39;00m (\u001b[39mself\u001b[39m\u001b[39m.\u001b[39m_backward_hooks \u001b[39mor\u001b[39;00m \u001b[39mself\u001b[39m\u001b[39m.\u001b[39m_forward_hooks \u001b[39mor\u001b[39;00m \u001b[39mself\u001b[39m\u001b[39m.\u001b[39m_forward_pre_hooks \u001b[39mor\u001b[39;00m _global_backward_hooks\n\u001b[1;32m   1101\u001b[0m         \u001b[39mor\u001b[39;00m _global_forward_hooks \u001b[39mor\u001b[39;00m _global_forward_pre_hooks):\n\u001b[0;32m-> 1102\u001b[0m     \u001b[39mreturn\u001b[39;00m forward_call(\u001b[39m*\u001b[39;49m\u001b[39minput\u001b[39;49m, \u001b[39m*\u001b[39;49m\u001b[39m*\u001b[39;49mkwargs)\n\u001b[1;32m   1103\u001b[0m \u001b[39m# Do not call functions when jit is used\u001b[39;00m\n\u001b[1;32m   1104\u001b[0m full_backward_hooks, non_full_backward_hooks \u001b[39m=\u001b[39m [], []\n",
      "File \u001b[0;32m~/opt/anaconda3/envs/pytorch/lib/python3.9/site-packages/torch/nn/modules/container.py:141\u001b[0m, in \u001b[0;36mSequential.forward\u001b[0;34m(self, input)\u001b[0m\n\u001b[1;32m    139\u001b[0m \u001b[39mdef\u001b[39;00m \u001b[39mforward\u001b[39m(\u001b[39mself\u001b[39m, \u001b[39minput\u001b[39m):\n\u001b[1;32m    140\u001b[0m     \u001b[39mfor\u001b[39;00m module \u001b[39min\u001b[39;00m \u001b[39mself\u001b[39m:\n\u001b[0;32m--> 141\u001b[0m         \u001b[39minput\u001b[39m \u001b[39m=\u001b[39m module(\u001b[39minput\u001b[39;49m)\n\u001b[1;32m    142\u001b[0m     \u001b[39mreturn\u001b[39;00m \u001b[39minput\u001b[39m\n",
      "File \u001b[0;32m~/opt/anaconda3/envs/pytorch/lib/python3.9/site-packages/torch/nn/modules/module.py:1102\u001b[0m, in \u001b[0;36mModule._call_impl\u001b[0;34m(self, *input, **kwargs)\u001b[0m\n\u001b[1;32m   1098\u001b[0m \u001b[39m# If we don't have any hooks, we want to skip the rest of the logic in\u001b[39;00m\n\u001b[1;32m   1099\u001b[0m \u001b[39m# this function, and just call forward.\u001b[39;00m\n\u001b[1;32m   1100\u001b[0m \u001b[39mif\u001b[39;00m \u001b[39mnot\u001b[39;00m (\u001b[39mself\u001b[39m\u001b[39m.\u001b[39m_backward_hooks \u001b[39mor\u001b[39;00m \u001b[39mself\u001b[39m\u001b[39m.\u001b[39m_forward_hooks \u001b[39mor\u001b[39;00m \u001b[39mself\u001b[39m\u001b[39m.\u001b[39m_forward_pre_hooks \u001b[39mor\u001b[39;00m _global_backward_hooks\n\u001b[1;32m   1101\u001b[0m         \u001b[39mor\u001b[39;00m _global_forward_hooks \u001b[39mor\u001b[39;00m _global_forward_pre_hooks):\n\u001b[0;32m-> 1102\u001b[0m     \u001b[39mreturn\u001b[39;00m forward_call(\u001b[39m*\u001b[39;49m\u001b[39minput\u001b[39;49m, \u001b[39m*\u001b[39;49m\u001b[39m*\u001b[39;49mkwargs)\n\u001b[1;32m   1103\u001b[0m \u001b[39m# Do not call functions when jit is used\u001b[39;00m\n\u001b[1;32m   1104\u001b[0m full_backward_hooks, non_full_backward_hooks \u001b[39m=\u001b[39m [], []\n",
      "File \u001b[0;32m~/opt/anaconda3/envs/pytorch/lib/python3.9/site-packages/torchvision/models/resnet.py:128\u001b[0m, in \u001b[0;36mBottleneck.forward\u001b[0;34m(self, x)\u001b[0m\n\u001b[1;32m    125\u001b[0m out \u001b[39m=\u001b[39m \u001b[39mself\u001b[39m\u001b[39m.\u001b[39mbn1(out)\n\u001b[1;32m    126\u001b[0m out \u001b[39m=\u001b[39m \u001b[39mself\u001b[39m\u001b[39m.\u001b[39mrelu(out)\n\u001b[0;32m--> 128\u001b[0m out \u001b[39m=\u001b[39m \u001b[39mself\u001b[39;49m\u001b[39m.\u001b[39;49mconv2(out)\n\u001b[1;32m    129\u001b[0m out \u001b[39m=\u001b[39m \u001b[39mself\u001b[39m\u001b[39m.\u001b[39mbn2(out)\n\u001b[1;32m    130\u001b[0m out \u001b[39m=\u001b[39m \u001b[39mself\u001b[39m\u001b[39m.\u001b[39mrelu(out)\n",
      "File \u001b[0;32m~/opt/anaconda3/envs/pytorch/lib/python3.9/site-packages/torch/nn/modules/module.py:1102\u001b[0m, in \u001b[0;36mModule._call_impl\u001b[0;34m(self, *input, **kwargs)\u001b[0m\n\u001b[1;32m   1098\u001b[0m \u001b[39m# If we don't have any hooks, we want to skip the rest of the logic in\u001b[39;00m\n\u001b[1;32m   1099\u001b[0m \u001b[39m# this function, and just call forward.\u001b[39;00m\n\u001b[1;32m   1100\u001b[0m \u001b[39mif\u001b[39;00m \u001b[39mnot\u001b[39;00m (\u001b[39mself\u001b[39m\u001b[39m.\u001b[39m_backward_hooks \u001b[39mor\u001b[39;00m \u001b[39mself\u001b[39m\u001b[39m.\u001b[39m_forward_hooks \u001b[39mor\u001b[39;00m \u001b[39mself\u001b[39m\u001b[39m.\u001b[39m_forward_pre_hooks \u001b[39mor\u001b[39;00m _global_backward_hooks\n\u001b[1;32m   1101\u001b[0m         \u001b[39mor\u001b[39;00m _global_forward_hooks \u001b[39mor\u001b[39;00m _global_forward_pre_hooks):\n\u001b[0;32m-> 1102\u001b[0m     \u001b[39mreturn\u001b[39;00m forward_call(\u001b[39m*\u001b[39;49m\u001b[39minput\u001b[39;49m, \u001b[39m*\u001b[39;49m\u001b[39m*\u001b[39;49mkwargs)\n\u001b[1;32m   1103\u001b[0m \u001b[39m# Do not call functions when jit is used\u001b[39;00m\n\u001b[1;32m   1104\u001b[0m full_backward_hooks, non_full_backward_hooks \u001b[39m=\u001b[39m [], []\n",
      "File \u001b[0;32m~/opt/anaconda3/envs/pytorch/lib/python3.9/site-packages/torch/nn/modules/conv.py:446\u001b[0m, in \u001b[0;36mConv2d.forward\u001b[0;34m(self, input)\u001b[0m\n\u001b[1;32m    445\u001b[0m \u001b[39mdef\u001b[39;00m \u001b[39mforward\u001b[39m(\u001b[39mself\u001b[39m, \u001b[39minput\u001b[39m: Tensor) \u001b[39m-\u001b[39m\u001b[39m>\u001b[39m Tensor:\n\u001b[0;32m--> 446\u001b[0m     \u001b[39mreturn\u001b[39;00m \u001b[39mself\u001b[39;49m\u001b[39m.\u001b[39;49m_conv_forward(\u001b[39minput\u001b[39;49m, \u001b[39mself\u001b[39;49m\u001b[39m.\u001b[39;49mweight, \u001b[39mself\u001b[39;49m\u001b[39m.\u001b[39;49mbias)\n",
      "File \u001b[0;32m~/opt/anaconda3/envs/pytorch/lib/python3.9/site-packages/torch/nn/modules/conv.py:442\u001b[0m, in \u001b[0;36mConv2d._conv_forward\u001b[0;34m(self, input, weight, bias)\u001b[0m\n\u001b[1;32m    438\u001b[0m \u001b[39mif\u001b[39;00m \u001b[39mself\u001b[39m\u001b[39m.\u001b[39mpadding_mode \u001b[39m!=\u001b[39m \u001b[39m'\u001b[39m\u001b[39mzeros\u001b[39m\u001b[39m'\u001b[39m:\n\u001b[1;32m    439\u001b[0m     \u001b[39mreturn\u001b[39;00m F\u001b[39m.\u001b[39mconv2d(F\u001b[39m.\u001b[39mpad(\u001b[39minput\u001b[39m, \u001b[39mself\u001b[39m\u001b[39m.\u001b[39m_reversed_padding_repeated_twice, mode\u001b[39m=\u001b[39m\u001b[39mself\u001b[39m\u001b[39m.\u001b[39mpadding_mode),\n\u001b[1;32m    440\u001b[0m                     weight, bias, \u001b[39mself\u001b[39m\u001b[39m.\u001b[39mstride,\n\u001b[1;32m    441\u001b[0m                     _pair(\u001b[39m0\u001b[39m), \u001b[39mself\u001b[39m\u001b[39m.\u001b[39mdilation, \u001b[39mself\u001b[39m\u001b[39m.\u001b[39mgroups)\n\u001b[0;32m--> 442\u001b[0m \u001b[39mreturn\u001b[39;00m F\u001b[39m.\u001b[39;49mconv2d(\u001b[39minput\u001b[39;49m, weight, bias, \u001b[39mself\u001b[39;49m\u001b[39m.\u001b[39;49mstride,\n\u001b[1;32m    443\u001b[0m                 \u001b[39mself\u001b[39;49m\u001b[39m.\u001b[39;49mpadding, \u001b[39mself\u001b[39;49m\u001b[39m.\u001b[39;49mdilation, \u001b[39mself\u001b[39;49m\u001b[39m.\u001b[39;49mgroups)\n",
      "\u001b[0;31mKeyboardInterrupt\u001b[0m: "
     ]
    }
   ],
   "source": [
    "cifar_test_accuracy = train_with_early_stopping(cifar_trainloader, cifar_valloader, cifar_testloader, cifar_model, cifar_optimizer, criterion)"
   ]
  },
  {
   "attachments": {},
   "cell_type": "markdown",
   "metadata": {},
   "source": [
    "The model fofr CIFAR is training very slowly, is very large(due to size of resnet) and is not getting very high accuracy. Seems to be stuck at 75%. Don't know the issue"
   ]
  },
  {
   "attachments": {},
   "cell_type": "markdown",
   "metadata": {},
   "source": [
    "F is the failure set denoting the examples on which there is wrong prediction"
   ]
  },
  {
   "cell_type": "code",
   "execution_count": 18,
   "metadata": {},
   "outputs": [
    {
     "name": "stdout",
     "output_type": "stream",
     "text": [
      "Test Accuracy: nan\n",
      "The size of the failure set is  104\n"
     ]
    },
    {
     "name": "stderr",
     "output_type": "stream",
     "text": [
      "/Users/tejasr/opt/anaconda3/envs/pytorch/lib/python3.9/site-packages/numpy/lib/function_base.py:520: RuntimeWarning: Mean of empty slice.\n",
      "  avg = a.mean(axis, **keepdims_kw)\n",
      "/Users/tejasr/opt/anaconda3/envs/pytorch/lib/python3.9/site-packages/numpy/core/_methods.py:129: RuntimeWarning: invalid value encountered in scalar divide\n",
      "  ret = ret.dtype.type(ret / rcount)\n"
     ]
    }
   ],
   "source": [
    "F_mnist= create_failure_set(mnist_testloader, mnist_model)"
   ]
  },
  {
   "cell_type": "code",
   "execution_count": 20,
   "metadata": {},
   "outputs": [],
   "source": [
    "torch.save(mnist_model.state_dict(), 'mnist_model.pth')\n",
    "torch.save(cifar_model.state_dict(), 'cifar_model.pth')"
   ]
  },
  {
   "attachments": {},
   "cell_type": "markdown",
   "metadata": {},
   "source": [
    "Adding label noise to the dataset: first defining the confusion matrices as defined in the paper for both mnist and cifar10."
   ]
  },
  {
   "cell_type": "code",
   "execution_count": 34,
   "metadata": {},
   "outputs": [
    {
     "name": "stdout",
     "output_type": "stream",
     "text": [
      "[[1.  0.  0.  0.  0.  0.  0.  0.  0.  0. ]\n",
      " [0.  0.6 0.  0.  0.  0.  0.  0.4 0.  0. ]\n",
      " [0.  0.  1.  0.  0.  0.  0.  0.  0.  0. ]\n",
      " [0.  0.  0.  1.  0.  0.  0.  0.  0.  0. ]\n",
      " [0.  0.  0.  0.  1.  0.  0.  0.  0.  0. ]\n",
      " [0.  0.  0.  0.  0.  1.  0.  0.  0.  0. ]\n",
      " [0.  0.  0.  0.  0.  0.  0.7 0.  0.  0.3]\n",
      " [0.  0.4 0.  0.  0.  0.  0.  0.6 0.  0. ]\n",
      " [0.  0.  0.  0.  0.  0.  0.  0.  1.  0. ]\n",
      " [0.  0.  0.  0.  0.  0.  0.3 0.  0.  0.7]]\n"
     ]
    }
   ],
   "source": [
    "# Assuming you have the confusion matrix defined as confusion_matrix\n",
    "# MNIST confusion matrix\n",
    "# Initialize a 10x10 confusion matrix with ones on the diagonal\n",
    "mnist_cm = np.eye(10)\n",
    "# Set misclassification probabilities\n",
    "mnist_cm[1, 1] = 0.6 \n",
    "mnist_cm[7, 7] = 0.6  \n",
    "mnist_cm[1, 7] = 0.4  # Probability of misclassifying label 1 as label 7\n",
    "mnist_cm[7, 1] = 0.4  # Probability of misclassifying label 7 as label 1\n",
    "mnist_cm[6, 6] = 0.7  \n",
    "mnist_cm[9, 9] = 0.7  \n",
    "mnist_cm[6, 9] = 0.3  # Probability of misclassifying label 6 as label 9\n",
    "mnist_cm[9, 6] = 0.3  # Probability of misclassifying label 9 as label 6\n",
    "print(mnist_cm)"
   ]
  },
  {
   "cell_type": "code",
   "execution_count": 37,
   "metadata": {},
   "outputs": [
    {
     "name": "stdout",
     "output_type": "stream",
     "text": [
      "\tplane\tcar\tbird\tcat\tdeer\tdog\tfrog\thorse\tship\ttruck\n",
      "plane \t0.6\t0.0\t0.4\t0.0\t0.0\t0.0\t0.0\t0.0\t0.0\t0.0\n",
      "car \t0.0\t1.0\t0.0\t0.0\t0.0\t0.0\t0.0\t0.0\t0.0\t0.0\n",
      "bird \t0.4\t0.0\t0.6\t0.0\t0.0\t0.0\t0.0\t0.0\t0.0\t0.0\n",
      "cat \t0.0\t0.0\t0.0\t0.7\t0.0\t0.3\t0.0\t0.0\t0.0\t0.0\n",
      "deer \t0.0\t0.0\t0.0\t0.0\t1.0\t0.0\t0.0\t0.0\t0.0\t0.0\n",
      "dog \t0.0\t0.0\t0.0\t0.3\t0.0\t0.7\t0.0\t0.0\t0.0\t0.0\n",
      "frog \t0.0\t0.0\t0.0\t0.0\t0.0\t0.0\t1.0\t0.0\t0.0\t0.0\n",
      "horse \t0.0\t0.0\t0.0\t0.0\t0.0\t0.0\t0.0\t1.0\t0.0\t0.0\n",
      "ship \t0.0\t0.0\t0.0\t0.0\t0.0\t0.0\t0.0\t0.0\t1.0\t0.0\n",
      "truck \t0.0\t0.0\t0.0\t0.0\t0.0\t0.0\t0.0\t0.0\t0.0\t1.0\n"
     ]
    }
   ],
   "source": [
    "# List of label names\n",
    "label_names = ['plane', 'car', 'bird', 'cat', 'deer', 'dog', 'frog', 'horse', 'ship', 'truck']\n",
    "# Create a dictionary mapping label names to numerical labels starting from 0\n",
    "label_map = {label_names[i]: i for i in range(len(label_names))}\n",
    "# Assuming you have the confusion matrix defined as confusion_matrix\n",
    "# CIFAR-10 confusion matrix\n",
    "# Initialize a 10x10 confusion matrix with ones on the diagonal\n",
    "cifar_cm = np.eye(10)\n",
    "# Set misclassification probabilities\n",
    "cifar_cm[label_map['plane'], label_map['plane']] = 0.6\n",
    "cifar_cm[label_map['bird'], label_map['bird']] = 0.6 \n",
    "cifar_cm[label_map['plane'], label_map['bird']] = 0.4 # Probability of misclassifying airplane as bird\n",
    "cifar_cm[label_map['bird'], label_map['plane']] = 0.4 # Probability of misclassifying bird as airplane \n",
    "cifar_cm[label_map['cat'], label_map['cat']] = 0.7\n",
    "cifar_cm[label_map['dog'], label_map['dog']] = 0.7\n",
    "cifar_cm[label_map['cat'], label_map['dog']] = 0.3\n",
    "cifar_cm[label_map['dog'], label_map['cat']] = 0.3 # check these once, the paper gives a contradictory cm. \n",
    "# print(cifar_cm)\n",
    "# Print label names along with the confusion matrix\n",
    "print('\\t' + '\\t'.join(label_names))\n",
    "for i in range(len(label_names)):\n",
    "    print(label_names[i], '\\t', end='')\n",
    "    print('\\t'.join(str(cifar_cm[i, j]) for j in range(len(label_names))))\n"
   ]
  },
  {
   "cell_type": "code",
   "execution_count": 50,
   "metadata": {},
   "outputs": [
    {
     "name": "stdout",
     "output_type": "stream",
     "text": [
      "10000\n",
      "{0: 0, 1: 451, 2: 0, 3: 0, 4: 0, 5: 0, 6: 309, 7: 406, 8: 0, 9: 335}\n"
     ]
    }
   ],
   "source": [
    "def flip_labels(dataloader, cm):\n",
    "    noisy_labels = []\n",
    "    misclassifcn_dict= {i: 0 for i in range(10)}\n",
    "    for _, labels in dataloader:\n",
    "        for label in labels:\n",
    "            # Randomly flip the label according to the confusion matrix\n",
    "            noisy_label = np.random.choice(np.arange(len(cm)), p=cm[label])\n",
    "            if(noisy_label!=label):\n",
    "                # print(label.shape, label)\n",
    "                misclassifcn_dict[int(label.numpy())]+=1 # label is a tensor so conversion is needed to access dict keys\n",
    "            noisy_labels.append(noisy_label)\n",
    "\t\t\t\t\t\t\n",
    "    return noisy_labels, misclassifcn_dict\n",
    "\n",
    "# Apply noise to the training labels\n",
    "noisy_mnist_labels, missclassfcn_dict = flip_labels(mnist_testloader, mnist_cm)\n",
    "print(len(noisy_mnist_labels))\n",
    "print(missclassfcn_dict)"
   ]
  },
  {
   "cell_type": "code",
   "execution_count": 58,
   "metadata": {},
   "outputs": [
    {
     "data": {
      "image/png": "[encoded data removed]",
      "text/plain": [
       "<Figure size 720x432 with 1 Axes>"
      ]
     },
     "metadata": {
      "needs_background": "light"
     },
     "output_type": "display_data"
    }
   ],
   "source": [
    "def plot_histogram(misclassfcn_dict, label_names=None):\n",
    "    if label_names is None:\n",
    "        label_names = [str(i) for i in range(10)]\n",
    "    plt.figure(figsize=(10, 6))\n",
    "    bins = np.arange(len(label_names) + 1)  # Define bin edges\n",
    "    width = 0.35  # Width of each bar\n",
    "    for idx, (label, freq) in enumerate(misclassfcn_dict.items()):\n",
    "        plt.bar(idx, freq, width, label=label_names[label], color='blue')\n",
    "    plt.xlabel('Classes')\n",
    "    plt.ylabel('Count')\n",
    "    plt.title('Misclassification Distribution')\n",
    "    plt.xticks(np.arange(len(label_names)), label_names, rotation=45, ha='right')\n",
    "    # plt.legend()\n",
    "    plt.grid(axis='y', linestyle='--', alpha=0.7)\n",
    "    plt.tight_layout()\n",
    "    plt.show()\n",
    "\n",
    "# Plot histogram\n",
    "plot_histogram(misclassfcn_dict=missclassfcn_dict)\n"
   ]
  },
  {
   "attachments": {},
   "cell_type": "markdown",
   "metadata": {},
   "source": [
    "This corresponds with the MNIST one given. But why is the count for 1 so low in the paper? Also, why are the other numbers non zero in the paper? Do we have to introduce a non zero noise for all the classes? "
   ]
  },
  {
   "cell_type": "code",
   "execution_count": 33,
   "metadata": {},
   "outputs": [
    {
     "name": "stdout",
     "output_type": "stream",
     "text": [
      "54016 10048 6016\n"
     ]
    }
   ],
   "source": [
    "print(len(mnist_trainloader)*64, len(mnist_testloader)*64, len(mnist_valloader)*64)\n",
    "# 10% of training set(6000) is used for validation, leaving 54k in the training set of mnist. "
   ]
  },
  {
   "cell_type": "code",
   "execution_count": null,
   "metadata": {},
   "outputs": [],
   "source": []
  }
 ],
 "metadata": {
  "kernelspec": {
   "display_name": "Python 3",
   "language": "python",
   "name": "python3"
  },
  "language_info": {
   "codemirror_mode": {
    "name": "ipython",
    "version": 3
   },
   "file_extension": ".py",
   "mimetype": "text/x-python",
   "name": "python",
   "nbconvert_exporter": "python",
   "pygments_lexer": "ipython3",
   "version": "3.9.7"
  },
  "orig_nbformat": 4
 },
 "nbformat": 4,
 "nbformat_minor": 2
}
