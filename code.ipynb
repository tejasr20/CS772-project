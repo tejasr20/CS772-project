{
 "cells": [
  {
   "cell_type": "code",
   "execution_count": 11,
   "metadata": {},
   "outputs": [],
   "source": [
    "import torch\n",
    "import torchvision\n",
    "import torchvision.transforms as transforms\n",
    "import torch.nn as nn\n",
    "import torch.optim as optim\n",
    "from torchvision.models import resnet50\n",
    "from torch.utils.data import DataLoader\n",
    "from sklearn.metrics import accuracy_score\n",
    "from tqdm import tqdm\n",
    "import numpy as np\n",
    "# Define data loaders\n",
    "from torch.utils.data import DataLoader, random_split\n",
    "\n",
    "# Define preprocessing transformations\n",
    "import os"
   ]
  },
  {
   "cell_type": "code",
   "execution_count": 2,
   "metadata": {},
   "outputs": [
    {
     "name": "stdout",
     "output_type": "stream",
     "text": [
      "Files already downloaded and verified\n",
      "Files already downloaded and verified\n"
     ]
    }
   ],
   "source": [
    "# Define the root directory for data\n",
    "data_root = './data'\n",
    "\n",
    "# Define preprocessing transformations\n",
    "transform = transforms.Compose([\n",
    "    transforms.ToTensor(),  # Convert image to PyTorch tensor\n",
    "    transforms.Normalize((0.5,), (0.5,))  # Normalize pixel values to the range [-1, 1]\n",
    "])\n",
    "\n",
    "# Check if MNIST dataset is already downloaded, if not, download it\n",
    "if not os.path.exists(os.path.join(data_root, 'MNIST')):\n",
    "    mnist_trainset = torchvision.datasets.MNIST(root=data_root, train=True, download=True, transform=transform)\n",
    "    mnist_testset = torchvision.datasets.MNIST(root=data_root, train=False, download=True, transform=transform)\n",
    "else:\n",
    "    mnist_trainset = torchvision.datasets.MNIST(root=data_root, train=True, download=False, transform=transform)\n",
    "    mnist_testset = torchvision.datasets.MNIST(root=data_root, train=False, download=False, transform=transform)\n",
    "\n",
    "# Check if CIFAR-10 dataset is already downloaded, if not, download it\n",
    "if not os.path.exists(os.path.join(data_root, 'CIFAR10')):\n",
    "    cifar_trainset = torchvision.datasets.CIFAR10(root=data_root, train=True, download=True, transform=transform)\n",
    "    cifar_testset = torchvision.datasets.CIFAR10(root=data_root, train=False, download=True, transform=transform)\n",
    "else:\n",
    "    cifar_trainset = torchvision.datasets.CIFAR10(root=data_root, train=True, download=False, transform=transform)\n",
    "    cifar_testset = torchvision.datasets.CIFAR10(root=data_root, train=False, download=False, transform=transform)"
   ]
  },
  {
   "cell_type": "code",
   "execution_count": 3,
   "metadata": {},
   "outputs": [],
   "source": [
    "class MNIST_CNN(nn.Module):\n",
    "    def __init__(self):\n",
    "        super(MNIST_CNN, self).__init__()\n",
    "        # Define convolutional layers\n",
    "        self.conv1 = nn.Conv2d(1, 32, kernel_size=3)  # 1 input channel, 32 output channels, 3x3 kernel\n",
    "        self.conv2 = nn.Conv2d(32, 32, kernel_size=3)  # 32 input channels, 32 output channels, 3x3 kernel\n",
    "        self.conv3 = nn.Conv2d(32, 64, kernel_size=3)  # 32 input channels, 64 output channels, 3x3 kernel\n",
    "        self.conv4 = nn.Conv2d(64, 64, kernel_size=3)  # 64 input channels, 64 output channels, 3x3 kernel\n",
    "        \n",
    "        # Define max pooling layer\n",
    "        self.pool = nn.MaxPool2d(kernel_size=2, stride=2)  # 2x2 max pooling with stride 2\n",
    "        \n",
    "        # Define global average pooling layer\n",
    "        self.global_pool = nn.AdaptiveAvgPool2d(1)  # Global Average Pooling\n",
    "        \n",
    "        # Define fully connected layer\n",
    "        self.fc = nn.Linear(64, 10)  # 64 input features, 10 output classes\n",
    "\n",
    "    def forward(self, x):\n",
    "        # Apply convolution and ReLU activation\n",
    "        x = nn.functional.relu(self.conv1(x))\n",
    "        x = nn.functional.relu(self.conv2(x))\n",
    "        # Apply max pooling\n",
    "        x = self.pool(x)\n",
    "        x = nn.functional.relu(self.conv3(x))\n",
    "        x = nn.functional.relu(self.conv4(x))\n",
    "        # Apply global average pooling\n",
    "        x = self.global_pool(x)\n",
    "        # Flatten for fully connected layer\n",
    "        x = x.view(-1, 64)\n",
    "        # Fully connected layer\n",
    "        x = self.fc(x)\n",
    "        return x"
   ]
  },
  {
   "cell_type": "code",
   "execution_count": 4,
   "metadata": {},
   "outputs": [],
   "source": [
    "# ResNet50 architecture for CIFAR-10\n",
    "class CIFAR_ResNet(nn.Module):\n",
    "    def __init__(self):\n",
    "        super(CIFAR_ResNet, self).__init__()\n",
    "        self.resnet50 = resnet50(num_classes=10)\n",
    "\n",
    "    def forward(self, x):\n",
    "        return self.resnet50(x)"
   ]
  },
  {
   "cell_type": "code",
   "execution_count": 12,
   "metadata": {},
   "outputs": [],
   "source": [
    "# Initialize models and optimizer\n",
    "mnist_model = MNIST_CNN()\n",
    "cifar_model = CIFAR_ResNet()\n",
    "mnist_optimizer = optim.Adam(mnist_model.parameters(), lr=1e-3, betas=(0.9, 0.999))\n",
    "cifar_optimizer = optim.Adam(cifar_model.parameters(), lr=1e-3, betas=(0.9, 0.999))\n",
    "criterion = nn.CrossEntropyLoss() # multiclassification\n",
    "\n",
    "# Define the size of the validation set (10% of the training set)\n",
    "validation_size_mnist = int(0.1 * len(mnist_trainset))\n",
    "# Split the training set into training and validation sets\n",
    "mnist_trainset, mnist_valset = random_split(mnist_trainset, [len(mnist_trainset) - validation_size_mnist, validation_size_mnist])\n",
    "\n",
    "# Define data loaders for training, validation, and testing\n",
    "mnist_trainloader = DataLoader(mnist_trainset, batch_size=64, shuffle=True)\n",
    "mnist_valloader = DataLoader(mnist_valset, batch_size=64, shuffle=False)  # No need to shuffle the validation set\n",
    "mnist_testloader = DataLoader(mnist_testset, batch_size=64, shuffle=False)\n",
    "\n",
    "# Define the size of the validation set (10% of the training set)\n",
    "validation_size_cifar = int(0.1 * len(cifar_trainset))\n",
    "\n",
    "# Split the training set into training and validation sets\n",
    "cifar_trainset, cifar_valset = random_split(cifar_trainset, [len(cifar_trainset) - validation_size_cifar, validation_size_cifar])\n",
    "\n",
    "# Define data loaders for training, validation, and testing\n",
    "cifar_trainloader = DataLoader(cifar_trainset, batch_size=64, shuffle=True)\n",
    "cifar_valloader = DataLoader(cifar_valset, batch_size=64, shuffle=False)  # No need to shuffle the validation set\n",
    "cifar_testloader = DataLoader(cifar_testset, batch_size=64, shuffle=False)"
   ]
  },
  {
   "cell_type": "code",
   "execution_count": 13,
   "metadata": {},
   "outputs": [],
   "source": [
    "def train_with_early_stopping(trainloader, valloader, testloader, model, optimizer, criterion, patience=5):\n",
    "    best_val_accuracy = 0\n",
    "    no_improvement_counter = 0\n",
    "\n",
    "    for epoch in range(100):  # Maximum of 100 epochs\n",
    "        # Train the model\n",
    "        model.train()\n",
    "        for inputs, labels in trainloader:\n",
    "            optimizer.zero_grad()\n",
    "            outputs = model(inputs)\n",
    "            loss = criterion(outputs, labels)\n",
    "            loss.backward()\n",
    "            optimizer.step()\n",
    "\n",
    "        # Validate the model\n",
    "        model.eval()\n",
    "        val_predictions = []\n",
    "        val_true_labels = []\n",
    "\n",
    "        with torch.no_grad():\n",
    "            for inputs, labels in valloader:\n",
    "                outputs = model(inputs)\n",
    "                _, predicted = torch.max(outputs, 1) # torch.max returns both the maximum values and their indices\n",
    "                val_predictions.extend(predicted.numpy())\n",
    "                val_true_labels.extend(labels.numpy())\n",
    "\n",
    "        # Calculate validation accuracy\n",
    "        val_accuracy = accuracy_score(val_true_labels, val_predictions)\n",
    "        print(f\"Epoch {epoch + 1}: Validation Accuracy: {val_accuracy}\")\n",
    "\n",
    "        # Check for improvement in validation accuracy\n",
    "        if val_accuracy > best_val_accuracy:\n",
    "            best_val_accuracy = val_accuracy\n",
    "            no_improvement_counter = 0\n",
    "        else:\n",
    "            no_improvement_counter += 1\n",
    "            if no_improvement_counter >= patience:\n",
    "                print(f\"No improvement for {patience} epochs. Early stopping...\")\n",
    "                break\n",
    "\n",
    "    # Evaluate on the test set after training\n",
    "    model.eval()\n",
    "    test_predictions = []\n",
    "    test_true_labels = []\n",
    "\n",
    "    with torch.no_grad():\n",
    "        for inputs, labels in testloader: # batch wise for loop. \n",
    "            outputs = model(inputs)\n",
    "            _, predicted = torch.max(outputs, 1)\n",
    "            test_predictions.extend(predicted.numpy())\n",
    "            test_true_labels.extend(labels.numpy())\n",
    "\n",
    "    # Calculate accuracy on the test set\n",
    "    test_accuracy = accuracy_score(test_true_labels, test_predictions)\n",
    "    print(f\"Test Accuracy: {test_accuracy}\")\n",
    "\n",
    "    return test_accuracy\n"
   ]
  },
  {
   "cell_type": "code",
   "execution_count": 16,
   "metadata": {},
   "outputs": [],
   "source": [
    "def create_failure_set(testloader, model):\n",
    "    \n",
    "    # Evaluate on the test set after training\n",
    "    model.eval()\n",
    "    test_predictions = []\n",
    "    test_true_labels = []\n",
    "    failure_set = []\n",
    "\n",
    "    with torch.no_grad():\n",
    "        for inputs, labels in testloader: # batch wise for loop. \n",
    "            outputs = model(inputs)\n",
    "            _, predicted = torch.max(outputs, 1)\n",
    "            misclassified_mask = predicted != labels\n",
    "            failure_set.extend(inputs[misclassified_mask])\n",
    "\n",
    "    # Calculate accuracy on the test set\n",
    "    # test_accuracy = accuracy_score(test_true_labels, test_predictions)\n",
    "    # print(f\"Test Accuracy: {test_accuracy}\")\n",
    "    print(\"The size of the failure set is \", len(failure_set))\n",
    "    return failure_set"
   ]
  },
  {
   "cell_type": "code",
   "execution_count": 14,
   "metadata": {},
   "outputs": [
    {
     "name": "stdout",
     "output_type": "stream",
     "text": [
      "Epoch 1: Validation Accuracy: 0.9368333333333333\n",
      "Epoch 2: Validation Accuracy: 0.9611666666666666\n",
      "Epoch 3: Validation Accuracy: 0.9693333333333334\n",
      "Epoch 4: Validation Accuracy: 0.979\n",
      "Epoch 5: Validation Accuracy: 0.9818333333333333\n",
      "Epoch 6: Validation Accuracy: 0.985\n",
      "Epoch 7: Validation Accuracy: 0.9836666666666667\n",
      "Epoch 8: Validation Accuracy: 0.9885\n",
      "Epoch 9: Validation Accuracy: 0.9888333333333333\n",
      "Epoch 10: Validation Accuracy: 0.9896666666666667\n",
      "Epoch 11: Validation Accuracy: 0.9891666666666666\n",
      "Epoch 12: Validation Accuracy: 0.9905\n",
      "Epoch 13: Validation Accuracy: 0.9915\n",
      "Epoch 14: Validation Accuracy: 0.9921666666666666\n",
      "Epoch 15: Validation Accuracy: 0.993\n",
      "Epoch 16: Validation Accuracy: 0.9915\n",
      "Epoch 17: Validation Accuracy: 0.9918333333333333\n",
      "Epoch 18: Validation Accuracy: 0.99\n",
      "Epoch 19: Validation Accuracy: 0.9905\n",
      "Epoch 20: Validation Accuracy: 0.9911666666666666\n",
      "No improvement for 5 epochs. Early stopping...\n",
      "Test Accuracy: 0.9896\n"
     ]
    }
   ],
   "source": [
    "mnist_test_accuracy = train_with_early_stopping(mnist_trainloader, mnist_valloader, mnist_testloader, mnist_model, mnist_optimizer, criterion)\n"
   ]
  },
  {
   "cell_type": "code",
   "execution_count": 19,
   "metadata": {},
   "outputs": [
    {
     "name": "stdout",
     "output_type": "stream",
     "text": [
      "Epoch 1: Validation Accuracy: 0.4446\n",
      "Epoch 2: Validation Accuracy: 0.4184\n"
     ]
    }
   ],
   "source": [
    "cifar_test_accuracy = train_with_early_stopping(cifar_trainloader, cifar_valloader, cifar_testloader, cifar_model, cifar_optimizer, criterion)"
   ]
  },
  {
   "cell_type": "code",
   "execution_count": 18,
   "metadata": {},
   "outputs": [
    {
     "name": "stdout",
     "output_type": "stream",
     "text": [
      "Test Accuracy: nan\n",
      "The size of the failure set is  104\n"
     ]
    },
    {
     "name": "stderr",
     "output_type": "stream",
     "text": [
      "/Users/tejasr/opt/anaconda3/envs/pytorch/lib/python3.9/site-packages/numpy/lib/function_base.py:520: RuntimeWarning: Mean of empty slice.\n",
      "  avg = a.mean(axis, **keepdims_kw)\n",
      "/Users/tejasr/opt/anaconda3/envs/pytorch/lib/python3.9/site-packages/numpy/core/_methods.py:129: RuntimeWarning: invalid value encountered in scalar divide\n",
      "  ret = ret.dtype.type(ret / rcount)\n"
     ]
    }
   ],
   "source": [
    "F_mnist= create_failure_set(mnist_testloader, mnist_model)"
   ]
  },
  {
   "cell_type": "code",
   "execution_count": null,
   "metadata": {},
   "outputs": [],
   "source": [
    "torch.save(mnist_model.state_dict(), 'mnist_model.pth')\n",
    "torch.save(cifar_model.state_dict(), 'cifar_model.pth')"
   ]
  },
  {
   "attachments": {},
   "cell_type": "markdown",
   "metadata": {},
   "source": [
    "Adding label noise to the dataset"
   ]
  },
  {
   "cell_type": "code",
   "execution_count": null,
   "metadata": {},
   "outputs": [],
   "source": [
    "# Assuming you have the confusion matrix defined as confusion_matrix\n",
    "# Example confusion matrix for MNIST (2x2):\n",
    "# Initialize a 10x10 confusion matrix with ones on the diagonal\n",
    "confusion_matrix = np.eye(10)\n",
    "# Set misclassification probabilities\n",
    "confusion_matrix[1, 7] = 0.6 # Probability of misclassifying label 1 as label 7\n",
    "confusion_matrix[1, 7] = 0.4  # Probability of misclassifying label 1 as label 7\n",
    "confusion_matrix[7, 7] = 0.6  # Probability of misclassifying label 7 as label 1\n",
    "confusion_matrix[7, 1] = 0.4  # Probability of misclassifying label 7 as label 1\n",
    "confusion_matrix[6, 6] = 0.7  # Probability of misclassifying label 6 as label 9\n",
    "confusion_matrix[9, 6] = 0.7  # Probability of misclassifying label 9 as label 6\n",
    "confusion_matrix[6, 9] = 0.3  # Probability of misclassifying label 6 as label 9\n",
    "confusion_matrix[9, 6] = 0.3  # Probability of misclassifying label 9 as label 6\n",
    "\n",
    "print(confusion_matrix)"
   ]
  },
  {
   "cell_type": "code",
   "execution_count": null,
   "metadata": {},
   "outputs": [],
   "source": [
    "\n",
    "def flip_labels(dataloader):\n",
    "    noisy_labels = []\n",
    "    for _, label in dataloader:\n",
    "        # Randomly flip the label according to the confusion matrix\n",
    "        noisy_label = np.random.choice(np.arange(len(confusion_matrix)), p=confusion_matrix[label])\n",
    "        noisy_labels.append(noisy_label)\n",
    "    return noisy_labels\n",
    "\n",
    "# Apply noise to the training labels\n",
    "noisy_train_labels = flip_labels(mnist_trainloader)\n"
   ]
  }
 ],
 "metadata": {
  "kernelspec": {
   "display_name": "Python 3",
   "language": "python",
   "name": "python3"
  },
  "language_info": {
   "codemirror_mode": {
    "name": "ipython",
    "version": 3
   },
   "file_extension": ".py",
   "mimetype": "text/x-python",
   "name": "python",
   "nbconvert_exporter": "python",
   "pygments_lexer": "ipython3",
   "version": "3.9.7"
  },
  "orig_nbformat": 4
 },
 "nbformat": 4,
 "nbformat_minor": 2
}
